{
  "nbformat": 4,
  "nbformat_minor": 0,
  "metadata": {
    "colab": {
      "name": "SBI_Pred_14062022_R.ipynb",
      "provenance": [],
      "collapsed_sections": []
    },
    "kernelspec": {
      "name": "python3",
      "display_name": "Python 3"
    },
    "language_info": {
      "name": "python"
    }
  },
  "cells": [
    {
      "cell_type": "code",
      "execution_count": 13,
      "metadata": {
        "id": "U25H387H2z_V"
      },
      "outputs": [],
      "source": [
        "import pandas as pd\n",
        "from sklearn.preprocessing import MinMaxScaler                   \n",
        "from tensorflow.keras import Sequential                             \n",
        "from tensorflow.keras.layers import LSTM,Dense,Dropout,Activation\n",
        "import numpy as np\n",
        "import plotly.graph_objects as go"
      ]
    },
    {
      "cell_type": "code",
      "source": [
        "df = pd.read_csv(\"Dataset_10Jun22.csv\")\n",
        "print(len(df))\n",
        "df.head() "
      ],
      "metadata": {
        "colab": {
          "base_uri": "https://localhost:8080/",
          "height": 514
        },
        "id": "DCF-vo_J23R9",
        "outputId": "f97ad571-352c-45f4-fd19-559047cc2937"
      },
      "execution_count": 14,
      "outputs": [
        {
          "output_type": "stream",
          "name": "stdout",
          "text": [
            "1100\n"
          ]
        },
        {
          "output_type": "execute_result",
          "data": {
            "text/plain": [
              "  Symbol Series       Date  Prev Close  Open Price  High Price  Low Price  \\\n",
              "0   SBIN     EQ  01-Jan-18      309.90       310.6      312.75     306.30   \n",
              "1   SBIN     EQ  02-Jan-18      307.10       309.0      309.00     301.35   \n",
              "2   SBIN     EQ  03-Jan-18      303.25       305.3      306.45     302.15   \n",
              "3   SBIN     EQ  04-Jan-18      302.85       304.5      310.20     303.15   \n",
              "4   SBIN     EQ  05-Jan-18      308.50       311.4      311.40     305.60   \n",
              "\n",
              "   Last Price  Close Price  Average Price  Total Traded Quantity  \\\n",
              "0      306.75       307.10         309.08               12182400   \n",
              "1      303.00       303.25         304.00               14797364   \n",
              "2      302.80       302.85         304.32               13857373   \n",
              "3      309.25       308.50         307.63               24517099   \n",
              "4      307.25       306.35         308.05               14580575   \n",
              "\n",
              "       Turnover  No. of Trades  Deliverable Qty  % Dly Qt to Traded Qty  \n",
              "0  3.765315e+09          75769          5697288                   46.77  \n",
              "1  4.498328e+09         100195          5698196                   38.51  \n",
              "2  4.217070e+09         117207          6941140                   50.09  \n",
              "3  7.542211e+09         140513         10508054                   42.86  \n",
              "4  4.491544e+09          91829          4896408                   33.58  "
            ],
            "text/html": [
              "\n",
              "  <div id=\"df-59985fb9-1659-4a08-a779-60c8df8e7ecb\">\n",
              "    <div class=\"colab-df-container\">\n",
              "      <div>\n",
              "<style scoped>\n",
              "    .dataframe tbody tr th:only-of-type {\n",
              "        vertical-align: middle;\n",
              "    }\n",
              "\n",
              "    .dataframe tbody tr th {\n",
              "        vertical-align: top;\n",
              "    }\n",
              "\n",
              "    .dataframe thead th {\n",
              "        text-align: right;\n",
              "    }\n",
              "</style>\n",
              "<table border=\"1\" class=\"dataframe\">\n",
              "  <thead>\n",
              "    <tr style=\"text-align: right;\">\n",
              "      <th></th>\n",
              "      <th>Symbol</th>\n",
              "      <th>Series</th>\n",
              "      <th>Date</th>\n",
              "      <th>Prev Close</th>\n",
              "      <th>Open Price</th>\n",
              "      <th>High Price</th>\n",
              "      <th>Low Price</th>\n",
              "      <th>Last Price</th>\n",
              "      <th>Close Price</th>\n",
              "      <th>Average Price</th>\n",
              "      <th>Total Traded Quantity</th>\n",
              "      <th>Turnover</th>\n",
              "      <th>No. of Trades</th>\n",
              "      <th>Deliverable Qty</th>\n",
              "      <th>% Dly Qt to Traded Qty</th>\n",
              "    </tr>\n",
              "  </thead>\n",
              "  <tbody>\n",
              "    <tr>\n",
              "      <th>0</th>\n",
              "      <td>SBIN</td>\n",
              "      <td>EQ</td>\n",
              "      <td>01-Jan-18</td>\n",
              "      <td>309.90</td>\n",
              "      <td>310.6</td>\n",
              "      <td>312.75</td>\n",
              "      <td>306.30</td>\n",
              "      <td>306.75</td>\n",
              "      <td>307.10</td>\n",
              "      <td>309.08</td>\n",
              "      <td>12182400</td>\n",
              "      <td>3.765315e+09</td>\n",
              "      <td>75769</td>\n",
              "      <td>5697288</td>\n",
              "      <td>46.77</td>\n",
              "    </tr>\n",
              "    <tr>\n",
              "      <th>1</th>\n",
              "      <td>SBIN</td>\n",
              "      <td>EQ</td>\n",
              "      <td>02-Jan-18</td>\n",
              "      <td>307.10</td>\n",
              "      <td>309.0</td>\n",
              "      <td>309.00</td>\n",
              "      <td>301.35</td>\n",
              "      <td>303.00</td>\n",
              "      <td>303.25</td>\n",
              "      <td>304.00</td>\n",
              "      <td>14797364</td>\n",
              "      <td>4.498328e+09</td>\n",
              "      <td>100195</td>\n",
              "      <td>5698196</td>\n",
              "      <td>38.51</td>\n",
              "    </tr>\n",
              "    <tr>\n",
              "      <th>2</th>\n",
              "      <td>SBIN</td>\n",
              "      <td>EQ</td>\n",
              "      <td>03-Jan-18</td>\n",
              "      <td>303.25</td>\n",
              "      <td>305.3</td>\n",
              "      <td>306.45</td>\n",
              "      <td>302.15</td>\n",
              "      <td>302.80</td>\n",
              "      <td>302.85</td>\n",
              "      <td>304.32</td>\n",
              "      <td>13857373</td>\n",
              "      <td>4.217070e+09</td>\n",
              "      <td>117207</td>\n",
              "      <td>6941140</td>\n",
              "      <td>50.09</td>\n",
              "    </tr>\n",
              "    <tr>\n",
              "      <th>3</th>\n",
              "      <td>SBIN</td>\n",
              "      <td>EQ</td>\n",
              "      <td>04-Jan-18</td>\n",
              "      <td>302.85</td>\n",
              "      <td>304.5</td>\n",
              "      <td>310.20</td>\n",
              "      <td>303.15</td>\n",
              "      <td>309.25</td>\n",
              "      <td>308.50</td>\n",
              "      <td>307.63</td>\n",
              "      <td>24517099</td>\n",
              "      <td>7.542211e+09</td>\n",
              "      <td>140513</td>\n",
              "      <td>10508054</td>\n",
              "      <td>42.86</td>\n",
              "    </tr>\n",
              "    <tr>\n",
              "      <th>4</th>\n",
              "      <td>SBIN</td>\n",
              "      <td>EQ</td>\n",
              "      <td>05-Jan-18</td>\n",
              "      <td>308.50</td>\n",
              "      <td>311.4</td>\n",
              "      <td>311.40</td>\n",
              "      <td>305.60</td>\n",
              "      <td>307.25</td>\n",
              "      <td>306.35</td>\n",
              "      <td>308.05</td>\n",
              "      <td>14580575</td>\n",
              "      <td>4.491544e+09</td>\n",
              "      <td>91829</td>\n",
              "      <td>4896408</td>\n",
              "      <td>33.58</td>\n",
              "    </tr>\n",
              "  </tbody>\n",
              "</table>\n",
              "</div>\n",
              "      <button class=\"colab-df-convert\" onclick=\"convertToInteractive('df-59985fb9-1659-4a08-a779-60c8df8e7ecb')\"\n",
              "              title=\"Convert this dataframe to an interactive table.\"\n",
              "              style=\"display:none;\">\n",
              "        \n",
              "  <svg xmlns=\"http://www.w3.org/2000/svg\" height=\"24px\"viewBox=\"0 0 24 24\"\n",
              "       width=\"24px\">\n",
              "    <path d=\"M0 0h24v24H0V0z\" fill=\"none\"/>\n",
              "    <path d=\"M18.56 5.44l.94 2.06.94-2.06 2.06-.94-2.06-.94-.94-2.06-.94 2.06-2.06.94zm-11 1L8.5 8.5l.94-2.06 2.06-.94-2.06-.94L8.5 2.5l-.94 2.06-2.06.94zm10 10l.94 2.06.94-2.06 2.06-.94-2.06-.94-.94-2.06-.94 2.06-2.06.94z\"/><path d=\"M17.41 7.96l-1.37-1.37c-.4-.4-.92-.59-1.43-.59-.52 0-1.04.2-1.43.59L10.3 9.45l-7.72 7.72c-.78.78-.78 2.05 0 2.83L4 21.41c.39.39.9.59 1.41.59.51 0 1.02-.2 1.41-.59l7.78-7.78 2.81-2.81c.8-.78.8-2.07 0-2.86zM5.41 20L4 18.59l7.72-7.72 1.47 1.35L5.41 20z\"/>\n",
              "  </svg>\n",
              "      </button>\n",
              "      \n",
              "  <style>\n",
              "    .colab-df-container {\n",
              "      display:flex;\n",
              "      flex-wrap:wrap;\n",
              "      gap: 12px;\n",
              "    }\n",
              "\n",
              "    .colab-df-convert {\n",
              "      background-color: #E8F0FE;\n",
              "      border: none;\n",
              "      border-radius: 50%;\n",
              "      cursor: pointer;\n",
              "      display: none;\n",
              "      fill: #1967D2;\n",
              "      height: 32px;\n",
              "      padding: 0 0 0 0;\n",
              "      width: 32px;\n",
              "    }\n",
              "\n",
              "    .colab-df-convert:hover {\n",
              "      background-color: #E2EBFA;\n",
              "      box-shadow: 0px 1px 2px rgba(60, 64, 67, 0.3), 0px 1px 3px 1px rgba(60, 64, 67, 0.15);\n",
              "      fill: #174EA6;\n",
              "    }\n",
              "\n",
              "    [theme=dark] .colab-df-convert {\n",
              "      background-color: #3B4455;\n",
              "      fill: #D2E3FC;\n",
              "    }\n",
              "\n",
              "    [theme=dark] .colab-df-convert:hover {\n",
              "      background-color: #434B5C;\n",
              "      box-shadow: 0px 1px 3px 1px rgba(0, 0, 0, 0.15);\n",
              "      filter: drop-shadow(0px 1px 2px rgba(0, 0, 0, 0.3));\n",
              "      fill: #FFFFFF;\n",
              "    }\n",
              "  </style>\n",
              "\n",
              "      <script>\n",
              "        const buttonEl =\n",
              "          document.querySelector('#df-59985fb9-1659-4a08-a779-60c8df8e7ecb button.colab-df-convert');\n",
              "        buttonEl.style.display =\n",
              "          google.colab.kernel.accessAllowed ? 'block' : 'none';\n",
              "\n",
              "        async function convertToInteractive(key) {\n",
              "          const element = document.querySelector('#df-59985fb9-1659-4a08-a779-60c8df8e7ecb');\n",
              "          const dataTable =\n",
              "            await google.colab.kernel.invokeFunction('convertToInteractive',\n",
              "                                                     [key], {});\n",
              "          if (!dataTable) return;\n",
              "\n",
              "          const docLinkHtml = 'Like what you see? Visit the ' +\n",
              "            '<a target=\"_blank\" href=https://colab.research.google.com/notebooks/data_table.ipynb>data table notebook</a>'\n",
              "            + ' to learn more about interactive tables.';\n",
              "          element.innerHTML = '';\n",
              "          dataTable['output_type'] = 'display_data';\n",
              "          await google.colab.output.renderOutput(dataTable, element);\n",
              "          const docLink = document.createElement('div');\n",
              "          docLink.innerHTML = docLinkHtml;\n",
              "          element.appendChild(docLink);\n",
              "        }\n",
              "      </script>\n",
              "    </div>\n",
              "  </div>\n",
              "  "
            ]
          },
          "metadata": {},
          "execution_count": 14
        }
      ]
    },
    {
      "cell_type": "code",
      "source": [
        "Open_df = df[['Open Price','Total Traded Quantity','No. of Trades','Deliverable Qty']]"
      ],
      "metadata": {
        "id": "PHvDSbG53pgk"
      },
      "execution_count": 15,
      "outputs": []
    },
    {
      "cell_type": "code",
      "source": [
        "y_data = Open_df['Open Price']\n",
        "X_data = Open_df[['Open Price','Total Traded Quantity','No. of Trades','Deliverable Qty']]"
      ],
      "metadata": {
        "id": "-_bHGEpx5qW9"
      },
      "execution_count": 16,
      "outputs": []
    },
    {
      "cell_type": "code",
      "source": [
        "X_data.head()"
      ],
      "metadata": {
        "colab": {
          "base_uri": "https://localhost:8080/",
          "height": 206
        },
        "id": "PfYpcNY5sQX3",
        "outputId": "2a8c2c0e-1ef0-4fd1-b3ce-62d7d8a6db03"
      },
      "execution_count": 17,
      "outputs": [
        {
          "output_type": "execute_result",
          "data": {
            "text/plain": [
              "   Open Price  Total Traded Quantity  No. of Trades  Deliverable Qty\n",
              "0       310.6               12182400          75769          5697288\n",
              "1       309.0               14797364         100195          5698196\n",
              "2       305.3               13857373         117207          6941140\n",
              "3       304.5               24517099         140513         10508054\n",
              "4       311.4               14580575          91829          4896408"
            ],
            "text/html": [
              "\n",
              "  <div id=\"df-00071c71-7063-41cf-8b0f-ca17a83b3f46\">\n",
              "    <div class=\"colab-df-container\">\n",
              "      <div>\n",
              "<style scoped>\n",
              "    .dataframe tbody tr th:only-of-type {\n",
              "        vertical-align: middle;\n",
              "    }\n",
              "\n",
              "    .dataframe tbody tr th {\n",
              "        vertical-align: top;\n",
              "    }\n",
              "\n",
              "    .dataframe thead th {\n",
              "        text-align: right;\n",
              "    }\n",
              "</style>\n",
              "<table border=\"1\" class=\"dataframe\">\n",
              "  <thead>\n",
              "    <tr style=\"text-align: right;\">\n",
              "      <th></th>\n",
              "      <th>Open Price</th>\n",
              "      <th>Total Traded Quantity</th>\n",
              "      <th>No. of Trades</th>\n",
              "      <th>Deliverable Qty</th>\n",
              "    </tr>\n",
              "  </thead>\n",
              "  <tbody>\n",
              "    <tr>\n",
              "      <th>0</th>\n",
              "      <td>310.6</td>\n",
              "      <td>12182400</td>\n",
              "      <td>75769</td>\n",
              "      <td>5697288</td>\n",
              "    </tr>\n",
              "    <tr>\n",
              "      <th>1</th>\n",
              "      <td>309.0</td>\n",
              "      <td>14797364</td>\n",
              "      <td>100195</td>\n",
              "      <td>5698196</td>\n",
              "    </tr>\n",
              "    <tr>\n",
              "      <th>2</th>\n",
              "      <td>305.3</td>\n",
              "      <td>13857373</td>\n",
              "      <td>117207</td>\n",
              "      <td>6941140</td>\n",
              "    </tr>\n",
              "    <tr>\n",
              "      <th>3</th>\n",
              "      <td>304.5</td>\n",
              "      <td>24517099</td>\n",
              "      <td>140513</td>\n",
              "      <td>10508054</td>\n",
              "    </tr>\n",
              "    <tr>\n",
              "      <th>4</th>\n",
              "      <td>311.4</td>\n",
              "      <td>14580575</td>\n",
              "      <td>91829</td>\n",
              "      <td>4896408</td>\n",
              "    </tr>\n",
              "  </tbody>\n",
              "</table>\n",
              "</div>\n",
              "      <button class=\"colab-df-convert\" onclick=\"convertToInteractive('df-00071c71-7063-41cf-8b0f-ca17a83b3f46')\"\n",
              "              title=\"Convert this dataframe to an interactive table.\"\n",
              "              style=\"display:none;\">\n",
              "        \n",
              "  <svg xmlns=\"http://www.w3.org/2000/svg\" height=\"24px\"viewBox=\"0 0 24 24\"\n",
              "       width=\"24px\">\n",
              "    <path d=\"M0 0h24v24H0V0z\" fill=\"none\"/>\n",
              "    <path d=\"M18.56 5.44l.94 2.06.94-2.06 2.06-.94-2.06-.94-.94-2.06-.94 2.06-2.06.94zm-11 1L8.5 8.5l.94-2.06 2.06-.94-2.06-.94L8.5 2.5l-.94 2.06-2.06.94zm10 10l.94 2.06.94-2.06 2.06-.94-2.06-.94-.94-2.06-.94 2.06-2.06.94z\"/><path d=\"M17.41 7.96l-1.37-1.37c-.4-.4-.92-.59-1.43-.59-.52 0-1.04.2-1.43.59L10.3 9.45l-7.72 7.72c-.78.78-.78 2.05 0 2.83L4 21.41c.39.39.9.59 1.41.59.51 0 1.02-.2 1.41-.59l7.78-7.78 2.81-2.81c.8-.78.8-2.07 0-2.86zM5.41 20L4 18.59l7.72-7.72 1.47 1.35L5.41 20z\"/>\n",
              "  </svg>\n",
              "      </button>\n",
              "      \n",
              "  <style>\n",
              "    .colab-df-container {\n",
              "      display:flex;\n",
              "      flex-wrap:wrap;\n",
              "      gap: 12px;\n",
              "    }\n",
              "\n",
              "    .colab-df-convert {\n",
              "      background-color: #E8F0FE;\n",
              "      border: none;\n",
              "      border-radius: 50%;\n",
              "      cursor: pointer;\n",
              "      display: none;\n",
              "      fill: #1967D2;\n",
              "      height: 32px;\n",
              "      padding: 0 0 0 0;\n",
              "      width: 32px;\n",
              "    }\n",
              "\n",
              "    .colab-df-convert:hover {\n",
              "      background-color: #E2EBFA;\n",
              "      box-shadow: 0px 1px 2px rgba(60, 64, 67, 0.3), 0px 1px 3px 1px rgba(60, 64, 67, 0.15);\n",
              "      fill: #174EA6;\n",
              "    }\n",
              "\n",
              "    [theme=dark] .colab-df-convert {\n",
              "      background-color: #3B4455;\n",
              "      fill: #D2E3FC;\n",
              "    }\n",
              "\n",
              "    [theme=dark] .colab-df-convert:hover {\n",
              "      background-color: #434B5C;\n",
              "      box-shadow: 0px 1px 3px 1px rgba(0, 0, 0, 0.15);\n",
              "      filter: drop-shadow(0px 1px 2px rgba(0, 0, 0, 0.3));\n",
              "      fill: #FFFFFF;\n",
              "    }\n",
              "  </style>\n",
              "\n",
              "      <script>\n",
              "        const buttonEl =\n",
              "          document.querySelector('#df-00071c71-7063-41cf-8b0f-ca17a83b3f46 button.colab-df-convert');\n",
              "        buttonEl.style.display =\n",
              "          google.colab.kernel.accessAllowed ? 'block' : 'none';\n",
              "\n",
              "        async function convertToInteractive(key) {\n",
              "          const element = document.querySelector('#df-00071c71-7063-41cf-8b0f-ca17a83b3f46');\n",
              "          const dataTable =\n",
              "            await google.colab.kernel.invokeFunction('convertToInteractive',\n",
              "                                                     [key], {});\n",
              "          if (!dataTable) return;\n",
              "\n",
              "          const docLinkHtml = 'Like what you see? Visit the ' +\n",
              "            '<a target=\"_blank\" href=https://colab.research.google.com/notebooks/data_table.ipynb>data table notebook</a>'\n",
              "            + ' to learn more about interactive tables.';\n",
              "          element.innerHTML = '';\n",
              "          dataTable['output_type'] = 'display_data';\n",
              "          await google.colab.output.renderOutput(dataTable, element);\n",
              "          const docLink = document.createElement('div');\n",
              "          docLink.innerHTML = docLinkHtml;\n",
              "          element.appendChild(docLink);\n",
              "        }\n",
              "      </script>\n",
              "    </div>\n",
              "  </div>\n",
              "  "
            ]
          },
          "metadata": {},
          "execution_count": 17
        }
      ]
    },
    {
      "cell_type": "code",
      "source": [
        "X_data_arr = np.asarray(X_data)\n",
        "y_data_arr = np.asarray(y_data)"
      ],
      "metadata": {
        "id": "tAh4AvUA5VLF"
      },
      "execution_count": 18,
      "outputs": []
    },
    {
      "cell_type": "code",
      "source": [
        "X_data_arr"
      ],
      "metadata": {
        "colab": {
          "base_uri": "https://localhost:8080/"
        },
        "id": "qelYCHco6nQt",
        "outputId": "e5d44f5d-8aa6-4345-fa49-2848c6c30279"
      },
      "execution_count": 19,
      "outputs": [
        {
          "output_type": "execute_result",
          "data": {
            "text/plain": [
              "array([[3.1060000e+02, 1.2182400e+07, 7.5769000e+04, 5.6972880e+06],\n",
              "       [3.0900000e+02, 1.4797364e+07, 1.0019500e+05, 5.6981960e+06],\n",
              "       [3.0530000e+02, 1.3857373e+07, 1.1720700e+05, 6.9411400e+06],\n",
              "       ...,\n",
              "       [4.6660000e+02, 1.7168871e+07, 1.9200200e+05, 6.5979930e+06],\n",
              "       [4.6895000e+02, 1.2635601e+07, 1.5825900e+05, 5.4134140e+06],\n",
              "       [4.6200000e+02, 8.6211040e+06, 1.2782800e+05, 3.0622010e+06]])"
            ]
          },
          "metadata": {},
          "execution_count": 19
        }
      ]
    },
    {
      "cell_type": "code",
      "source": [
        "y_data_arr"
      ],
      "metadata": {
        "colab": {
          "base_uri": "https://localhost:8080/"
        },
        "id": "aM8G2d8g6tjk",
        "outputId": "d222f494-3fcf-4cfb-cb51-415ccf81c150"
      },
      "execution_count": 20,
      "outputs": [
        {
          "output_type": "execute_result",
          "data": {
            "text/plain": [
              "array([310.6 , 309.  , 305.3 , ..., 466.6 , 468.95, 462.  ])"
            ]
          },
          "metadata": {},
          "execution_count": 20
        }
      ]
    },
    {
      "cell_type": "code",
      "source": [
        "# Reshaping to automatically make it a 2d-array which is the input for sequential model\n",
        "y_data_arr = y_data_arr.reshape(-1, 1)\n",
        "y_data_arr"
      ],
      "metadata": {
        "colab": {
          "base_uri": "https://localhost:8080/"
        },
        "id": "j5yTWyho6xVE",
        "outputId": "7091e754-5994-497b-cb6e-94469a5310da"
      },
      "execution_count": 21,
      "outputs": [
        {
          "output_type": "execute_result",
          "data": {
            "text/plain": [
              "array([[310.6 ],\n",
              "       [309.  ],\n",
              "       [305.3 ],\n",
              "       ...,\n",
              "       [466.6 ],\n",
              "       [468.95],\n",
              "       [462.  ]])"
            ]
          },
          "metadata": {},
          "execution_count": 21
        }
      ]
    },
    {
      "cell_type": "code",
      "source": [
        "# We scale the data to make the data modelling easier\n",
        "x_scaler = MinMaxScaler(feature_range = (0, 1))\n",
        "y_scaler = MinMaxScaler(feature_range = (0, 1))\n",
        "x_scaled_data = x_scaler.fit_transform(X_data_arr)\n",
        "y_scaled_data = y_scaler.fit_transform(y_data_arr)"
      ],
      "metadata": {
        "id": "5lk5_x007ATB"
      },
      "execution_count": 22,
      "outputs": []
    },
    {
      "cell_type": "code",
      "source": [
        "# We find the index for train_test_split as spefied ratio by the user above in the parameters\n",
        "train_test_split = 0.80\n",
        "training_data_len = int(len(df) * train_test_split)\n",
        "training_data_len"
      ],
      "metadata": {
        "colab": {
          "base_uri": "https://localhost:8080/"
        },
        "id": "a5o4WkRG7T5l",
        "outputId": "fdd76fa0-7f4e-46a2-ae06-f834b3f03bba"
      },
      "execution_count": 23,
      "outputs": [
        {
          "output_type": "execute_result",
          "data": {
            "text/plain": [
              "880"
            ]
          },
          "metadata": {},
          "execution_count": 23
        }
      ]
    },
    {
      "cell_type": "code",
      "source": [
        "x_train_data = x_scaled_data[0:training_data_len,:]\n",
        "print(\" Shape of x_train_data\")\n",
        "print(x_train_data.shape)\n",
        "y_train_data = y_scaled_data[0:training_data_len,:]\n",
        "print(\" Shape of y_train_data\")\n",
        "print(y_train_data.shape)"
      ],
      "metadata": {
        "colab": {
          "base_uri": "https://localhost:8080/"
        },
        "id": "IC3yGQ1o8HmF",
        "outputId": "6c450e55-4f24-405b-8c33-46782cf779ba"
      },
      "execution_count": 24,
      "outputs": [
        {
          "output_type": "stream",
          "name": "stdout",
          "text": [
            " Shape of x_train_data\n",
            "(880, 4)\n",
            " Shape of y_train_data\n",
            "(880, 1)\n"
          ]
        }
      ]
    },
    {
      "cell_type": "code",
      "source": [
        "time_step = 30 #to predict the first test value, we need previous 30 days data\n",
        "x_test_data = x_scaled_data[training_data_len-time_step:]\n",
        "y_test_data = y_scaled_data[training_data_len-time_step:]\n",
        "print(\" Shape of x_test_data\")\n",
        "print(x_test_data.shape)\n",
        "print(\" Shape of y_test_data\")\n",
        "print(y_test_data.shape)"
      ],
      "metadata": {
        "colab": {
          "base_uri": "https://localhost:8080/"
        },
        "id": "lzguv33b8FQu",
        "outputId": "a5bd4edd-3f5a-4302-81ee-403a6d96d0c4"
      },
      "execution_count": 25,
      "outputs": [
        {
          "output_type": "stream",
          "name": "stdout",
          "text": [
            " Shape of x_test_data\n",
            "(250, 4)\n",
            " Shape of y_test_data\n",
            "(250, 1)\n"
          ]
        }
      ]
    },
    {
      "cell_type": "code",
      "source": [
        "#To get the new datasets based on the sliding window\n",
        "def create_multivariate_dataset(x_dataset, y_dataset, time_step = 30):\n",
        "  dataX, dataY = [], []\n",
        "  for i in range(len(x_dataset) - time_step) :\n",
        "    dataX.append(x_dataset[i: (i + time_step), 0])\n",
        "  for i in range(len(y_dataset) - time_step) :\n",
        "    dataY. append (y_dataset[i + time_step, 0])\n",
        "  return np.array(dataX), np.array(dataY)"
      ],
      "metadata": {
        "id": "QuKjyfGa3bdd"
      },
      "execution_count": 26,
      "outputs": []
    },
    {
      "cell_type": "code",
      "source": [
        "# Splting dataset of time steps into train and test\n",
        "X_train, y_train = create_multivariate_dataset(x_train_data, y_train_data, time_step)\n",
        "X_test, y_test = create_multivariate_dataset(x_test_data, y_test_data, time_step)\n",
        "print(\"Shape of Training dataset\", X_train.shape, y_train.shape)\n",
        "print(\"Shape of Testing dataset\", X_test.shape, y_test.shape)"
      ],
      "metadata": {
        "colab": {
          "base_uri": "https://localhost:8080/"
        },
        "id": "gYp05LQG7-KN",
        "outputId": "05d36eb4-48da-4b44-8646-7b44522f8ea3"
      },
      "execution_count": 27,
      "outputs": [
        {
          "output_type": "stream",
          "name": "stdout",
          "text": [
            "Shape of Training dataset (850, 30) (850,)\n",
            "Shape of Testing dataset (220, 30) (220,)\n"
          ]
        }
      ]
    },
    {
      "cell_type": "code",
      "source": [
        "# Converting 2D data into 3D data\n",
        "X_train = np.reshape(X_train, (X_train.shape[0], X_train.shape[1], 1))\n",
        "X_test = np.reshape(X_test, (X_test.shape[0], X_test.shape[1], 1))\n",
        "#y_train & y_test are old values itself\n",
        "print(\"Shape of Reshaped Training dataset\", X_train.shape, y_train.shape)\n",
        "print(\"Shape of Reshaped Testing dataset\", X_test.shape, y_test.shape)"
      ],
      "metadata": {
        "colab": {
          "base_uri": "https://localhost:8080/"
        },
        "id": "uh90CkUw_wc0",
        "outputId": "3a92439c-f7c6-43ae-85a5-0ed1d7ee2165"
      },
      "execution_count": 28,
      "outputs": [
        {
          "output_type": "stream",
          "name": "stdout",
          "text": [
            "Shape of Reshaped Training dataset (850, 30, 1) (850,)\n",
            "Shape of Reshaped Testing dataset (220, 30, 1) (220,)\n"
          ]
        }
      ]
    },
    {
      "cell_type": "code",
      "source": [
        "dates = df['Date']"
      ],
      "metadata": {
        "id": "7LbOUa65BAB1"
      },
      "execution_count": 29,
      "outputs": []
    },
    {
      "cell_type": "code",
      "source": [
        "X_train.shape[1]"
      ],
      "metadata": {
        "colab": {
          "base_uri": "https://localhost:8080/"
        },
        "id": "luRvhXo6CDFQ",
        "outputId": "cd2d8080-7825-4012-e56d-1f8df9616128"
      },
      "execution_count": 30,
      "outputs": [
        {
          "output_type": "execute_result",
          "data": {
            "text/plain": [
              "30"
            ]
          },
          "metadata": {},
          "execution_count": 30
        }
      ]
    },
    {
      "cell_type": "code",
      "source": [
        "#Train the model\n",
        "\n",
        "def build_model(batch_size, epochs):\n",
        "  model = Sequential()\n",
        "  model.add(LSTM(units=32, return_sequences=True, input_shape=(X_train.shape[1], 1)))\n",
        "  model.add(LSTM(units=30, return_sequences=True))\n",
        "  model.add(LSTM(units=15, return_sequences=False))\n",
        "  model.add(Dropout(0.2))\n",
        "  model.add(Dense(1))\n",
        "  model.compile(loss = 'mse',optimizer='adam')\n",
        "  model.summary()\n",
        "\n",
        "  print(\"Model is fitting...\")\n",
        "  model.fit(X_train, y_train, batch_size=batch_size, epochs=epochs, verbose=True)\n",
        "  print(\"Model fitted!\")\n",
        "  return model\n"
      ],
      "metadata": {
        "id": "lij3FMcDDMyN"
      },
      "execution_count": 31,
      "outputs": []
    },
    {
      "cell_type": "code",
      "source": [
        "model = build_model(8, 50)"
      ],
      "metadata": {
        "colab": {
          "base_uri": "https://localhost:8080/"
        },
        "id": "leu9J85ELfhV",
        "outputId": "ade364cd-ce43-4352-d707-6003b9458566"
      },
      "execution_count": 32,
      "outputs": [
        {
          "output_type": "stream",
          "name": "stdout",
          "text": [
            "Model: \"sequential\"\n",
            "_________________________________________________________________\n",
            " Layer (type)                Output Shape              Param #   \n",
            "=================================================================\n",
            " lstm (LSTM)                 (None, 30, 32)            4352      \n",
            "                                                                 \n",
            " lstm_1 (LSTM)               (None, 30, 30)            7560      \n",
            "                                                                 \n",
            " lstm_2 (LSTM)               (None, 15)                2760      \n",
            "                                                                 \n",
            " dropout (Dropout)           (None, 15)                0         \n",
            "                                                                 \n",
            " dense (Dense)               (None, 1)                 16        \n",
            "                                                                 \n",
            "=================================================================\n",
            "Total params: 14,688\n",
            "Trainable params: 14,688\n",
            "Non-trainable params: 0\n",
            "_________________________________________________________________\n",
            "Model is fitting...\n",
            "Epoch 1/50\n",
            "107/107 [==============================] - 10s 35ms/step - loss: 0.0145\n",
            "Epoch 2/50\n",
            "107/107 [==============================] - 4s 34ms/step - loss: 0.0063\n",
            "Epoch 3/50\n",
            "107/107 [==============================] - 4s 34ms/step - loss: 0.0055\n",
            "Epoch 4/50\n",
            "107/107 [==============================] - 5s 46ms/step - loss: 0.0043\n",
            "Epoch 5/50\n",
            "107/107 [==============================] - 7s 63ms/step - loss: 0.0040\n",
            "Epoch 6/50\n",
            "107/107 [==============================] - 4s 35ms/step - loss: 0.0032\n",
            "Epoch 7/50\n",
            "107/107 [==============================] - 4s 35ms/step - loss: 0.0029\n",
            "Epoch 8/50\n",
            "107/107 [==============================] - 4s 34ms/step - loss: 0.0034\n",
            "Epoch 9/50\n",
            "107/107 [==============================] - 4s 35ms/step - loss: 0.0027\n",
            "Epoch 10/50\n",
            "107/107 [==============================] - 4s 35ms/step - loss: 0.0029\n",
            "Epoch 11/50\n",
            "107/107 [==============================] - 4s 34ms/step - loss: 0.0026\n",
            "Epoch 12/50\n",
            "107/107 [==============================] - 4s 34ms/step - loss: 0.0024\n",
            "Epoch 13/50\n",
            "107/107 [==============================] - 4s 34ms/step - loss: 0.0022\n",
            "Epoch 14/50\n",
            "107/107 [==============================] - 4s 34ms/step - loss: 0.0023\n",
            "Epoch 15/50\n",
            "107/107 [==============================] - 4s 41ms/step - loss: 0.0022\n",
            "Epoch 16/50\n",
            "107/107 [==============================] - 4s 34ms/step - loss: 0.0020\n",
            "Epoch 17/50\n",
            "107/107 [==============================] - 4s 33ms/step - loss: 0.0017\n",
            "Epoch 18/50\n",
            "107/107 [==============================] - 4s 34ms/step - loss: 0.0018\n",
            "Epoch 19/50\n",
            "107/107 [==============================] - 4s 34ms/step - loss: 0.0016\n",
            "Epoch 20/50\n",
            "107/107 [==============================] - 4s 34ms/step - loss: 0.0017\n",
            "Epoch 21/50\n",
            "107/107 [==============================] - 4s 34ms/step - loss: 0.0017\n",
            "Epoch 22/50\n",
            "107/107 [==============================] - 4s 33ms/step - loss: 0.0016\n",
            "Epoch 23/50\n",
            "107/107 [==============================] - 4s 34ms/step - loss: 0.0014\n",
            "Epoch 24/50\n",
            "107/107 [==============================] - 4s 33ms/step - loss: 0.0015\n",
            "Epoch 25/50\n",
            "107/107 [==============================] - 4s 34ms/step - loss: 0.0014\n",
            "Epoch 26/50\n",
            "107/107 [==============================] - 4s 34ms/step - loss: 0.0015\n",
            "Epoch 27/50\n",
            "107/107 [==============================] - 4s 34ms/step - loss: 0.0012\n",
            "Epoch 28/50\n",
            "107/107 [==============================] - 4s 35ms/step - loss: 0.0012\n",
            "Epoch 29/50\n",
            "107/107 [==============================] - 4s 34ms/step - loss: 0.0012\n",
            "Epoch 30/50\n",
            "107/107 [==============================] - 4s 34ms/step - loss: 0.0011\n",
            "Epoch 31/50\n",
            "107/107 [==============================] - 4s 35ms/step - loss: 0.0010\n",
            "Epoch 32/50\n",
            "107/107 [==============================] - 4s 38ms/step - loss: 0.0011\n",
            "Epoch 33/50\n",
            "107/107 [==============================] - 4s 35ms/step - loss: 0.0011\n",
            "Epoch 34/50\n",
            "107/107 [==============================] - 4s 34ms/step - loss: 0.0013\n",
            "Epoch 35/50\n",
            "107/107 [==============================] - 4s 36ms/step - loss: 0.0011\n",
            "Epoch 36/50\n",
            "107/107 [==============================] - 4s 35ms/step - loss: 0.0011\n",
            "Epoch 37/50\n",
            "107/107 [==============================] - 4s 34ms/step - loss: 0.0011\n",
            "Epoch 38/50\n",
            "107/107 [==============================] - 4s 35ms/step - loss: 0.0011\n",
            "Epoch 39/50\n",
            "107/107 [==============================] - 4s 34ms/step - loss: 9.4832e-04\n",
            "Epoch 40/50\n",
            "107/107 [==============================] - 4s 34ms/step - loss: 8.6369e-04\n",
            "Epoch 41/50\n",
            "107/107 [==============================] - 4s 34ms/step - loss: 0.0011\n",
            "Epoch 42/50\n",
            "107/107 [==============================] - 4s 34ms/step - loss: 9.9954e-04\n",
            "Epoch 43/50\n",
            "107/107 [==============================] - 4s 35ms/step - loss: 0.0011\n",
            "Epoch 44/50\n",
            "107/107 [==============================] - 4s 33ms/step - loss: 0.0010\n",
            "Epoch 45/50\n",
            "107/107 [==============================] - 4s 34ms/step - loss: 0.0010\n",
            "Epoch 46/50\n",
            "107/107 [==============================] - 4s 34ms/step - loss: 0.0010\n",
            "Epoch 47/50\n",
            "107/107 [==============================] - 4s 34ms/step - loss: 9.0812e-04\n",
            "Epoch 48/50\n",
            "107/107 [==============================] - 4s 34ms/step - loss: 9.7277e-04\n",
            "Epoch 49/50\n",
            "107/107 [==============================] - 4s 34ms/step - loss: 9.6059e-04\n",
            "Epoch 50/50\n",
            "107/107 [==============================] - 4s 35ms/step - loss: 9.4218e-04\n",
            "Model fitted!\n"
          ]
        }
      ]
    },
    {
      "cell_type": "code",
      "source": [
        "predictions = model.predict(X_test)\n",
        "predictions_data = y_scaler.inverse_transform(predictions.reshape(-1,1))\n",
        "actual_data = y_scaler.inverse_transform(y_test.reshape(-1,1))"
      ],
      "metadata": {
        "id": "zDoAm8ImQGX9"
      },
      "execution_count": 33,
      "outputs": []
    },
    {
      "cell_type": "code",
      "source": [
        "print(\"PREDICTED DATA\",\"\\t\",\"ACTUAL DATA\")\n",
        "for i in range(len(predictions_data)):\n",
        "  print(predictions_data[i][0],\"\\t\",actual_data[i][0])"
      ],
      "metadata": {
        "colab": {
          "base_uri": "https://localhost:8080/"
        },
        "id": "uhx6ku52QGHt",
        "outputId": "c6123bda-b275-467e-f690-aaa411055b26"
      },
      "execution_count": 34,
      "outputs": [
        {
          "output_type": "stream",
          "name": "stdout",
          "text": [
            "PREDICTED DATA \t ACTUAL DATA\n",
            "420.19424 \t 422.8999999999999\n",
            "417.55722 \t 427.8\n",
            "420.388 \t 424.15\n",
            "418.8185 \t 430.0\n",
            "422.42697 \t 425.99999999999994\n",
            "420.6543 \t 441.5\n",
            "432.71616 \t 434.75\n",
            "431.05762 \t 434.95\n",
            "427.3493 \t 448.65\n",
            "439.87592 \t 461.0\n",
            "455.93912 \t 443.7\n",
            "440.442 \t 437.90000000000003\n",
            "427.64886 \t 434.3999999999999\n",
            "426.76495 \t 429.8\n",
            "425.69376 \t 430.0\n",
            "424.6457 \t 427.59999999999997\n",
            "421.6837 \t 430.0\n",
            "422.58975 \t 424.85\n",
            "418.8648 \t 422.15000000000003\n",
            "414.85986 \t 415.0\n",
            "408.56244 \t 411.09999999999997\n",
            "404.18805 \t 409.49999999999994\n",
            "402.90942 \t 419.0\n",
            "411.32578 \t 414.49999999999994\n",
            "410.2756 \t 410.34999999999997\n",
            "403.75812 \t 414.4\n",
            "405.75778 \t 423.8500000000001\n",
            "416.7038 \t 427.49999999999994\n",
            "422.70294 \t 431.40000000000003\n",
            "424.9229 \t 431.25\n",
            "424.5732 \t 432.0\n",
            "425.30762 \t 431.05000000000007\n",
            "425.36127 \t 429.0\n",
            "423.57297 \t 430.25000000000006\n",
            "424.15607 \t 430.1\n",
            "424.61172 \t 435.0\n",
            "428.623 \t 433.0\n",
            "427.74222 \t 444.8500000000001\n",
            "436.79953 \t 468.0\n",
            "460.9723 \t 449.40000000000003\n",
            "447.1974 \t 440.15000000000003\n",
            "429.5595 \t 438.9\n",
            "429.61047 \t 442.3999999999999\n",
            "437.89764 \t 451.1\n",
            "446.70312 \t 444.9\n",
            "440.01147 \t 449.2\n",
            "439.6532 \t 441.85\n",
            "435.37534 \t 459.95\n",
            "450.87625 \t 448.5\n",
            "445.38205 \t 453.8\n",
            "444.2063 \t 461.99999999999994\n",
            "453.9125 \t 465.0\n",
            "459.36472 \t 462.1000000000001\n",
            "455.06165 \t 461.9\n",
            "453.01328 \t 460.0\n",
            "452.66327 \t 470.0\n",
            "462.58966 \t 486.15000000000003\n",
            "479.9298 \t 482.00000000000006\n",
            "475.90964 \t 494.0\n",
            "482.5502 \t 500.34999999999997\n",
            "492.5662 \t 488.79999999999995\n",
            "481.4219 \t 504.90000000000003\n",
            "493.78958 \t 504.6000000000001\n",
            "499.1268 \t 506.50000000000006\n",
            "497.7178 \t 507.59999999999997\n",
            "497.47452 \t 513.7\n",
            "504.5195 \t 519.6\n",
            "511.40753 \t 501.50000000000006\n",
            "491.5617 \t 508.5\n",
            "495.09726 \t 514.8\n",
            "508.07523 \t 524.0\n",
            "516.5786 \t 531.5\n",
            "520.49945 \t 534.45\n",
            "521.8882 \t 526.25\n",
            "513.5517 \t 525.55\n",
            "513.2129 \t 522.85\n",
            "513.4514 \t 512.0\n",
            "501.9163 \t 512.4\n",
            "500.6804 \t 507.4\n",
            "498.08157 \t 493.84999999999997\n",
            "483.3506 \t 499.1\n",
            "486.80933 \t 505.99999999999994\n",
            "497.67633 \t 485.25\n",
            "476.08243 \t 495.80000000000007\n",
            "480.31683 \t 490.00000000000006\n",
            "481.8933 \t 486.25\n",
            "476.50076 \t 470.0\n",
            "459.34518 \t 468.0\n",
            "456.02197 \t 464.45\n",
            "456.57153 \t 474.5\n",
            "465.99234 \t 475.74999999999994\n",
            "467.88458 \t 473.15\n",
            "462.73523 \t 469.2\n",
            "458.17493 \t 480.9\n",
            "470.7596 \t 492.29999999999995\n",
            "485.68613 \t 488.50000000000006\n",
            "480.60922 \t 497.75\n",
            "485.5442 \t 486.0\n",
            "477.7342 \t 490.00000000000006\n",
            "479.78687 \t 488.35\n",
            "481.19153 \t 480.04999999999995\n",
            "472.2877 \t 459.00000000000006\n",
            "450.0113 \t 457.04999999999995\n",
            "446.08566 \t 450.0\n",
            "444.1011 \t 461.0\n",
            "453.08356 \t 462.6\n",
            "455.71997 \t 453.7\n",
            "444.70984 \t 461.19999999999993\n",
            "448.89307 \t 461.0\n",
            "453.51123 \t 452.75\n",
            "445.6176 \t 454.25\n",
            "444.19778 \t 461.99999999999994\n",
            "453.7701 \t 472.5\n",
            "465.95453 \t 481.90000000000003\n",
            "474.42856 \t 487.70000000000005\n",
            "478.67746 \t 493.45000000000005\n",
            "483.89337 \t 493.35\n",
            "484.85834 \t 502.99999999999994\n",
            "494.21448 \t 509.90000000000003\n",
            "502.8924 \t 510.0\n",
            "501.61078 \t 509.0\n",
            "498.6308 \t 508.00000000000006\n",
            "498.50925 \t 514.0\n",
            "505.70956 \t 505.0\n",
            "496.9573 \t 516.0\n",
            "504.82202 \t 505.29999999999995\n",
            "497.183 \t 502.4\n",
            "490.7715 \t 490.00000000000006\n",
            "479.8737 \t 503.55\n",
            "493.43582 \t 534.0\n",
            "528.40674 \t 529.0\n",
            "520.5385 \t 543.95\n",
            "526.139 \t 536.65\n",
            "524.19385 \t 537.15\n",
            "525.1779 \t 542.15\n",
            "532.3725 \t 531.9\n",
            "521.65173 \t 535.5\n",
            "522.7437 \t 534.95\n",
            "525.2258 \t 537.1\n",
            "526.44885 \t 536.25\n",
            "524.182 \t 515.0\n",
            "501.3612 \t 502.0\n",
            "487.31635 \t 526.5\n",
            "517.65906 \t 520.0\n",
            "515.42426 \t 510.1\n",
            "494.32053 \t 511.55\n",
            "495.41162 \t 500.9\n",
            "491.6667 \t 502.99999999999994\n",
            "492.5048 \t 479.99999999999994\n",
            "470.257 \t 479.99999999999994\n",
            "466.31732 \t 476.8999999999999\n",
            "468.55872 \t 478.0\n",
            "469.58826 \t 479.99999999999994\n",
            "469.92328 \t 460.3\n",
            "450.58362 \t 447.50000000000006\n",
            "434.94565 \t 438.0\n",
            "428.33148 \t 442.0\n",
            "433.78534 \t 469.9\n",
            "461.48682 \t 466.4\n",
            "461.6935 \t 471.0\n",
            "458.1739 \t 489.0\n",
            "476.9053 \t 492.99999999999994\n",
            "486.9003 \t 499.0\n",
            "489.90906 \t 502.0\n",
            "492.2362 \t 490.6\n",
            "482.0475 \t 498.5\n",
            "488.8097 \t 484.99999999999994\n",
            "479.60934 \t 491.75\n",
            "482.23145 \t 490.95\n",
            "483.95496 \t 500.00000000000006\n",
            "491.43713 \t 499.3\n",
            "490.71902 \t 494.3\n",
            "483.48514 \t 491.0\n",
            "480.0688 \t 509.3\n",
            "500.3641 \t 514.4\n",
            "508.53482 \t 507.0\n",
            "495.56592 \t 510.05\n",
            "496.17603 \t 519.5\n",
            "511.02682 \t 513.5\n",
            "506.01855 \t 512.75\n",
            "500.37842 \t 514.3\n",
            "503.53647 \t 512.0\n",
            "503.18387 \t 513.25\n",
            "503.07394 \t 512.0\n",
            "501.62405 \t 513.4\n",
            "502.75937 \t 512.9\n",
            "502.6387 \t 495.00000000000006\n",
            "484.10547 \t 499.0\n",
            "486.09674 \t 500.00000000000006\n",
            "492.49786 \t 499.15000000000003\n",
            "490.52673 \t 508.1\n",
            "496.69278 \t 492.65000000000003\n",
            "482.55585 \t 492.0\n",
            "478.64316 \t 484.99999999999994\n",
            "475.78516 \t 471.0\n",
            "462.37027 \t 477.1\n",
            "466.1108 \t 477.00000000000006\n",
            "469.74982 \t 475.25\n",
            "466.4082 \t 473.0\n",
            "462.27072 \t 469.45\n",
            "459.2954 \t 445.0\n",
            "437.22824 \t 458.3\n",
            "445.3722 \t 467.9\n",
            "462.34152 \t 449.05000000000007\n",
            "444.6013 \t 454.8500000000001\n",
            "441.00613 \t 463.1\n",
            "453.94385 \t 462.40000000000003\n",
            "456.9038 \t 461.0\n",
            "452.30334 \t 456.85\n",
            "447.36136 \t 471.4\n",
            "461.89725 \t 473.0\n",
            "468.0143 \t 474.0\n",
            "465.74655 \t 468.0\n",
            "458.7083 \t 466.8999999999999\n",
            "457.80164 \t 473.25\n",
            "465.97903 \t 464.2\n",
            "458.84863 \t 461.85\n",
            "452.48727 \t 466.6\n",
            "457.814 \t 468.95000000000005\n",
            "462.57413 \t 461.99999999999994\n"
          ]
        }
      ]
    },
    {
      "cell_type": "code",
      "source": [
        "mse_scalled = np.mean(predictions-y_test)**2\n",
        "mse = np.mean(actual_data-predictions_data)**2\n",
        "print()\n",
        "print(\"MSE_SCALLED\",mse_scalled)\n",
        "print(\"MSE\",mse)\n",
        "print()"
      ],
      "metadata": {
        "colab": {
          "base_uri": "https://localhost:8080/"
        },
        "id": "YtdW06TFQFom",
        "outputId": "17f831de-88a7-4108-f98c-d423f71096e0"
      },
      "execution_count": 35,
      "outputs": [
        {
          "output_type": "stream",
          "name": "stdout",
          "text": [
            "\n",
            "MSE_SCALLED 0.0005172742330879849\n",
            "MSE 79.48621376094228\n",
            "\n"
          ]
        }
      ]
    },
    {
      "cell_type": "code",
      "source": [
        "#Making the predictions value as list for the plot\n",
        "predict = []\n",
        "for i in predictions_data:\n",
        "  predict.append(i[0])\n",
        "predict\n",
        "\n",
        "train = []\n",
        "for dat in y_data_arr[:training_data_len]:\n",
        "  train.append(dat[0])\n",
        "\n",
        "test = []\n",
        "for dat in y_data_arr[training_data_len:]:\n",
        "  test.append(dat[0])"
      ],
      "metadata": {
        "id": "1Jlj1hj8QFgN"
      },
      "execution_count": 36,
      "outputs": []
    },
    {
      "cell_type": "code",
      "source": [
        "# Predict for the next x days given.\n",
        "count = 7 #predict for next 7 days\n",
        "next_days = []\n",
        "data_list = list(y_data_arr)\n",
        "while(count!=0):\n",
        "  last = data_list[-time_step:]\n",
        "  last_data = np.asarray(last, dtype='float32')\n",
        "  last_data = last_data.reshape(-1,1)\n",
        "  last_scalled = y_scaler.transform(last_data)\n",
        "  x_test = []\n",
        "  x_test.append(last_scalled)\n",
        "  x_test = np.array(x_test)\n",
        "  x_test = np.reshape(x_test,(x_test.shape[0],x_test.shape[1], 1))\n",
        "  prediction = model.predict(x_test)\n",
        "  prediction = y_scaler.inverse_transform(prediction)\n",
        "  next_days.append(prediction[0][0])\n",
        "  data_list.append(prediction[0])\n",
        "  count-=1\n"
      ],
      "metadata": {
        "id": "SRIMj9o4QE0t"
      },
      "execution_count": 37,
      "outputs": []
    },
    {
      "cell_type": "code",
      "source": [
        "for i in range(len(next_days)):\n",
        "  print(next_days[i])"
      ],
      "metadata": {
        "colab": {
          "base_uri": "https://localhost:8080/"
        },
        "id": "kBakVX0UWxCP",
        "outputId": "90babe0e-d1ba-4f30-c095-3b5fded13a2d"
      },
      "execution_count": 38,
      "outputs": [
        {
          "output_type": "stream",
          "name": "stdout",
          "text": [
            "454.85547\n",
            "445.26874\n",
            "436.7983\n",
            "429.47437\n",
            "422.60892\n",
            "415.69876\n",
            "408.59225\n"
          ]
        }
      ]
    },
    {
      "cell_type": "code",
      "source": [
        "predict_next_days = 7\n",
        "date_train = list(dates)[:training_data_len]\n",
        "date_test = list(dates)[training_data_len:]\n",
        "date_next = [str(i+1)+\"-Day\" for i in range(predict_next_days)]"
      ],
      "metadata": {
        "id": "o9PpFFywZ6Uf"
      },
      "execution_count": 39,
      "outputs": []
    },
    {
      "cell_type": "code",
      "source": [
        "def get_figure(title = \"SBIN Stock Graph\"):\n",
        "  [train, test, predict, next_days], [date_train, date_test, date_test, date_next], [\"Training data\", \"Testing data\", \"Tested data\", \"Predicted data\"]\n",
        "  \n",
        "  y_axis = [train, test, predict, next_days]\n",
        "  x_axis = [date_train, date_test, date_test, date_next]\n",
        "  labels = [\"Training data\", \"Test data Actual\", \"Test data Predicted\", \"Next 7 days Predicted data\"]\n",
        "\n",
        "  fig = go.Figure()\n",
        "\n",
        "  if( (len(x_axis) != len(y_axis)) ):\n",
        "    fig.show()\n",
        "\n",
        "  else:\n",
        "        \n",
        "    for i in range(len(x_axis)):\n",
        "      if(len(labels) == 0):\n",
        "        fig.add_trace(go.Scatter(x=x_axis[i], y=y_axis[i],mode='lines',name=str(i+1)+\"-value\"))\n",
        "      else:\n",
        "        fig.add_trace(go.Scatter(x=x_axis[i], y=y_axis[i],mode='lines',name=labels[i]))\n",
        "     \n",
        "  \n",
        "    fig.update_xaxes(\n",
        "      rangeslider_visible=True,\n",
        "      rangeselector=dict(\n",
        "          buttons=list([\n",
        "                        dict(count=1,\n",
        "                              label='1y',\n",
        "                              step='year',\n",
        "                              stepmode='todate'),\n",
        "                        dict(count=2,\n",
        "                              label='2y',\n",
        "                              step='year',\n",
        "                              stepmode='todate'),\n",
        "                        dict(count=3,\n",
        "                              label='3y',\n",
        "                              step='year',\n",
        "                              stepmode='todate'),\n",
        "                        dict(step='all')\n",
        "          ])\n",
        "      )\n",
        "    )\n",
        "    fig.update_layout(\n",
        "      title={'text': title,\n",
        "              'x':0.5,\n",
        "              'xanchor': 'center',\n",
        "              'yanchor': 'top'},\n",
        "      xaxis_title=\"Date\",\n",
        "      yaxis_title=\"Data\",\n",
        "    )\n",
        "    fig.show()"
      ],
      "metadata": {
        "id": "kyaHiBWwOt_t"
      },
      "execution_count": 42,
      "outputs": []
    },
    {
      "cell_type": "code",
      "source": [
        "get_figure()"
      ],
      "metadata": {
        "colab": {
          "base_uri": "https://localhost:8080/",
          "height": 542
        },
        "id": "qe-x9aDUcQom",
        "outputId": "d9bc5e55-844c-496b-c00c-bbf57d6e1d10"
      },
      "execution_count": 43,
      "outputs": [
        {
          "output_type": "display_data",
          "data": {
            "text/html": [
              "<html>\n",
              "<head><meta charset=\"utf-8\" /></head>\n",
              "<body>\n",
              "    <div>            <script src=\"https://cdnjs.cloudflare.com/ajax/libs/mathjax/2.7.5/MathJax.js?config=TeX-AMS-MML_SVG\"></script><script type=\"text/javascript\">if (window.MathJax) {MathJax.Hub.Config({SVG: {font: \"STIX-Web\"}});}</script>                <script type=\"text/javascript\">window.PlotlyConfig = {MathJaxConfig: 'local'};</script>\n",
              "        <script src=\"https://cdn.plot.ly/plotly-2.8.3.min.js\"></script>                <div id=\"1cf9e07f-6c4b-4b2e-91f1-d2b8af21d519\" class=\"plotly-graph-div\" style=\"height:525px; width:100%;\"></div>            <script type=\"text/javascript\">                                    window.PLOTLYENV=window.PLOTLYENV || {};                                    if (document.getElementById(\"1cf9e07f-6c4b-4b2e-91f1-d2b8af21d519\")) {                    Plotly.newPlot(                        \"1cf9e07f-6c4b-4b2e-91f1-d2b8af21d519\",                        [{\"mode\":\"lines\",\"name\":\"Training data\",\"x\":[\"01-Jan-18\",\"02-Jan-18\",\"03-Jan-18\",\"04-Jan-18\",\"05-Jan-18\",\"08-Jan-18\",\"09-Jan-18\",\"10-Jan-18\",\"11-Jan-18\",\"12-Jan-18\",\"15-Jan-18\",\"16-Jan-18\",\"17-Jan-18\",\"18-Jan-18\",\"19-Jan-18\",\"22-Jan-18\",\"23-Jan-18\",\"24-Jan-18\",\"25-Jan-18\",\"29-Jan-18\",\"30-Jan-18\",\"31-Jan-18\",\"01-Feb-18\",\"02-Feb-18\",\"05-Feb-18\",\"06-Feb-18\",\"07-Feb-18\",\"08-Feb-18\",\"09-Feb-18\",\"12-Feb-18\",\"14-Feb-18\",\"15-Feb-18\",\"16-Feb-18\",\"19-Feb-18\",\"20-Feb-18\",\"21-Feb-18\",\"22-Feb-18\",\"23-Feb-18\",\"26-Feb-18\",\"27-Feb-18\",\"28-Feb-18\",\"01-Mar-18\",\"05-Mar-18\",\"06-Mar-18\",\"07-Mar-18\",\"08-Mar-18\",\"09-Mar-18\",\"12-Mar-18\",\"13-Mar-18\",\"14-Mar-18\",\"15-Mar-18\",\"16-Mar-18\",\"19-Mar-18\",\"20-Mar-18\",\"21-Mar-18\",\"22-Mar-18\",\"23-Mar-18\",\"26-Mar-18\",\"27-Mar-18\",\"28-Mar-18\",\"02-Apr-18\",\"03-Apr-18\",\"04-Apr-18\",\"05-Apr-18\",\"06-Apr-18\",\"09-Apr-18\",\"10-Apr-18\",\"11-Apr-18\",\"12-Apr-18\",\"13-Apr-18\",\"16-Apr-18\",\"17-Apr-18\",\"18-Apr-18\",\"19-Apr-18\",\"20-Apr-18\",\"23-Apr-18\",\"24-Apr-18\",\"25-Apr-18\",\"26-Apr-18\",\"27-Apr-18\",\"30-Apr-18\",\"02-May-18\",\"03-May-18\",\"04-May-18\",\"07-May-18\",\"08-May-18\",\"09-May-18\",\"10-May-18\",\"11-May-18\",\"14-May-18\",\"15-May-18\",\"16-May-18\",\"17-May-18\",\"18-May-18\",\"21-May-18\",\"22-May-18\",\"23-May-18\",\"24-May-18\",\"25-May-18\",\"28-May-18\",\"29-May-18\",\"30-May-18\",\"31-May-18\",\"01-Jun-18\",\"04-Jun-18\",\"05-Jun-18\",\"06-Jun-18\",\"07-Jun-18\",\"08-Jun-18\",\"11-Jun-18\",\"12-Jun-18\",\"13-Jun-18\",\"14-Jun-18\",\"15-Jun-18\",\"18-Jun-18\",\"19-Jun-18\",\"20-Jun-18\",\"21-Jun-18\",\"22-Jun-18\",\"25-Jun-18\",\"26-Jun-18\",\"27-Jun-18\",\"28-Jun-18\",\"29-Jun-18\",\"02-Jul-18\",\"03-Jul-18\",\"04-Jul-18\",\"05-Jul-18\",\"06-Jul-18\",\"09-Jul-18\",\"10-Jul-18\",\"11-Jul-18\",\"12-Jul-18\",\"13-Jul-18\",\"16-Jul-18\",\"17-Jul-18\",\"18-Jul-18\",\"19-Jul-18\",\"20-Jul-18\",\"23-Jul-18\",\"24-Jul-18\",\"25-Jul-18\",\"26-Jul-18\",\"27-Jul-18\",\"30-Jul-18\",\"31-Jul-18\",\"01-Aug-18\",\"02-Aug-18\",\"03-Aug-18\",\"06-Aug-18\",\"07-Aug-18\",\"08-Aug-18\",\"09-Aug-18\",\"10-Aug-18\",\"13-Aug-18\",\"14-Aug-18\",\"16-Aug-18\",\"17-Aug-18\",\"20-Aug-18\",\"21-Aug-18\",\"23-Aug-18\",\"24-Aug-18\",\"27-Aug-18\",\"28-Aug-18\",\"29-Aug-18\",\"30-Aug-18\",\"31-Aug-18\",\"03-Sep-18\",\"04-Sep-18\",\"05-Sep-18\",\"06-Sep-18\",\"07-Sep-18\",\"10-Sep-18\",\"11-Sep-18\",\"12-Sep-18\",\"14-Sep-18\",\"17-Sep-18\",\"18-Sep-18\",\"19-Sep-18\",\"21-Sep-18\",\"24-Sep-18\",\"25-Sep-18\",\"26-Sep-18\",\"27-Sep-18\",\"28-Sep-18\",\"01-Oct-18\",\"03-Oct-18\",\"04-Oct-18\",\"05-Oct-18\",\"08-Oct-18\",\"09-Oct-18\",\"10-Oct-18\",\"11-Oct-18\",\"12-Oct-18\",\"15-Oct-18\",\"16-Oct-18\",\"17-Oct-18\",\"19-Oct-18\",\"22-Oct-18\",\"23-Oct-18\",\"24-Oct-18\",\"25-Oct-18\",\"26-Oct-18\",\"29-Oct-18\",\"30-Oct-18\",\"31-Oct-18\",\"01-Nov-18\",\"02-Nov-18\",\"05-Nov-18\",\"06-Nov-18\",\"07-Nov-18\",\"09-Nov-18\",\"12-Nov-18\",\"13-Nov-18\",\"14-Nov-18\",\"15-Nov-18\",\"16-Nov-18\",\"19-Nov-18\",\"20-Nov-18\",\"21-Nov-18\",\"22-Nov-18\",\"26-Nov-18\",\"27-Nov-18\",\"28-Nov-18\",\"29-Nov-18\",\"30-Nov-18\",\"03-Dec-18\",\"04-Dec-18\",\"05-Dec-18\",\"06-Dec-18\",\"07-Dec-18\",\"10-Dec-18\",\"11-Dec-18\",\"12-Dec-18\",\"13-Dec-18\",\"14-Dec-18\",\"17-Dec-18\",\"18-Dec-18\",\"19-Dec-18\",\"20-Dec-18\",\"21-Dec-18\",\"24-Dec-18\",\"26-Dec-18\",\"27-Dec-18\",\"28-Dec-18\",\"31-Dec-18\",\"01-Jan-19\",\"02-Jan-19\",\"03-Jan-19\",\"04-Jan-19\",\"07-Jan-19\",\"08-Jan-19\",\"09-Jan-19\",\"10-Jan-19\",\"11-Jan-19\",\"14-Jan-19\",\"15-Jan-19\",\"16-Jan-19\",\"17-Jan-19\",\"18-Jan-19\",\"21-Jan-19\",\"22-Jan-19\",\"23-Jan-19\",\"24-Jan-19\",\"25-Jan-19\",\"28-Jan-19\",\"29-Jan-19\",\"30-Jan-19\",\"31-Jan-19\",\"01-Feb-19\",\"04-Feb-19\",\"05-Feb-19\",\"06-Feb-19\",\"07-Feb-19\",\"08-Feb-19\",\"11-Feb-19\",\"12-Feb-19\",\"13-Feb-19\",\"14-Feb-19\",\"15-Feb-19\",\"18-Feb-19\",\"19-Feb-19\",\"20-Feb-19\",\"21-Feb-19\",\"22-Feb-19\",\"25-Feb-19\",\"26-Feb-19\",\"27-Feb-19\",\"28-Feb-19\",\"01-Mar-19\",\"05-Mar-19\",\"06-Mar-19\",\"07-Mar-19\",\"08-Mar-19\",\"11-Mar-19\",\"12-Mar-19\",\"13-Mar-19\",\"14-Mar-19\",\"15-Mar-19\",\"18-Mar-19\",\"19-Mar-19\",\"20-Mar-19\",\"22-Mar-19\",\"25-Mar-19\",\"26-Mar-19\",\"27-Mar-19\",\"28-Mar-19\",\"29-Mar-19\",\"01-Apr-19\",\"02-Apr-19\",\"03-Apr-19\",\"04-Apr-19\",\"05-Apr-19\",\"08-Apr-19\",\"09-Apr-19\",\"10-Apr-19\",\"11-Apr-19\",\"12-Apr-19\",\"15-Apr-19\",\"16-Apr-19\",\"18-Apr-19\",\"22-Apr-19\",\"23-Apr-19\",\"24-Apr-19\",\"25-Apr-19\",\"26-Apr-19\",\"30-Apr-19\",\"02-May-19\",\"03-May-19\",\"06-May-19\",\"07-May-19\",\"08-May-19\",\"09-May-19\",\"10-May-19\",\"13-May-19\",\"14-May-19\",\"15-May-19\",\"16-May-19\",\"17-May-19\",\"20-May-19\",\"21-May-19\",\"22-May-19\",\"23-May-19\",\"24-May-19\",\"27-May-19\",\"28-May-19\",\"29-May-19\",\"30-May-19\",\"31-May-19\",\"03-Jun-19\",\"04-Jun-19\",\"06-Jun-19\",\"07-Jun-19\",\"10-Jun-19\",\"11-Jun-19\",\"12-Jun-19\",\"13-Jun-19\",\"14-Jun-19\",\"17-Jun-19\",\"18-Jun-19\",\"19-Jun-19\",\"20-Jun-19\",\"21-Jun-19\",\"24-Jun-19\",\"25-Jun-19\",\"26-Jun-19\",\"27-Jun-19\",\"28-Jun-19\",\"01-Jul-19\",\"02-Jul-19\",\"03-Jul-19\",\"04-Jul-19\",\"05-Jul-19\",\"08-Jul-19\",\"09-Jul-19\",\"10-Jul-19\",\"11-Jul-19\",\"12-Jul-19\",\"15-Jul-19\",\"16-Jul-19\",\"17-Jul-19\",\"18-Jul-19\",\"19-Jul-19\",\"22-Jul-19\",\"23-Jul-19\",\"24-Jul-19\",\"25-Jul-19\",\"26-Jul-19\",\"29-Jul-19\",\"30-Jul-19\",\"31-Jul-19\",\"01-Aug-19\",\"02-Aug-19\",\"05-Aug-19\",\"06-Aug-19\",\"07-Aug-19\",\"08-Aug-19\",\"09-Aug-19\",\"13-Aug-19\",\"14-Aug-19\",\"16-Aug-19\",\"19-Aug-19\",\"20-Aug-19\",\"21-Aug-19\",\"22-Aug-19\",\"23-Aug-19\",\"26-Aug-19\",\"27-Aug-19\",\"28-Aug-19\",\"29-Aug-19\",\"30-Aug-19\",\"03-Sep-19\",\"04-Sep-19\",\"05-Sep-19\",\"06-Sep-19\",\"09-Sep-19\",\"11-Sep-19\",\"12-Sep-19\",\"13-Sep-19\",\"16-Sep-19\",\"17-Sep-19\",\"18-Sep-19\",\"19-Sep-19\",\"20-Sep-19\",\"23-Sep-19\",\"24-Sep-19\",\"25-Sep-19\",\"26-Sep-19\",\"27-Sep-19\",\"30-Sep-19\",\"01-Oct-19\",\"03-Oct-19\",\"04-Oct-19\",\"07-Oct-19\",\"09-Oct-19\",\"10-Oct-19\",\"11-Oct-19\",\"14-Oct-19\",\"15-Oct-19\",\"16-Oct-19\",\"17-Oct-19\",\"18-Oct-19\",\"22-Oct-19\",\"23-Oct-19\",\"24-Oct-19\",\"25-Oct-19\",\"27-Oct-19\",\"29-Oct-19\",\"30-Oct-19\",\"31-Oct-19\",\"01-Nov-19\",\"04-Nov-19\",\"05-Nov-19\",\"06-Nov-19\",\"07-Nov-19\",\"08-Nov-19\",\"11-Nov-19\",\"13-Nov-19\",\"14-Nov-19\",\"15-Nov-19\",\"18-Nov-19\",\"19-Nov-19\",\"20-Nov-19\",\"21-Nov-19\",\"22-Nov-19\",\"25-Nov-19\",\"26-Nov-19\",\"27-Nov-19\",\"28-Nov-19\",\"29-Nov-19\",\"02-Dec-19\",\"03-Dec-19\",\"04-Dec-19\",\"05-Dec-19\",\"06-Dec-19\",\"09-Dec-19\",\"10-Dec-19\",\"11-Dec-19\",\"12-Dec-19\",\"13-Dec-19\",\"16-Dec-19\",\"17-Dec-19\",\"18-Dec-19\",\"19-Dec-19\",\"20-Dec-19\",\"23-Dec-19\",\"24-Dec-19\",\"26-Dec-19\",\"27-Dec-19\",\"30-Dec-19\",\"31-Dec-19\",\"01-Jan-20\",\"02-Jan-20\",\"03-Jan-20\",\"06-Jan-20\",\"07-Jan-20\",\"08-Jan-20\",\"09-Jan-20\",\"10-Jan-20\",\"13-Jan-20\",\"14-Jan-20\",\"15-Jan-20\",\"16-Jan-20\",\"17-Jan-20\",\"20-Jan-20\",\"21-Jan-20\",\"22-Jan-20\",\"23-Jan-20\",\"24-Jan-20\",\"27-Jan-20\",\"28-Jan-20\",\"29-Jan-20\",\"30-Jan-20\",\"31-Jan-20\",\"01-Feb-20\",\"03-Feb-20\",\"04-Feb-20\",\"05-Feb-20\",\"06-Feb-20\",\"07-Feb-20\",\"10-Feb-20\",\"11-Feb-20\",\"12-Feb-20\",\"13-Feb-20\",\"14-Feb-20\",\"17-Feb-20\",\"18-Feb-20\",\"19-Feb-20\",\"20-Feb-20\",\"24-Feb-20\",\"25-Feb-20\",\"26-Feb-20\",\"27-Feb-20\",\"28-Feb-20\",\"02-Mar-20\",\"03-Mar-20\",\"04-Mar-20\",\"05-Mar-20\",\"06-Mar-20\",\"09-Mar-20\",\"11-Mar-20\",\"12-Mar-20\",\"13-Mar-20\",\"16-Mar-20\",\"17-Mar-20\",\"18-Mar-20\",\"19-Mar-20\",\"20-Mar-20\",\"23-Mar-20\",\"24-Mar-20\",\"25-Mar-20\",\"26-Mar-20\",\"27-Mar-20\",\"30-Mar-20\",\"31-Mar-20\",\"01-Apr-20\",\"03-Apr-20\",\"07-Apr-20\",\"08-Apr-20\",\"09-Apr-20\",\"13-Apr-20\",\"15-Apr-20\",\"16-Apr-20\",\"17-Apr-20\",\"20-Apr-20\",\"21-Apr-20\",\"22-Apr-20\",\"23-Apr-20\",\"24-Apr-20\",\"27-Apr-20\",\"28-Apr-20\",\"29-Apr-20\",\"30-Apr-20\",\"04-May-20\",\"05-May-20\",\"06-May-20\",\"07-May-20\",\"08-May-20\",\"11-May-20\",\"12-May-20\",\"13-May-20\",\"14-May-20\",\"15-May-20\",\"18-May-20\",\"19-May-20\",\"20-May-20\",\"21-May-20\",\"22-May-20\",\"26-May-20\",\"27-May-20\",\"28-May-20\",\"29-May-20\",\"01-Jun-20\",\"02-Jun-20\",\"03-Jun-20\",\"04-Jun-20\",\"05-Jun-20\",\"08-Jun-20\",\"09-Jun-20\",\"10-Jun-20\",\"11-Jun-20\",\"12-Jun-20\",\"15-Jun-20\",\"16-Jun-20\",\"17-Jun-20\",\"18-Jun-20\",\"19-Jun-20\",\"22-Jun-20\",\"23-Jun-20\",\"24-Jun-20\",\"25-Jun-20\",\"26-Jun-20\",\"29-Jun-20\",\"30-Jun-20\",\"01-Jul-20\",\"02-Jul-20\",\"03-Jul-20\",\"06-Jul-20\",\"07-Jul-20\",\"08-Jul-20\",\"09-Jul-20\",\"10-Jul-20\",\"13-Jul-20\",\"14-Jul-20\",\"15-Jul-20\",\"16-Jul-20\",\"17-Jul-20\",\"20-Jul-20\",\"21-Jul-20\",\"22-Jul-20\",\"23-Jul-20\",\"24-Jul-20\",\"27-Jul-20\",\"28-Jul-20\",\"29-Jul-20\",\"30-Jul-20\",\"31-Jul-20\",\"03-Aug-20\",\"04-Aug-20\",\"05-Aug-20\",\"06-Aug-20\",\"07-Aug-20\",\"10-Aug-20\",\"11-Aug-20\",\"12-Aug-20\",\"13-Aug-20\",\"14-Aug-20\",\"17-Aug-20\",\"18-Aug-20\",\"19-Aug-20\",\"20-Aug-20\",\"21-Aug-20\",\"24-Aug-20\",\"25-Aug-20\",\"26-Aug-20\",\"27-Aug-20\",\"28-Aug-20\",\"31-Aug-20\",\"01-Sep-20\",\"02-Sep-20\",\"03-Sep-20\",\"04-Sep-20\",\"07-Sep-20\",\"08-Sep-20\",\"09-Sep-20\",\"10-Sep-20\",\"11-Sep-20\",\"14-Sep-20\",\"15-Sep-20\",\"16-Sep-20\",\"17-Sep-20\",\"18-Sep-20\",\"21-Sep-20\",\"22-Sep-20\",\"23-Sep-20\",\"24-Sep-20\",\"25-Sep-20\",\"28-Sep-20\",\"29-Sep-20\",\"30-Sep-20\",\"01-Oct-20\",\"05-Oct-20\",\"06-Oct-20\",\"07-Oct-20\",\"08-Oct-20\",\"09-Oct-20\",\"12-Oct-20\",\"13-Oct-20\",\"14-Oct-20\",\"15-Oct-20\",\"16-Oct-20\",\"19-Oct-20\",\"20-Oct-20\",\"21-Oct-20\",\"22-Oct-20\",\"23-Oct-20\",\"26-Oct-20\",\"27-Oct-20\",\"28-Oct-20\",\"29-Oct-20\",\"30-Oct-20\",\"02-Nov-20\",\"03-Nov-20\",\"04-Nov-20\",\"05-Nov-20\",\"06-Nov-20\",\"09-Nov-20\",\"10-Nov-20\",\"11-Nov-20\",\"12-Nov-20\",\"13-Nov-20\",\"14-Nov-20\",\"17-Nov-20\",\"18-Nov-20\",\"19-Nov-20\",\"20-Nov-20\",\"23-Nov-20\",\"24-Nov-20\",\"25-Nov-20\",\"26-Nov-20\",\"27-Nov-20\",\"01-Dec-20\",\"02-Dec-20\",\"03-Dec-20\",\"04-Dec-20\",\"07-Dec-20\",\"08-Dec-20\",\"09-Dec-20\",\"10-Dec-20\",\"11-Dec-20\",\"14-Dec-20\",\"15-Dec-20\",\"16-Dec-20\",\"17-Dec-20\",\"18-Dec-20\",\"21-Dec-20\",\"22-Dec-20\",\"23-Dec-20\",\"24-Dec-20\",\"28-Dec-20\",\"29-Dec-20\",\"30-Dec-20\",\"31-Dec-20\",\"01-Jan-21\",\"04-Jan-21\",\"05-Jan-21\",\"06-Jan-21\",\"07-Jan-21\",\"08-Jan-21\",\"11-Jan-21\",\"12-Jan-21\",\"13-Jan-21\",\"14-Jan-21\",\"15-Jan-21\",\"18-Jan-21\",\"19-Jan-21\",\"20-Jan-21\",\"21-Jan-21\",\"22-Jan-21\",\"25-Jan-21\",\"27-Jan-21\",\"28-Jan-21\",\"29-Jan-21\",\"01-Feb-21\",\"02-Feb-21\",\"03-Feb-21\",\"04-Feb-21\",\"05-Feb-21\",\"08-Feb-21\",\"09-Feb-21\",\"10-Feb-21\",\"11-Feb-21\",\"12-Feb-21\",\"15-Feb-21\",\"16-Feb-21\",\"17-Feb-21\",\"18-Feb-21\",\"19-Feb-21\",\"22-Feb-21\",\"23-Feb-21\",\"24-Feb-21\",\"25-Feb-21\",\"26-Feb-21\",\"01-Mar-21\",\"02-Mar-21\",\"03-Mar-21\",\"04-Mar-21\",\"05-Mar-21\",\"08-Mar-21\",\"09-Mar-21\",\"10-Mar-21\",\"12-Mar-21\",\"15-Mar-21\",\"16-Mar-21\",\"17-Mar-21\",\"18-Mar-21\",\"19-Mar-21\",\"22-Mar-21\",\"23-Mar-21\",\"24-Mar-21\",\"25-Mar-21\",\"26-Mar-21\",\"30-Mar-21\",\"31-Mar-21\",\"01-Apr-21\",\"05-Apr-21\",\"06-Apr-21\",\"07-Apr-21\",\"08-Apr-21\",\"09-Apr-21\",\"12-Apr-21\",\"13-Apr-21\",\"15-Apr-21\",\"16-Apr-21\",\"19-Apr-21\",\"20-Apr-21\",\"22-Apr-21\",\"23-Apr-21\",\"26-Apr-21\",\"27-Apr-21\",\"28-Apr-21\",\"29-Apr-21\",\"30-Apr-21\",\"03-May-21\",\"04-May-21\",\"05-May-21\",\"06-May-21\",\"07-May-21\",\"10-May-21\",\"11-May-21\",\"12-May-21\",\"14-May-21\",\"17-May-21\",\"18-May-21\",\"19-May-21\",\"20-May-21\",\"21-May-21\",\"24-May-21\",\"25-May-21\",\"26-May-21\",\"27-May-21\",\"28-May-21\",\"31-May-21\",\"01-Jun-21\",\"02-Jun-21\",\"03-Jun-21\",\"04-Jun-21\",\"07-Jun-21\",\"08-Jun-21\",\"09-Jun-21\",\"10-Jun-21\",\"11-Jun-21\",\"14-Jun-21\",\"15-Jun-21\",\"16-Jun-21\",\"17-Jun-21\",\"18-Jun-21\",\"21-Jun-21\",\"22-Jun-21\",\"23-Jun-21\",\"24-Jun-21\",\"25-Jun-21\",\"28-Jun-21\",\"29-Jun-21\",\"30-Jun-21\",\"01-Jul-21\",\"02-Jul-21\",\"05-Jul-21\",\"06-Jul-21\",\"07-Jul-21\",\"08-Jul-21\",\"09-Jul-21\",\"12-Jul-21\",\"13-Jul-21\",\"14-Jul-21\",\"15-Jul-21\",\"16-Jul-21\",\"19-Jul-21\",\"20-Jul-21\",\"22-Jul-21\"],\"y\":[310.6,309.0,305.3,304.5,311.4,307.2,307.5,304.65,300.9,304.65,303.95,302.4,296.0,315.0,303.95,308.35,306.4,317.7,332.75,313.15,312.05,313.0,316.9,302.9,292.65,285.0,296.6,292.9,297.0,288.25,288.7,274.8,280.5,271.5,269.0,272.2,270.4,273.45,280.0,273.0,264.25,266.3,260.45,265.85,255.05,247.0,257.0,254.1,251.3,252.5,257.0,250.65,252.9,246.85,251.75,247.0,237.8,234.75,250.0,252.0,251.8,249.55,251.7,252.6,259.65,260.65,261.1,263.0,257.5,254.0,249.35,251.4,249.5,247.1,245.85,241.9,242.0,239.7,238.4,233.25,244.8,245.9,240.95,243.5,242.45,248.0,249.8,248.25,247.6,249.95,253.0,245.5,244.2,243.0,243.55,243.65,254.65,263.85,267.8,267.4,270.5,260.5,266.85,269.25,268.0,260.9,263.0,271.05,268.95,273.3,274.0,284.0,286.55,282.75,278.0,276.0,273.2,274.75,269.0,271.85,267.25,267.35,260.4,258.25,258.95,259.6,255.75,257.9,256.1,258.2,263.85,262.65,261.4,262.1,257.0,250.7,260.1,259.4,259.9,262.0,267.2,268.0,275.1,289.5,289.2,297.0,294.5,293.0,294.6,300.6,309.85,304.05,312.95,317.65,296.0,296.7,293.5,295.0,304.1,308.3,306.95,300.6,304.0,308.05,306.8,309.3,307.9,312.5,306.8,296.5,298.0,295.9,290.65,287.35,284.0,290.1,288.5,285.0,275.4,274.2,272.7,264.0,274.0,264.5,266.4,265.5,273.35,267.95,271.0,259.75,268.0,261.6,268.0,266.0,264.4,264.6,273.75,259.7,266.0,258.0,260.25,254.5,252.0,250.0,267.5,275.0,283.0,287.9,286.45,296.1,288.9,287.0,283.7,276.3,280.4,283.85,285.9,293.5,285.9,283.45,285.95,284.1,284.6,289.4,289.3,288.8,286.7,287.95,282.45,278.0,277.0,271.0,268.35,283.75,290.0,288.5,289.3,287.85,294.7,298.35,293.65,293.5,292.85,296.7,293.6,297.2,297.5,299.1,295.0,292.1,301.05,295.8,306.0,305.1,305.4,301.0,302.0,303.0,303.9,298.75,295.9,293.0,290.45,286.65,289.6,285.65,281.0,281.2,290.0,296.9,282.4,284.2,285.85,289.4,285.6,285.95,280.65,276.5,268.0,268.85,264.4,260.9,264.5,270.3,267.9,271.3,266.8,268.0,267.7,270.55,271.7,277.3,279.45,281.85,285.3,289.2,288.1,294.5,292.6,298.9,300.15,302.8,304.3,294.0,294.75,305.25,310.1,321.1,321.8,323.65,331.0,321.5,323.7,318.25,313.95,314.85,311.0,314.6,315.5,316.6,315.8,308.8,310.05,305.85,311.0,306.9,312.0,308.05,309.0,306.8,310.7,303.95,297.6,301.8,310.0,307.85,316.2,312.5,315.65,332.0,345.9,338.9,353.0,344.95,355.05,360.95,358.0,349.75,354.35,352.35,354.0,349.0,337.0,346.0,345.05,346.95,343.0,345.5,343.75,335.5,343.1,341.0,344.8,350.0,352.7,355.75,358.1,362.2,362.8,362.15,365.25,367.25,369.45,368.0,353.5,360.55,358.5,363.0,364.1,358.5,364.05,371.95,365.1,356.0,351.2,341.85,341.7,340.8,343.95,344.4,325.1,330.8,315.55,298.45,298.8,302.4,290.0,296.3,290.9,285.05,287.95,292.0,287.3,285.5,278.3,267.1,288.0,284.0,286.65,283.2,275.95,272.0,269.7,275.0,275.05,273.95,278.5,286.75,285.0,288.2,285.0,277.2,279.95,274.5,307.55,313.15,297.0,281.5,282.7,281.4,272.75,254.0,258.5,251.5,250.1,258.0,256.2,256.95,256.45,259.3,256.4,264.4,270.4,270.75,276.0,265.8,284.95,283.15,283.0,293.35,312.4,316.0,313.9,318.95,318.25,316.2,314.7,316.05,306.95,312.0,324.0,325.8,332.0,329.25,331.45,329.0,338.0,335.95,346.85,348.85,343.9,341.0,334.1,343.0,336.7,318.95,317.2,311.2,314.0,325.2,335.95,333.25,335.0,327.35,330.35,335.7,333.2,333.0,333.4,337.75,334.4,334.7,334.5,337.95,331.7,324.45,312.1,326.9,331.0,334.0,329.8,329.0,324.0,313.0,321.0,313.8,317.0,316.0,323.5,320.9,317.95,317.85,316.75,313.7,317.95,303.0,302.9,306.9,311.2,321.5,319.8,321.05,329.9,322.0,328.1,320.95,315.4,322.3,319.35,325.75,325.9,324.85,328.0,312.0,311.0,293.0,291.8,290.9,268.0,260.05,253.0,231.9,200.0,227.9,227.2,221.0,202.95,205.55,190.0,190.95,178.0,191.55,202.0,190.0,192.0,194.0,187.55,184.4,182.9,188.0,186.8,187.0,182.0,196.0,194.0,188.0,185.5,187.75,184.0,183.5,182.0,185.0,193.5,182.45,181.0,171.15,170.85,172.45,167.95,164.2,178.55,170.95,167.95,166.4,157.5,153.0,153.65,152.0,152.4,151.95,159.45,156.1,164.0,169.9,172.5,174.9,176.55,197.0,187.7,184.55,188.0,170.0,177.85,178.0,171.0,172.4,180.3,185.0,189.6,194.8,182.2,188.0,183.0,181.1,179.45,185.65,186.65,186.6,187.0,188.9,192.8,198.0,198.8,192.3,187.95,185.0,186.8,190.0,192.45,195.7,192.4,195.7,193.0,188.0,187.6,192.5,188.0,192.0,193.35,192.75,192.3,191.45,191.85,195.0,196.0,205.5,203.0,198.45,193.8,196.4,194.0,199.0,200.0,204.0,208.5,210.5,217.0,231.55,213.1,218.25,217.5,210.0,207.5,207.9,201.1,197.7,198.55,205.9,199.9,199.85,197.0,196.0,193.05,186.15,188.15,181.1,179.0,184.0,188.5,185.05,187.0,192.0,191.1,192.55,191.35,192.0,199.7,198.65,194.05,201.0,194.0,196.2,201.0,204.7,201.9,204.0,202.7,197.25,195.0,189.35,189.35,192.2,198.0,203.5,216.0,219.0,222.5,223.1,232.75,233.2,225.0,232.0,231.85,239.4,248.0,241.5,243.5,240.5,245.45,244.0,245.45,245.0,248.35,249.3,257.0,263.8,270.95,272.1,269.0,270.05,274.0,274.05,272.8,270.0,267.7,268.45,254.8,256.95,265.0,268.75,276.3,278.0,275.0,274.9,281.85,278.05,283.0,289.0,290.1,288.0,280.0,296.0,306.7,306.8,303.5,297.65,298.8,304.0,295.5,284.5,280.2,271.9,285.6,285.1,315.0,333.75,334.4,387.0,398.0,396.75,394.05,391.8,391.0,397.5,412.0,403.0,425.05,415.0,400.6,392.0,397.0,411.0,399.5,395.1,395.0,396.5,398.7,395.0,388.45,393.45,391.1,391.7,382.5,385.6,378.2,371.5,363.95,372.0,368.7,368.5,360.0,360.0,360.1,360.3,367.7,367.5,355.7,351.25,361.0,354.4,344.0,332.0,342.1,343.0,327.15,335.1,326.0,331.65,339.25,344.0,357.0,365.0,353.45,349.6,355.0,356.5,358.0,357.5,360.5,356.85,362.8,370.0,364.4,390.0,382.0,387.0,390.0,417.0,415.1,413.8,413.7,430.5,421.0,426.05,430.8,437.0,437.5,435.1,432.25,427.5,424.9,434.85,427.0,429.2,428.0,421.0,423.9,406.35,423.0,421.1,420.35,421.0,430.7,427.5,423.0,420.3,420.3,426.5,431.7,429.35,432.8,425.0,426.5,430.0,429.0,432.7,432.0,423.4,427.0,425.55],\"type\":\"scatter\"},{\"mode\":\"lines\",\"name\":\"Test data Actual\",\"x\":[\"23-Jul-21\",\"26-Jul-21\",\"27-Jul-21\",\"28-Jul-21\",\"29-Jul-21\",\"30-Jul-21\",\"02-Aug-21\",\"03-Aug-21\",\"04-Aug-21\",\"05-Aug-21\",\"06-Aug-21\",\"09-Aug-21\",\"10-Aug-21\",\"11-Aug-21\",\"12-Aug-21\",\"13-Aug-21\",\"16-Aug-21\",\"17-Aug-21\",\"18-Aug-21\",\"20-Aug-21\",\"23-Aug-21\",\"24-Aug-21\",\"25-Aug-21\",\"26-Aug-21\",\"27-Aug-21\",\"30-Aug-21\",\"31-Aug-21\",\"01-Sep-21\",\"02-Sep-21\",\"03-Sep-21\",\"06-Sep-21\",\"07-Sep-21\",\"08-Sep-21\",\"09-Sep-21\",\"13-Sep-21\",\"14-Sep-21\",\"15-Sep-21\",\"16-Sep-21\",\"17-Sep-21\",\"20-Sep-21\",\"21-Sep-21\",\"22-Sep-21\",\"23-Sep-21\",\"24-Sep-21\",\"27-Sep-21\",\"28-Sep-21\",\"29-Sep-21\",\"30-Sep-21\",\"01-Oct-21\",\"04-Oct-21\",\"05-Oct-21\",\"06-Oct-21\",\"07-Oct-21\",\"08-Oct-21\",\"11-Oct-21\",\"12-Oct-21\",\"13-Oct-21\",\"14-Oct-21\",\"18-Oct-21\",\"19-Oct-21\",\"20-Oct-21\",\"21-Oct-21\",\"22-Oct-21\",\"25-Oct-21\",\"26-Oct-21\",\"27-Oct-21\",\"28-Oct-21\",\"29-Oct-21\",\"01-Nov-21\",\"02-Nov-21\",\"03-Nov-21\",\"04-Nov-21\",\"08-Nov-21\",\"09-Nov-21\",\"10-Nov-21\",\"11-Nov-21\",\"12-Nov-21\",\"15-Nov-21\",\"16-Nov-21\",\"17-Nov-21\",\"18-Nov-21\",\"22-Nov-21\",\"23-Nov-21\",\"24-Nov-21\",\"25-Nov-21\",\"26-Nov-21\",\"29-Nov-21\",\"30-Nov-21\",\"01-Dec-21\",\"02-Dec-21\",\"03-Dec-21\",\"06-Dec-21\",\"07-Dec-21\",\"08-Dec-21\",\"09-Dec-21\",\"10-Dec-21\",\"13-Dec-21\",\"14-Dec-21\",\"15-Dec-21\",\"16-Dec-21\",\"17-Dec-21\",\"20-Dec-21\",\"21-Dec-21\",\"22-Dec-21\",\"23-Dec-21\",\"24-Dec-21\",\"27-Dec-21\",\"28-Dec-21\",\"29-Dec-21\",\"30-Dec-21\",\"31-Dec-21\",\"03-Jan-22\",\"04-Jan-22\",\"05-Jan-22\",\"06-Jan-22\",\"07-Jan-22\",\"10-Jan-22\",\"11-Jan-22\",\"12-Jan-22\",\"13-Jan-22\",\"14-Jan-22\",\"17-Jan-22\",\"18-Jan-22\",\"19-Jan-22\",\"20-Jan-22\",\"21-Jan-22\",\"24-Jan-22\",\"25-Jan-22\",\"27-Jan-22\",\"28-Jan-22\",\"31-Jan-22\",\"01-Feb-22\",\"02-Feb-22\",\"03-Feb-22\",\"04-Feb-22\",\"07-Feb-22\",\"08-Feb-22\",\"09-Feb-22\",\"10-Feb-22\",\"11-Feb-22\",\"14-Feb-22\",\"15-Feb-22\",\"16-Feb-22\",\"17-Feb-22\",\"18-Feb-22\",\"21-Feb-22\",\"22-Feb-22\",\"23-Feb-22\",\"24-Feb-22\",\"25-Feb-22\",\"28-Feb-22\",\"02-Mar-22\",\"03-Mar-22\",\"04-Mar-22\",\"07-Mar-22\",\"08-Mar-22\",\"09-Mar-22\",\"10-Mar-22\",\"11-Mar-22\",\"14-Mar-22\",\"15-Mar-22\",\"16-Mar-22\",\"17-Mar-22\",\"21-Mar-22\",\"22-Mar-22\",\"23-Mar-22\",\"24-Mar-22\",\"25-Mar-22\",\"28-Mar-22\",\"29-Mar-22\",\"30-Mar-22\",\"31-Mar-22\",\"01-Apr-22\",\"04-Apr-22\",\"05-Apr-22\",\"06-Apr-22\",\"07-Apr-22\",\"08-Apr-22\",\"11-Apr-22\",\"12-Apr-22\",\"13-Apr-22\",\"18-Apr-22\",\"19-Apr-22\",\"20-Apr-22\",\"21-Apr-22\",\"22-Apr-22\",\"25-Apr-22\",\"26-Apr-22\",\"27-Apr-22\",\"28-Apr-22\",\"29-Apr-22\",\"02-May-22\",\"04-May-22\",\"05-May-22\",\"06-May-22\",\"09-May-22\",\"10-May-22\",\"11-May-22\",\"12-May-22\",\"13-May-22\",\"16-May-22\",\"17-May-22\",\"18-May-22\",\"19-May-22\",\"20-May-22\",\"23-May-22\",\"24-May-22\",\"25-May-22\",\"26-May-22\",\"27-May-22\",\"30-May-22\",\"31-May-22\",\"01-Jun-22\",\"02-Jun-22\",\"03-Jun-22\",\"06-Jun-22\",\"07-Jun-22\",\"08-Jun-22\",\"09-Jun-22\",\"10-Jun-22\"],\"y\":[422.9,427.8,424.15,430.0,426.0,441.5,434.75,434.95,448.65,461.0,443.7,437.9,434.4,429.8,430.0,427.6,430.0,424.85,422.15,415.0,411.1,409.5,419.0,414.5,410.35,414.4,423.85,427.5,431.4,431.25,432.0,431.05,429.0,430.25,430.1,435.0,433.0,444.85,468.0,449.4,440.15,438.9,442.4,451.1,444.9,449.2,441.85,459.95,448.5,453.8,462.0,465.0,462.1,461.9,460.0,470.0,486.15,482.0,494.0,500.35,488.8,504.9,504.6,506.5,507.6,513.7,519.6,501.5,508.5,514.8,524.0,531.5,534.45,526.25,525.55,522.85,512.0,512.4,507.4,493.85,499.1,506.0,485.25,495.8,490.0,486.25,470.0,468.0,464.45,474.5,475.75,473.15,469.2,480.9,492.3,488.5,497.75,486.0,490.0,488.35,480.05,459.0,457.05,450.0,461.0,462.6,453.7,461.2,461.0,452.75,454.25,462.0,472.5,481.9,487.7,493.45,493.35,503.0,509.9,510.0,509.0,508.0,514.0,505.0,516.0,505.3,502.4,490.0,503.55,534.0,529.0,543.95,536.65,537.15,542.15,531.9,535.5,534.95,537.1,536.25,515.0,502.0,526.5,520.0,510.1,511.55,500.9,503.0,480.0,480.0,476.9,478.0,480.0,460.3,447.5,438.0,442.0,469.9,466.4,471.0,489.0,493.0,499.0,502.0,490.6,498.5,485.0,491.75,490.95,500.0,499.3,494.3,491.0,509.3,514.4,507.0,510.05,519.5,513.5,512.75,514.3,512.0,513.25,512.0,513.4,512.9,495.0,499.0,500.0,499.15,508.1,492.65,492.0,485.0,471.0,477.1,477.0,475.25,473.0,469.45,445.0,458.3,467.9,449.05,454.85,463.1,462.4,461.0,456.85,471.4,473.0,474.0,468.0,466.9,473.25,464.2,461.85,466.6,468.95,462.0],\"type\":\"scatter\"},{\"mode\":\"lines\",\"name\":\"Test data Predicted\",\"x\":[\"23-Jul-21\",\"26-Jul-21\",\"27-Jul-21\",\"28-Jul-21\",\"29-Jul-21\",\"30-Jul-21\",\"02-Aug-21\",\"03-Aug-21\",\"04-Aug-21\",\"05-Aug-21\",\"06-Aug-21\",\"09-Aug-21\",\"10-Aug-21\",\"11-Aug-21\",\"12-Aug-21\",\"13-Aug-21\",\"16-Aug-21\",\"17-Aug-21\",\"18-Aug-21\",\"20-Aug-21\",\"23-Aug-21\",\"24-Aug-21\",\"25-Aug-21\",\"26-Aug-21\",\"27-Aug-21\",\"30-Aug-21\",\"31-Aug-21\",\"01-Sep-21\",\"02-Sep-21\",\"03-Sep-21\",\"06-Sep-21\",\"07-Sep-21\",\"08-Sep-21\",\"09-Sep-21\",\"13-Sep-21\",\"14-Sep-21\",\"15-Sep-21\",\"16-Sep-21\",\"17-Sep-21\",\"20-Sep-21\",\"21-Sep-21\",\"22-Sep-21\",\"23-Sep-21\",\"24-Sep-21\",\"27-Sep-21\",\"28-Sep-21\",\"29-Sep-21\",\"30-Sep-21\",\"01-Oct-21\",\"04-Oct-21\",\"05-Oct-21\",\"06-Oct-21\",\"07-Oct-21\",\"08-Oct-21\",\"11-Oct-21\",\"12-Oct-21\",\"13-Oct-21\",\"14-Oct-21\",\"18-Oct-21\",\"19-Oct-21\",\"20-Oct-21\",\"21-Oct-21\",\"22-Oct-21\",\"25-Oct-21\",\"26-Oct-21\",\"27-Oct-21\",\"28-Oct-21\",\"29-Oct-21\",\"01-Nov-21\",\"02-Nov-21\",\"03-Nov-21\",\"04-Nov-21\",\"08-Nov-21\",\"09-Nov-21\",\"10-Nov-21\",\"11-Nov-21\",\"12-Nov-21\",\"15-Nov-21\",\"16-Nov-21\",\"17-Nov-21\",\"18-Nov-21\",\"22-Nov-21\",\"23-Nov-21\",\"24-Nov-21\",\"25-Nov-21\",\"26-Nov-21\",\"29-Nov-21\",\"30-Nov-21\",\"01-Dec-21\",\"02-Dec-21\",\"03-Dec-21\",\"06-Dec-21\",\"07-Dec-21\",\"08-Dec-21\",\"09-Dec-21\",\"10-Dec-21\",\"13-Dec-21\",\"14-Dec-21\",\"15-Dec-21\",\"16-Dec-21\",\"17-Dec-21\",\"20-Dec-21\",\"21-Dec-21\",\"22-Dec-21\",\"23-Dec-21\",\"24-Dec-21\",\"27-Dec-21\",\"28-Dec-21\",\"29-Dec-21\",\"30-Dec-21\",\"31-Dec-21\",\"03-Jan-22\",\"04-Jan-22\",\"05-Jan-22\",\"06-Jan-22\",\"07-Jan-22\",\"10-Jan-22\",\"11-Jan-22\",\"12-Jan-22\",\"13-Jan-22\",\"14-Jan-22\",\"17-Jan-22\",\"18-Jan-22\",\"19-Jan-22\",\"20-Jan-22\",\"21-Jan-22\",\"24-Jan-22\",\"25-Jan-22\",\"27-Jan-22\",\"28-Jan-22\",\"31-Jan-22\",\"01-Feb-22\",\"02-Feb-22\",\"03-Feb-22\",\"04-Feb-22\",\"07-Feb-22\",\"08-Feb-22\",\"09-Feb-22\",\"10-Feb-22\",\"11-Feb-22\",\"14-Feb-22\",\"15-Feb-22\",\"16-Feb-22\",\"17-Feb-22\",\"18-Feb-22\",\"21-Feb-22\",\"22-Feb-22\",\"23-Feb-22\",\"24-Feb-22\",\"25-Feb-22\",\"28-Feb-22\",\"02-Mar-22\",\"03-Mar-22\",\"04-Mar-22\",\"07-Mar-22\",\"08-Mar-22\",\"09-Mar-22\",\"10-Mar-22\",\"11-Mar-22\",\"14-Mar-22\",\"15-Mar-22\",\"16-Mar-22\",\"17-Mar-22\",\"21-Mar-22\",\"22-Mar-22\",\"23-Mar-22\",\"24-Mar-22\",\"25-Mar-22\",\"28-Mar-22\",\"29-Mar-22\",\"30-Mar-22\",\"31-Mar-22\",\"01-Apr-22\",\"04-Apr-22\",\"05-Apr-22\",\"06-Apr-22\",\"07-Apr-22\",\"08-Apr-22\",\"11-Apr-22\",\"12-Apr-22\",\"13-Apr-22\",\"18-Apr-22\",\"19-Apr-22\",\"20-Apr-22\",\"21-Apr-22\",\"22-Apr-22\",\"25-Apr-22\",\"26-Apr-22\",\"27-Apr-22\",\"28-Apr-22\",\"29-Apr-22\",\"02-May-22\",\"04-May-22\",\"05-May-22\",\"06-May-22\",\"09-May-22\",\"10-May-22\",\"11-May-22\",\"12-May-22\",\"13-May-22\",\"16-May-22\",\"17-May-22\",\"18-May-22\",\"19-May-22\",\"20-May-22\",\"23-May-22\",\"24-May-22\",\"25-May-22\",\"26-May-22\",\"27-May-22\",\"30-May-22\",\"31-May-22\",\"01-Jun-22\",\"02-Jun-22\",\"03-Jun-22\",\"06-Jun-22\",\"07-Jun-22\",\"08-Jun-22\",\"09-Jun-22\",\"10-Jun-22\"],\"y\":[420.1942443847656,417.5572204589844,420.38800048828125,418.8185119628906,422.4269714355469,420.654296875,432.7161560058594,431.0576171875,427.34930419921875,439.87591552734375,455.9391174316406,440.4419860839844,427.64886474609375,426.76495361328125,425.6937561035156,424.64569091796875,421.6836853027344,422.5897521972656,418.86480712890625,414.85986328125,408.56243896484375,404.18804931640625,402.909423828125,411.3257751464844,410.2756042480469,403.75811767578125,405.7577819824219,416.70379638671875,422.70294189453125,424.92291259765625,424.5732116699219,425.3076171875,425.36126708984375,423.5729675292969,424.15606689453125,424.6117248535156,428.62298583984375,427.7422180175781,436.7995300292969,460.9722900390625,447.1973876953125,429.55950927734375,429.6104736328125,437.89764404296875,446.703125,440.011474609375,439.6531982421875,435.3753356933594,450.8762512207031,445.3820495605469,444.206298828125,453.9125061035156,459.3647155761719,455.0616455078125,453.0132751464844,452.66326904296875,462.58966064453125,479.9298095703125,475.9096374511719,482.5502014160156,492.5661926269531,481.4219055175781,493.7895812988281,499.1268005371094,497.7178039550781,497.4745178222656,504.5195007324219,511.40753173828125,491.56170654296875,495.0972595214844,508.0752258300781,516.57861328125,520.4994506835938,521.88818359375,513.5516967773438,513.212890625,513.451416015625,501.9162902832031,500.6803894042969,498.0815734863281,483.3505859375,486.809326171875,497.67633056640625,476.0824279785156,480.31683349609375,481.893310546875,476.5007629394531,459.3451843261719,456.02197265625,456.571533203125,465.9923400878906,467.88458251953125,462.7352294921875,458.1749267578125,470.7596130371094,485.6861267089844,480.6092224121094,485.544189453125,477.73419189453125,479.786865234375,481.1915283203125,472.2876892089844,450.01129150390625,446.0856628417969,444.1011047363281,453.08355712890625,455.719970703125,444.7098388671875,448.89306640625,453.51123046875,445.61761474609375,444.1977844238281,453.7701110839844,465.95452880859375,474.4285583496094,478.6774597167969,483.89337158203125,484.85833740234375,494.2144775390625,502.89239501953125,501.61077880859375,498.63079833984375,498.5092468261719,505.7095642089844,496.9573059082031,504.822021484375,497.1830139160156,490.7715148925781,479.8736877441406,493.4358215332031,528.40673828125,520.5385131835938,526.1389770507812,524.19384765625,525.1779174804688,532.3724975585938,521.6517333984375,522.7437133789062,525.225830078125,526.4488525390625,524.1820068359375,501.3612060546875,487.31634521484375,517.6590576171875,515.4242553710938,494.3205261230469,495.41162109375,491.66668701171875,492.5047912597656,470.2569885253906,466.31732177734375,468.5587158203125,469.5882568359375,469.92327880859375,450.5836181640625,434.9456481933594,428.33148193359375,433.78533935546875,461.48681640625,461.6935119628906,458.17388916015625,476.9053039550781,486.9002990722656,489.9090576171875,492.2362060546875,482.0474853515625,488.8096923828125,479.6093444824219,482.2314453125,483.9549560546875,491.4371337890625,490.7190246582031,483.4851379394531,480.06878662109375,500.3641052246094,508.5348205566406,495.56591796875,496.176025390625,511.0268249511719,506.0185546875,500.37841796875,503.5364685058594,503.1838684082031,503.0739440917969,501.6240539550781,502.7593688964844,502.6387023925781,484.10546875,486.09674072265625,492.49786376953125,490.5267333984375,496.6927795410156,482.55584716796875,478.6431579589844,475.78515625,462.3702697753906,466.1108093261719,469.74981689453125,466.408203125,462.2707214355469,459.29541015625,437.2282409667969,445.3721923828125,462.3415222167969,444.6012878417969,441.0061340332031,453.94384765625,456.90380859375,452.3033447265625,447.3613586425781,461.8972473144531,468.0143127441406,465.7465515136719,458.70831298828125,457.8016357421875,465.9790344238281,458.8486328125,452.4872741699219,457.8139953613281,462.5741271972656],\"type\":\"scatter\"},{\"mode\":\"lines\",\"name\":\"Next 7 days Predicted data\",\"x\":[\"1-Day\",\"2-Day\",\"3-Day\",\"4-Day\",\"5-Day\",\"6-Day\",\"7-Day\"],\"y\":[454.85546875,445.26873779296875,436.7983093261719,429.474365234375,422.6089172363281,415.6987609863281,408.5922546386719],\"type\":\"scatter\"}],                        {\"template\":{\"data\":{\"bar\":[{\"error_x\":{\"color\":\"#2a3f5f\"},\"error_y\":{\"color\":\"#2a3f5f\"},\"marker\":{\"line\":{\"color\":\"#E5ECF6\",\"width\":0.5},\"pattern\":{\"fillmode\":\"overlay\",\"size\":10,\"solidity\":0.2}},\"type\":\"bar\"}],\"barpolar\":[{\"marker\":{\"line\":{\"color\":\"#E5ECF6\",\"width\":0.5},\"pattern\":{\"fillmode\":\"overlay\",\"size\":10,\"solidity\":0.2}},\"type\":\"barpolar\"}],\"carpet\":[{\"aaxis\":{\"endlinecolor\":\"#2a3f5f\",\"gridcolor\":\"white\",\"linecolor\":\"white\",\"minorgridcolor\":\"white\",\"startlinecolor\":\"#2a3f5f\"},\"baxis\":{\"endlinecolor\":\"#2a3f5f\",\"gridcolor\":\"white\",\"linecolor\":\"white\",\"minorgridcolor\":\"white\",\"startlinecolor\":\"#2a3f5f\"},\"type\":\"carpet\"}],\"choropleth\":[{\"colorbar\":{\"outlinewidth\":0,\"ticks\":\"\"},\"type\":\"choropleth\"}],\"contour\":[{\"colorbar\":{\"outlinewidth\":0,\"ticks\":\"\"},\"colorscale\":[[0.0,\"#0d0887\"],[0.1111111111111111,\"#46039f\"],[0.2222222222222222,\"#7201a8\"],[0.3333333333333333,\"#9c179e\"],[0.4444444444444444,\"#bd3786\"],[0.5555555555555556,\"#d8576b\"],[0.6666666666666666,\"#ed7953\"],[0.7777777777777778,\"#fb9f3a\"],[0.8888888888888888,\"#fdca26\"],[1.0,\"#f0f921\"]],\"type\":\"contour\"}],\"contourcarpet\":[{\"colorbar\":{\"outlinewidth\":0,\"ticks\":\"\"},\"type\":\"contourcarpet\"}],\"heatmap\":[{\"colorbar\":{\"outlinewidth\":0,\"ticks\":\"\"},\"colorscale\":[[0.0,\"#0d0887\"],[0.1111111111111111,\"#46039f\"],[0.2222222222222222,\"#7201a8\"],[0.3333333333333333,\"#9c179e\"],[0.4444444444444444,\"#bd3786\"],[0.5555555555555556,\"#d8576b\"],[0.6666666666666666,\"#ed7953\"],[0.7777777777777778,\"#fb9f3a\"],[0.8888888888888888,\"#fdca26\"],[1.0,\"#f0f921\"]],\"type\":\"heatmap\"}],\"heatmapgl\":[{\"colorbar\":{\"outlinewidth\":0,\"ticks\":\"\"},\"colorscale\":[[0.0,\"#0d0887\"],[0.1111111111111111,\"#46039f\"],[0.2222222222222222,\"#7201a8\"],[0.3333333333333333,\"#9c179e\"],[0.4444444444444444,\"#bd3786\"],[0.5555555555555556,\"#d8576b\"],[0.6666666666666666,\"#ed7953\"],[0.7777777777777778,\"#fb9f3a\"],[0.8888888888888888,\"#fdca26\"],[1.0,\"#f0f921\"]],\"type\":\"heatmapgl\"}],\"histogram\":[{\"marker\":{\"pattern\":{\"fillmode\":\"overlay\",\"size\":10,\"solidity\":0.2}},\"type\":\"histogram\"}],\"histogram2d\":[{\"colorbar\":{\"outlinewidth\":0,\"ticks\":\"\"},\"colorscale\":[[0.0,\"#0d0887\"],[0.1111111111111111,\"#46039f\"],[0.2222222222222222,\"#7201a8\"],[0.3333333333333333,\"#9c179e\"],[0.4444444444444444,\"#bd3786\"],[0.5555555555555556,\"#d8576b\"],[0.6666666666666666,\"#ed7953\"],[0.7777777777777778,\"#fb9f3a\"],[0.8888888888888888,\"#fdca26\"],[1.0,\"#f0f921\"]],\"type\":\"histogram2d\"}],\"histogram2dcontour\":[{\"colorbar\":{\"outlinewidth\":0,\"ticks\":\"\"},\"colorscale\":[[0.0,\"#0d0887\"],[0.1111111111111111,\"#46039f\"],[0.2222222222222222,\"#7201a8\"],[0.3333333333333333,\"#9c179e\"],[0.4444444444444444,\"#bd3786\"],[0.5555555555555556,\"#d8576b\"],[0.6666666666666666,\"#ed7953\"],[0.7777777777777778,\"#fb9f3a\"],[0.8888888888888888,\"#fdca26\"],[1.0,\"#f0f921\"]],\"type\":\"histogram2dcontour\"}],\"mesh3d\":[{\"colorbar\":{\"outlinewidth\":0,\"ticks\":\"\"},\"type\":\"mesh3d\"}],\"parcoords\":[{\"line\":{\"colorbar\":{\"outlinewidth\":0,\"ticks\":\"\"}},\"type\":\"parcoords\"}],\"pie\":[{\"automargin\":true,\"type\":\"pie\"}],\"scatter\":[{\"marker\":{\"colorbar\":{\"outlinewidth\":0,\"ticks\":\"\"}},\"type\":\"scatter\"}],\"scatter3d\":[{\"line\":{\"colorbar\":{\"outlinewidth\":0,\"ticks\":\"\"}},\"marker\":{\"colorbar\":{\"outlinewidth\":0,\"ticks\":\"\"}},\"type\":\"scatter3d\"}],\"scattercarpet\":[{\"marker\":{\"colorbar\":{\"outlinewidth\":0,\"ticks\":\"\"}},\"type\":\"scattercarpet\"}],\"scattergeo\":[{\"marker\":{\"colorbar\":{\"outlinewidth\":0,\"ticks\":\"\"}},\"type\":\"scattergeo\"}],\"scattergl\":[{\"marker\":{\"colorbar\":{\"outlinewidth\":0,\"ticks\":\"\"}},\"type\":\"scattergl\"}],\"scattermapbox\":[{\"marker\":{\"colorbar\":{\"outlinewidth\":0,\"ticks\":\"\"}},\"type\":\"scattermapbox\"}],\"scatterpolar\":[{\"marker\":{\"colorbar\":{\"outlinewidth\":0,\"ticks\":\"\"}},\"type\":\"scatterpolar\"}],\"scatterpolargl\":[{\"marker\":{\"colorbar\":{\"outlinewidth\":0,\"ticks\":\"\"}},\"type\":\"scatterpolargl\"}],\"scatterternary\":[{\"marker\":{\"colorbar\":{\"outlinewidth\":0,\"ticks\":\"\"}},\"type\":\"scatterternary\"}],\"surface\":[{\"colorbar\":{\"outlinewidth\":0,\"ticks\":\"\"},\"colorscale\":[[0.0,\"#0d0887\"],[0.1111111111111111,\"#46039f\"],[0.2222222222222222,\"#7201a8\"],[0.3333333333333333,\"#9c179e\"],[0.4444444444444444,\"#bd3786\"],[0.5555555555555556,\"#d8576b\"],[0.6666666666666666,\"#ed7953\"],[0.7777777777777778,\"#fb9f3a\"],[0.8888888888888888,\"#fdca26\"],[1.0,\"#f0f921\"]],\"type\":\"surface\"}],\"table\":[{\"cells\":{\"fill\":{\"color\":\"#EBF0F8\"},\"line\":{\"color\":\"white\"}},\"header\":{\"fill\":{\"color\":\"#C8D4E3\"},\"line\":{\"color\":\"white\"}},\"type\":\"table\"}]},\"layout\":{\"annotationdefaults\":{\"arrowcolor\":\"#2a3f5f\",\"arrowhead\":0,\"arrowwidth\":1},\"autotypenumbers\":\"strict\",\"coloraxis\":{\"colorbar\":{\"outlinewidth\":0,\"ticks\":\"\"}},\"colorscale\":{\"diverging\":[[0,\"#8e0152\"],[0.1,\"#c51b7d\"],[0.2,\"#de77ae\"],[0.3,\"#f1b6da\"],[0.4,\"#fde0ef\"],[0.5,\"#f7f7f7\"],[0.6,\"#e6f5d0\"],[0.7,\"#b8e186\"],[0.8,\"#7fbc41\"],[0.9,\"#4d9221\"],[1,\"#276419\"]],\"sequential\":[[0.0,\"#0d0887\"],[0.1111111111111111,\"#46039f\"],[0.2222222222222222,\"#7201a8\"],[0.3333333333333333,\"#9c179e\"],[0.4444444444444444,\"#bd3786\"],[0.5555555555555556,\"#d8576b\"],[0.6666666666666666,\"#ed7953\"],[0.7777777777777778,\"#fb9f3a\"],[0.8888888888888888,\"#fdca26\"],[1.0,\"#f0f921\"]],\"sequentialminus\":[[0.0,\"#0d0887\"],[0.1111111111111111,\"#46039f\"],[0.2222222222222222,\"#7201a8\"],[0.3333333333333333,\"#9c179e\"],[0.4444444444444444,\"#bd3786\"],[0.5555555555555556,\"#d8576b\"],[0.6666666666666666,\"#ed7953\"],[0.7777777777777778,\"#fb9f3a\"],[0.8888888888888888,\"#fdca26\"],[1.0,\"#f0f921\"]]},\"colorway\":[\"#636efa\",\"#EF553B\",\"#00cc96\",\"#ab63fa\",\"#FFA15A\",\"#19d3f3\",\"#FF6692\",\"#B6E880\",\"#FF97FF\",\"#FECB52\"],\"font\":{\"color\":\"#2a3f5f\"},\"geo\":{\"bgcolor\":\"white\",\"lakecolor\":\"white\",\"landcolor\":\"#E5ECF6\",\"showlakes\":true,\"showland\":true,\"subunitcolor\":\"white\"},\"hoverlabel\":{\"align\":\"left\"},\"hovermode\":\"closest\",\"mapbox\":{\"style\":\"light\"},\"paper_bgcolor\":\"white\",\"plot_bgcolor\":\"#E5ECF6\",\"polar\":{\"angularaxis\":{\"gridcolor\":\"white\",\"linecolor\":\"white\",\"ticks\":\"\"},\"bgcolor\":\"#E5ECF6\",\"radialaxis\":{\"gridcolor\":\"white\",\"linecolor\":\"white\",\"ticks\":\"\"}},\"scene\":{\"xaxis\":{\"backgroundcolor\":\"#E5ECF6\",\"gridcolor\":\"white\",\"gridwidth\":2,\"linecolor\":\"white\",\"showbackground\":true,\"ticks\":\"\",\"zerolinecolor\":\"white\"},\"yaxis\":{\"backgroundcolor\":\"#E5ECF6\",\"gridcolor\":\"white\",\"gridwidth\":2,\"linecolor\":\"white\",\"showbackground\":true,\"ticks\":\"\",\"zerolinecolor\":\"white\"},\"zaxis\":{\"backgroundcolor\":\"#E5ECF6\",\"gridcolor\":\"white\",\"gridwidth\":2,\"linecolor\":\"white\",\"showbackground\":true,\"ticks\":\"\",\"zerolinecolor\":\"white\"}},\"shapedefaults\":{\"line\":{\"color\":\"#2a3f5f\"}},\"ternary\":{\"aaxis\":{\"gridcolor\":\"white\",\"linecolor\":\"white\",\"ticks\":\"\"},\"baxis\":{\"gridcolor\":\"white\",\"linecolor\":\"white\",\"ticks\":\"\"},\"bgcolor\":\"#E5ECF6\",\"caxis\":{\"gridcolor\":\"white\",\"linecolor\":\"white\",\"ticks\":\"\"}},\"title\":{\"x\":0.05},\"xaxis\":{\"automargin\":true,\"gridcolor\":\"white\",\"linecolor\":\"white\",\"ticks\":\"\",\"title\":{\"standoff\":15},\"zerolinecolor\":\"white\",\"zerolinewidth\":2},\"yaxis\":{\"automargin\":true,\"gridcolor\":\"white\",\"linecolor\":\"white\",\"ticks\":\"\",\"title\":{\"standoff\":15},\"zerolinecolor\":\"white\",\"zerolinewidth\":2}}},\"xaxis\":{\"rangeslider\":{\"visible\":true},\"rangeselector\":{\"buttons\":[{\"count\":1,\"label\":\"1y\",\"step\":\"year\",\"stepmode\":\"todate\"},{\"count\":2,\"label\":\"2y\",\"step\":\"year\",\"stepmode\":\"todate\"},{\"count\":3,\"label\":\"3y\",\"step\":\"year\",\"stepmode\":\"todate\"},{\"step\":\"all\"}]},\"title\":{\"text\":\"Date\"}},\"title\":{\"text\":\"SBIN Stock Graph\",\"x\":0.5,\"xanchor\":\"center\",\"yanchor\":\"top\"},\"yaxis\":{\"title\":{\"text\":\"Data\"}}},                        {\"responsive\": true}                    ).then(function(){\n",
              "                            \n",
              "var gd = document.getElementById('1cf9e07f-6c4b-4b2e-91f1-d2b8af21d519');\n",
              "var x = new MutationObserver(function (mutations, observer) {{\n",
              "        var display = window.getComputedStyle(gd).display;\n",
              "        if (!display || display === 'none') {{\n",
              "            console.log([gd, 'removed!']);\n",
              "            Plotly.purge(gd);\n",
              "            observer.disconnect();\n",
              "        }}\n",
              "}});\n",
              "\n",
              "// Listen for the removal of the full notebook cells\n",
              "var notebookContainer = gd.closest('#notebook-container');\n",
              "if (notebookContainer) {{\n",
              "    x.observe(notebookContainer, {childList: true});\n",
              "}}\n",
              "\n",
              "// Listen for the clearing of the current output cell\n",
              "var outputEl = gd.closest('.output');\n",
              "if (outputEl) {{\n",
              "    x.observe(outputEl, {childList: true});\n",
              "}}\n",
              "\n",
              "                        })                };                            </script>        </div>\n",
              "</body>\n",
              "</html>"
            ]
          },
          "metadata": {}
        }
      ]
    },
    {
      "cell_type": "code",
      "source": [
        ""
      ],
      "metadata": {
        "id": "wccJliJmcZC2"
      },
      "execution_count": null,
      "outputs": []
    }
  ]
}