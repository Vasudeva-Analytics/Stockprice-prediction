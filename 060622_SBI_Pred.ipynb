{
  "nbformat": 4,
  "nbformat_minor": 0,
  "metadata": {
    "colab": {
      "name": "060622_SBI_Pred.ipynb",
      "provenance": [],
      "collapsed_sections": []
    },
    "kernelspec": {
      "name": "python3",
      "display_name": "Python 3"
    },
    "language_info": {
      "name": "python"
    }
  },
  "cells": [
    {
      "cell_type": "code",
      "source": [
        "import pandas as pd\n",
        "import numpy as np\n",
        "import matplotlib.pyplot as plt\n",
        "from sklearn.preprocessing import MinMaxScaler                   \n",
        "from tensorflow.keras import Sequential                             \n",
        "from tensorflow.keras.layers import LSTM,Dense,Dropout,Activation\n",
        "import plotly.graph_objects as go"
      ],
      "metadata": {
        "id": "LyxvFVQBwnEA"
      },
      "execution_count": 33,
      "outputs": []
    },
    {
      "cell_type": "code",
      "execution_count": 27,
      "metadata": {
        "id": "P0gZ-iM6t7pm"
      },
      "outputs": [],
      "source": [
        "SBIN = pd.read_csv('SBIN_EQN_data.csv', index_col=None, header=0)"
      ]
    },
    {
      "cell_type": "code",
      "source": [
        "SBIN.head()"
      ],
      "metadata": {
        "colab": {
          "base_uri": "https://localhost:8080/",
          "height": 458
        },
        "id": "tX6Qcfj9wpr2",
        "outputId": "08f91a64-a623-44a0-decc-f101f0da220e"
      },
      "execution_count": 28,
      "outputs": [
        {
          "output_type": "execute_result",
          "data": {
            "text/plain": [
              "  Symbol Series       Date  Prev Close  Open Price  High Price  Low Price  \\\n",
              "0   SBIN     EQ  01-Jan-18      309.90       310.6      312.75     306.30   \n",
              "1   SBIN     EQ  02-Jan-18      307.10       309.0      309.00     301.35   \n",
              "2   SBIN     EQ  03-Jan-18      303.25       305.3      306.45     302.15   \n",
              "3   SBIN     EQ  04-Jan-18      302.85       304.5      310.20     303.15   \n",
              "4   SBIN     EQ  05-Jan-18      308.50       311.4      311.40     305.60   \n",
              "\n",
              "   Last Price  Close Price  Average Price  Total Traded Quantity  \\\n",
              "0      306.75       307.10         309.08               12182400   \n",
              "1      303.00       303.25         304.00               14797364   \n",
              "2      302.80       302.85         304.32               13857373   \n",
              "3      309.25       308.50         307.63               24517099   \n",
              "4      307.25       306.35         308.05               14580575   \n",
              "\n",
              "       Turnover  No. of Trades  Deliverable Qty  % Dly Qt to Traded Qty  \n",
              "0  3.765315e+09          75769          5697288                   46.77  \n",
              "1  4.498328e+09         100195          5698196                   38.51  \n",
              "2  4.217070e+09         117207          6941140                   50.09  \n",
              "3  7.542211e+09         140513         10508054                   42.86  \n",
              "4  4.491544e+09          91829          4896408                   33.58  "
            ],
            "text/html": [
              "\n",
              "  <div id=\"df-d5ecc755-39b9-4220-8c8b-f7cf58570491\">\n",
              "    <div class=\"colab-df-container\">\n",
              "      <div>\n",
              "<style scoped>\n",
              "    .dataframe tbody tr th:only-of-type {\n",
              "        vertical-align: middle;\n",
              "    }\n",
              "\n",
              "    .dataframe tbody tr th {\n",
              "        vertical-align: top;\n",
              "    }\n",
              "\n",
              "    .dataframe thead th {\n",
              "        text-align: right;\n",
              "    }\n",
              "</style>\n",
              "<table border=\"1\" class=\"dataframe\">\n",
              "  <thead>\n",
              "    <tr style=\"text-align: right;\">\n",
              "      <th></th>\n",
              "      <th>Symbol</th>\n",
              "      <th>Series</th>\n",
              "      <th>Date</th>\n",
              "      <th>Prev Close</th>\n",
              "      <th>Open Price</th>\n",
              "      <th>High Price</th>\n",
              "      <th>Low Price</th>\n",
              "      <th>Last Price</th>\n",
              "      <th>Close Price</th>\n",
              "      <th>Average Price</th>\n",
              "      <th>Total Traded Quantity</th>\n",
              "      <th>Turnover</th>\n",
              "      <th>No. of Trades</th>\n",
              "      <th>Deliverable Qty</th>\n",
              "      <th>% Dly Qt to Traded Qty</th>\n",
              "    </tr>\n",
              "  </thead>\n",
              "  <tbody>\n",
              "    <tr>\n",
              "      <th>0</th>\n",
              "      <td>SBIN</td>\n",
              "      <td>EQ</td>\n",
              "      <td>01-Jan-18</td>\n",
              "      <td>309.90</td>\n",
              "      <td>310.6</td>\n",
              "      <td>312.75</td>\n",
              "      <td>306.30</td>\n",
              "      <td>306.75</td>\n",
              "      <td>307.10</td>\n",
              "      <td>309.08</td>\n",
              "      <td>12182400</td>\n",
              "      <td>3.765315e+09</td>\n",
              "      <td>75769</td>\n",
              "      <td>5697288</td>\n",
              "      <td>46.77</td>\n",
              "    </tr>\n",
              "    <tr>\n",
              "      <th>1</th>\n",
              "      <td>SBIN</td>\n",
              "      <td>EQ</td>\n",
              "      <td>02-Jan-18</td>\n",
              "      <td>307.10</td>\n",
              "      <td>309.0</td>\n",
              "      <td>309.00</td>\n",
              "      <td>301.35</td>\n",
              "      <td>303.00</td>\n",
              "      <td>303.25</td>\n",
              "      <td>304.00</td>\n",
              "      <td>14797364</td>\n",
              "      <td>4.498328e+09</td>\n",
              "      <td>100195</td>\n",
              "      <td>5698196</td>\n",
              "      <td>38.51</td>\n",
              "    </tr>\n",
              "    <tr>\n",
              "      <th>2</th>\n",
              "      <td>SBIN</td>\n",
              "      <td>EQ</td>\n",
              "      <td>03-Jan-18</td>\n",
              "      <td>303.25</td>\n",
              "      <td>305.3</td>\n",
              "      <td>306.45</td>\n",
              "      <td>302.15</td>\n",
              "      <td>302.80</td>\n",
              "      <td>302.85</td>\n",
              "      <td>304.32</td>\n",
              "      <td>13857373</td>\n",
              "      <td>4.217070e+09</td>\n",
              "      <td>117207</td>\n",
              "      <td>6941140</td>\n",
              "      <td>50.09</td>\n",
              "    </tr>\n",
              "    <tr>\n",
              "      <th>3</th>\n",
              "      <td>SBIN</td>\n",
              "      <td>EQ</td>\n",
              "      <td>04-Jan-18</td>\n",
              "      <td>302.85</td>\n",
              "      <td>304.5</td>\n",
              "      <td>310.20</td>\n",
              "      <td>303.15</td>\n",
              "      <td>309.25</td>\n",
              "      <td>308.50</td>\n",
              "      <td>307.63</td>\n",
              "      <td>24517099</td>\n",
              "      <td>7.542211e+09</td>\n",
              "      <td>140513</td>\n",
              "      <td>10508054</td>\n",
              "      <td>42.86</td>\n",
              "    </tr>\n",
              "    <tr>\n",
              "      <th>4</th>\n",
              "      <td>SBIN</td>\n",
              "      <td>EQ</td>\n",
              "      <td>05-Jan-18</td>\n",
              "      <td>308.50</td>\n",
              "      <td>311.4</td>\n",
              "      <td>311.40</td>\n",
              "      <td>305.60</td>\n",
              "      <td>307.25</td>\n",
              "      <td>306.35</td>\n",
              "      <td>308.05</td>\n",
              "      <td>14580575</td>\n",
              "      <td>4.491544e+09</td>\n",
              "      <td>91829</td>\n",
              "      <td>4896408</td>\n",
              "      <td>33.58</td>\n",
              "    </tr>\n",
              "  </tbody>\n",
              "</table>\n",
              "</div>\n",
              "      <button class=\"colab-df-convert\" onclick=\"convertToInteractive('df-d5ecc755-39b9-4220-8c8b-f7cf58570491')\"\n",
              "              title=\"Convert this dataframe to an interactive table.\"\n",
              "              style=\"display:none;\">\n",
              "        \n",
              "  <svg xmlns=\"http://www.w3.org/2000/svg\" height=\"24px\"viewBox=\"0 0 24 24\"\n",
              "       width=\"24px\">\n",
              "    <path d=\"M0 0h24v24H0V0z\" fill=\"none\"/>\n",
              "    <path d=\"M18.56 5.44l.94 2.06.94-2.06 2.06-.94-2.06-.94-.94-2.06-.94 2.06-2.06.94zm-11 1L8.5 8.5l.94-2.06 2.06-.94-2.06-.94L8.5 2.5l-.94 2.06-2.06.94zm10 10l.94 2.06.94-2.06 2.06-.94-2.06-.94-.94-2.06-.94 2.06-2.06.94z\"/><path d=\"M17.41 7.96l-1.37-1.37c-.4-.4-.92-.59-1.43-.59-.52 0-1.04.2-1.43.59L10.3 9.45l-7.72 7.72c-.78.78-.78 2.05 0 2.83L4 21.41c.39.39.9.59 1.41.59.51 0 1.02-.2 1.41-.59l7.78-7.78 2.81-2.81c.8-.78.8-2.07 0-2.86zM5.41 20L4 18.59l7.72-7.72 1.47 1.35L5.41 20z\"/>\n",
              "  </svg>\n",
              "      </button>\n",
              "      \n",
              "  <style>\n",
              "    .colab-df-container {\n",
              "      display:flex;\n",
              "      flex-wrap:wrap;\n",
              "      gap: 12px;\n",
              "    }\n",
              "\n",
              "    .colab-df-convert {\n",
              "      background-color: #E8F0FE;\n",
              "      border: none;\n",
              "      border-radius: 50%;\n",
              "      cursor: pointer;\n",
              "      display: none;\n",
              "      fill: #1967D2;\n",
              "      height: 32px;\n",
              "      padding: 0 0 0 0;\n",
              "      width: 32px;\n",
              "    }\n",
              "\n",
              "    .colab-df-convert:hover {\n",
              "      background-color: #E2EBFA;\n",
              "      box-shadow: 0px 1px 2px rgba(60, 64, 67, 0.3), 0px 1px 3px 1px rgba(60, 64, 67, 0.15);\n",
              "      fill: #174EA6;\n",
              "    }\n",
              "\n",
              "    [theme=dark] .colab-df-convert {\n",
              "      background-color: #3B4455;\n",
              "      fill: #D2E3FC;\n",
              "    }\n",
              "\n",
              "    [theme=dark] .colab-df-convert:hover {\n",
              "      background-color: #434B5C;\n",
              "      box-shadow: 0px 1px 3px 1px rgba(0, 0, 0, 0.15);\n",
              "      filter: drop-shadow(0px 1px 2px rgba(0, 0, 0, 0.3));\n",
              "      fill: #FFFFFF;\n",
              "    }\n",
              "  </style>\n",
              "\n",
              "      <script>\n",
              "        const buttonEl =\n",
              "          document.querySelector('#df-d5ecc755-39b9-4220-8c8b-f7cf58570491 button.colab-df-convert');\n",
              "        buttonEl.style.display =\n",
              "          google.colab.kernel.accessAllowed ? 'block' : 'none';\n",
              "\n",
              "        async function convertToInteractive(key) {\n",
              "          const element = document.querySelector('#df-d5ecc755-39b9-4220-8c8b-f7cf58570491');\n",
              "          const dataTable =\n",
              "            await google.colab.kernel.invokeFunction('convertToInteractive',\n",
              "                                                     [key], {});\n",
              "          if (!dataTable) return;\n",
              "\n",
              "          const docLinkHtml = 'Like what you see? Visit the ' +\n",
              "            '<a target=\"_blank\" href=https://colab.research.google.com/notebooks/data_table.ipynb>data table notebook</a>'\n",
              "            + ' to learn more about interactive tables.';\n",
              "          element.innerHTML = '';\n",
              "          dataTable['output_type'] = 'display_data';\n",
              "          await google.colab.output.renderOutput(dataTable, element);\n",
              "          const docLink = document.createElement('div');\n",
              "          docLink.innerHTML = docLinkHtml;\n",
              "          element.appendChild(docLink);\n",
              "        }\n",
              "      </script>\n",
              "    </div>\n",
              "  </div>\n",
              "  "
            ]
          },
          "metadata": {},
          "execution_count": 28
        }
      ]
    },
    {
      "cell_type": "code",
      "source": [
        "SBIN_Req = SBIN[['Date','Open Price','High Price','Low Price','Close Price','Average Price']]"
      ],
      "metadata": {
        "id": "_nS-zebMwuGn"
      },
      "execution_count": 29,
      "outputs": []
    },
    {
      "cell_type": "code",
      "source": [
        "#Single plot\n",
        "figure, axis = plt.subplots(2,2,figsize=(12,12))\n",
        "axis[0][0].plot(SBIN_Req['Date'],SBIN_Req['Open Price'])\n",
        "axis[0][0].set_title('SBIN')\n",
        "axis[0][0].set_xlabel('Date')\n",
        "axis[0][0].set_ylabel('OpenPriceAt(Date)')\n",
        "axis[0][0].xaxis.set_major_locator(mdates.DayLocator((1,15)))\n",
        "axis[0][0].fmt_xdata = mdates.DateFormatter('%Y-%m-%d')\n",
        "\n",
        "axis[0][1].plot(SBIN_Req['Date'],SBIN_Req['Close Price'])\n",
        "axis[0][1].set_title('SBIN')\n",
        "axis[0][1].set_xlabel('Date')\n",
        "axis[0][1].set_ylabel('ClosePriceAt(Date)')\n",
        "axis[0][1].xaxis.set_major_locator(mdates.DayLocator((1,15)))\n",
        "axis[0][1].fmt_xdata = mdates.DateFormatter('%Y-%m-%d')"
      ],
      "metadata": {
        "colab": {
          "base_uri": "https://localhost:8080/",
          "height": 716
        },
        "id": "aN9csitu3JRv",
        "outputId": "b022427e-2a99-47d2-c688-62105b99f3b6"
      },
      "execution_count": 30,
      "outputs": [
        {
          "output_type": "display_data",
          "data": {
            "text/plain": [
              "<Figure size 864x864 with 4 Axes>"
            ],
            "image/png": "[encoded data removed]"
          },
          "metadata": {
            "needs_background": "light"
          }
        }
      ]
    },
    {
      "cell_type": "markdown",
      "source": [
        "##Parameters of the model"
      ],
      "metadata": {
        "id": "cS4zL9swAMAG"
      }
    },
    {
      "cell_type": "code",
      "source": [
        "past_days = 100\n",
        "train_test = 0.8\n",
        "predict_next_days = 7\n",
        "no_of_epochs = 50\n",
        "batch_size = 8"
      ],
      "metadata": {
        "id": "-Pm0pUwB_9TP"
      },
      "execution_count": 32,
      "outputs": []
    },
    {
      "cell_type": "markdown",
      "source": [
        "##Model building"
      ],
      "metadata": {
        "id": "PCrGnS41A14h"
      }
    },
    {
      "cell_type": "code",
      "source": [
        "SBIN_Req.columns"
      ],
      "metadata": {
        "colab": {
          "base_uri": "https://localhost:8080/"
        },
        "id": "201hWmJRAE3j",
        "outputId": "6f2ac5b6-0516-4ec5-85df-37e544390fff"
      },
      "execution_count": 34,
      "outputs": [
        {
          "output_type": "execute_result",
          "data": {
            "text/plain": [
              "Index(['Date', 'Open Price', 'High Price', 'Low Price', 'Close Price',\n",
              "       'Average Price'],\n",
              "      dtype='object')"
            ]
          },
          "metadata": {},
          "execution_count": 34
        }
      ]
    },
    {
      "cell_type": "code",
      "source": [
        "#Initalising empty list for testing and training data\n",
        "x_train = []\n",
        "y_train = []\n",
        "x_test = []\n",
        "y_test = []"
      ],
      "metadata": {
        "id": "WMDOp8FHBATP"
      },
      "execution_count": 35,
      "outputs": []
    },
    {
      "cell_type": "code",
      "source": [
        "#We are going to predict the Open price of the stock\n",
        "Open_data = np.asarray(SBIN_Req['Open Price'])\n",
        "Open_data[:10]"
      ],
      "metadata": {
        "colab": {
          "base_uri": "https://localhost:8080/"
        },
        "id": "Ys7BJb1ABHSQ",
        "outputId": "3e2dd03e-1caa-4e06-ca11-cc4f304fc976"
      },
      "execution_count": 37,
      "outputs": [
        {
          "output_type": "execute_result",
          "data": {
            "text/plain": [
              "array([310.6 , 309.  , 305.3 , 304.5 , 311.4 , 307.2 , 307.5 , 304.65,\n",
              "       300.9 , 304.65])"
            ]
          },
          "metadata": {},
          "execution_count": 37
        }
      ]
    },
    {
      "cell_type": "code",
      "source": [
        "#Reshaping to automatically make it a 2d-array which is the input for sequential model\n",
        "Open_data = Open_data.reshape(-1,1)\n",
        "Open_data[:10]"
      ],
      "metadata": {
        "colab": {
          "base_uri": "https://localhost:8080/"
        },
        "id": "3y1DnGJKBfJg",
        "outputId": "9a53fcca-6621-4953-ba7a-10636d8c299b"
      },
      "execution_count": 38,
      "outputs": [
        {
          "output_type": "execute_result",
          "data": {
            "text/plain": [
              "array([[310.6 ],\n",
              "       [309.  ],\n",
              "       [305.3 ],\n",
              "       [304.5 ],\n",
              "       [311.4 ],\n",
              "       [307.2 ],\n",
              "       [307.5 ],\n",
              "       [304.65],\n",
              "       [300.9 ],\n",
              "       [304.65]])"
            ]
          },
          "metadata": {},
          "execution_count": 38
        }
      ]
    },
    {
      "cell_type": "code",
      "source": [
        "#We scale the data to make the data modelling easier\n",
        "scaler = MinMaxScaler(feature_range=(0,1))\n",
        "scaled_data = scaler.fit_transform(Open_data)"
      ],
      "metadata": {
        "id": "pRIIoOFZLDwS"
      },
      "execution_count": 39,
      "outputs": []
    },
    {
      "cell_type": "code",
      "source": [
        "train_test"
      ],
      "metadata": {
        "colab": {
          "base_uri": "https://localhost:8080/"
        },
        "id": "Y6XRizZgCCGo",
        "outputId": "11aaa4b6-45c1-446d-91b1-bc3d0f66b6d9"
      },
      "execution_count": 40,
      "outputs": [
        {
          "output_type": "execute_result",
          "data": {
            "text/plain": [
              "0.8"
            ]
          },
          "metadata": {},
          "execution_count": 40
        }
      ]
    },
    {
      "cell_type": "code",
      "source": [
        "#We find the index for train_test_split as spefied ratio by the user above in the parameters\n",
        "training_data_len = int(len(SBIN_Req)*train_test)\n",
        "training_data_len"
      ],
      "metadata": {
        "colab": {
          "base_uri": "https://localhost:8080/"
        },
        "id": "tA0_dHDNBrj4",
        "outputId": "810154dd-6522-473b-e65b-532c2b273d74"
      },
      "execution_count": 42,
      "outputs": [
        {
          "output_type": "execute_result",
          "data": {
            "text/plain": [
              "476"
            ]
          },
          "metadata": {},
          "execution_count": 42
        }
      ]
    },
    {
      "cell_type": "code",
      "source": [
        "#Here we split the training data\n",
        "train_data = scaled_data[0:training_data_len,:]\n",
        "for i in range(past_days,len(train_data)):\n",
        "    x_train.append(train_data[i-past_days:i,0])\n",
        "    y_train.append(train_data[i, 0])\n",
        "\n",
        "x_train= np.array(x_train)\n",
        "y_train= np.array(y_train)\n",
        "x_train = np.reshape(x_train,(x_train.shape[0],x_train.shape[1], 1))"
      ],
      "metadata": {
        "id": "5w7tBHMZCTPA"
      },
      "execution_count": 43,
      "outputs": []
    },
    {
      "cell_type": "code",
      "source": [
        "#Here we split the testing data\n",
        "test_data = scaled_data[training_data_len-past_days:]\n",
        "x_test = []\n",
        "actual_data = Open_data[training_data_len:, :]\n",
        "y_test = scaled_data[training_data_len:, :]\n",
        "for i in range(past_days, len(test_data)):\n",
        "    x_test.append(test_data[i-past_days:i,0])\n",
        "x_test = np.array(x_test)\n",
        "x_test = np.reshape(x_test,(x_test.shape[0],x_test.shape[1], 1))"
      ],
      "metadata": {
        "id": "V58n0Da0CqWw"
      },
      "execution_count": 45,
      "outputs": []
    },
    {
      "cell_type": "code",
      "source": [
        "#Building the LSTM model\n",
        "model = Sequential()\n",
        "model.add(LSTM(units=32, return_sequences=True, input_shape=(x_train.shape[1], 1)))\n",
        "model.add(LSTM(units=32, return_sequences=False))\n",
        "# model.add(Dense(64))\n",
        "model.add(Dense(32))\n",
        "# model.add(Dense(16))\n",
        "model.add(Dense(1))\n",
        "model.compile(optimizer='rmsprop', loss='mse')"
      ],
      "metadata": {
        "id": "ZZ5M-gkwBfCR"
      },
      "execution_count": 46,
      "outputs": []
    },
    {
      "cell_type": "code",
      "source": [
        "# Fitting the training data and fitting the data to LSTM.\n",
        "# It uses a mse loss, we usually use MSE for regression. We can use Adam or Rmsprop optimizer\n",
        "model.fit(x_train, y_train, batch_size=batch_size, epochs=no_of_epochs)"
      ],
      "metadata": {
        "colab": {
          "base_uri": "https://localhost:8080/"
        },
        "id": "_a33sR1gCy54",
        "outputId": "68e3eaf2-ecaa-401e-a430-583fd9382e67"
      },
      "execution_count": 47,
      "outputs": [
        {
          "output_type": "stream",
          "name": "stdout",
          "text": [
            "Epoch 1/50\n",
            "47/47 [==============================] - 6s 44ms/step - loss: 0.0055\n",
            "Epoch 2/50\n",
            "47/47 [==============================] - 2s 44ms/step - loss: 0.0028\n",
            "Epoch 3/50\n",
            "47/47 [==============================] - 2s 42ms/step - loss: 0.0019\n",
            "Epoch 4/50\n",
            "47/47 [==============================] - 2s 43ms/step - loss: 0.0016\n",
            "Epoch 5/50\n",
            "47/47 [==============================] - 2s 43ms/step - loss: 0.0016\n",
            "Epoch 6/50\n",
            "47/47 [==============================] - 2s 43ms/step - loss: 0.0012\n",
            "Epoch 7/50\n",
            "47/47 [==============================] - 2s 43ms/step - loss: 0.0012\n",
            "Epoch 8/50\n",
            "47/47 [==============================] - 2s 43ms/step - loss: 0.0012\n",
            "Epoch 9/50\n",
            "47/47 [==============================] - 2s 43ms/step - loss: 9.6199e-04\n",
            "Epoch 10/50\n",
            "47/47 [==============================] - 2s 43ms/step - loss: 9.8491e-04\n",
            "Epoch 11/50\n",
            "47/47 [==============================] - 2s 43ms/step - loss: 0.0010\n",
            "Epoch 12/50\n",
            "47/47 [==============================] - 2s 44ms/step - loss: 8.6561e-04\n",
            "Epoch 13/50\n",
            "47/47 [==============================] - 2s 44ms/step - loss: 8.7733e-04\n",
            "Epoch 14/50\n",
            "47/47 [==============================] - 2s 44ms/step - loss: 8.8059e-04\n",
            "Epoch 15/50\n",
            "47/47 [==============================] - 2s 43ms/step - loss: 7.1229e-04\n",
            "Epoch 16/50\n",
            "47/47 [==============================] - 2s 43ms/step - loss: 8.0716e-04\n",
            "Epoch 17/50\n",
            "47/47 [==============================] - 2s 43ms/step - loss: 6.9833e-04\n",
            "Epoch 18/50\n",
            "47/47 [==============================] - 2s 42ms/step - loss: 7.1362e-04\n",
            "Epoch 19/50\n",
            "47/47 [==============================] - 2s 43ms/step - loss: 6.8669e-04\n",
            "Epoch 20/50\n",
            "47/47 [==============================] - 2s 43ms/step - loss: 6.8829e-04\n",
            "Epoch 21/50\n",
            "47/47 [==============================] - 2s 43ms/step - loss: 6.6884e-04\n",
            "Epoch 22/50\n",
            "47/47 [==============================] - 2s 42ms/step - loss: 6.7295e-04\n",
            "Epoch 23/50\n",
            "47/47 [==============================] - 2s 43ms/step - loss: 6.3359e-04\n",
            "Epoch 24/50\n",
            "47/47 [==============================] - 2s 43ms/step - loss: 6.3296e-04\n",
            "Epoch 25/50\n",
            "47/47 [==============================] - 2s 43ms/step - loss: 6.2448e-04\n",
            "Epoch 26/50\n",
            "47/47 [==============================] - 2s 43ms/step - loss: 5.5492e-04\n",
            "Epoch 27/50\n",
            "47/47 [==============================] - 2s 44ms/step - loss: 6.3017e-04\n",
            "Epoch 28/50\n",
            "47/47 [==============================] - 2s 43ms/step - loss: 6.3450e-04\n",
            "Epoch 29/50\n",
            "47/47 [==============================] - 2s 43ms/step - loss: 5.7417e-04\n",
            "Epoch 30/50\n",
            "47/47 [==============================] - 2s 42ms/step - loss: 6.2410e-04\n",
            "Epoch 31/50\n",
            "47/47 [==============================] - 2s 43ms/step - loss: 5.6071e-04\n",
            "Epoch 32/50\n",
            "47/47 [==============================] - 2s 44ms/step - loss: 6.2433e-04\n",
            "Epoch 33/50\n",
            "47/47 [==============================] - 2s 43ms/step - loss: 5.7611e-04\n",
            "Epoch 34/50\n",
            "47/47 [==============================] - 2s 44ms/step - loss: 6.2408e-04\n",
            "Epoch 35/50\n",
            "47/47 [==============================] - 2s 43ms/step - loss: 5.7549e-04\n",
            "Epoch 36/50\n",
            "47/47 [==============================] - 2s 43ms/step - loss: 5.9406e-04\n",
            "Epoch 37/50\n",
            "47/47 [==============================] - 2s 44ms/step - loss: 5.8429e-04\n",
            "Epoch 38/50\n",
            "47/47 [==============================] - 2s 43ms/step - loss: 6.0749e-04\n",
            "Epoch 39/50\n",
            "47/47 [==============================] - 2s 43ms/step - loss: 5.7484e-04\n",
            "Epoch 40/50\n",
            "47/47 [==============================] - 2s 43ms/step - loss: 5.5546e-04\n",
            "Epoch 41/50\n",
            "47/47 [==============================] - 2s 43ms/step - loss: 5.3824e-04\n",
            "Epoch 42/50\n",
            "47/47 [==============================] - 2s 45ms/step - loss: 5.9614e-04\n",
            "Epoch 43/50\n",
            "47/47 [==============================] - 2s 43ms/step - loss: 5.3355e-04\n",
            "Epoch 44/50\n",
            "47/47 [==============================] - 2s 44ms/step - loss: 5.5969e-04\n",
            "Epoch 45/50\n",
            "47/47 [==============================] - 2s 43ms/step - loss: 5.7359e-04\n",
            "Epoch 46/50\n",
            "47/47 [==============================] - 2s 43ms/step - loss: 5.4885e-04\n",
            "Epoch 47/50\n",
            "47/47 [==============================] - 2s 44ms/step - loss: 5.8761e-04\n",
            "Epoch 48/50\n",
            "47/47 [==============================] - 2s 43ms/step - loss: 5.4264e-04\n",
            "Epoch 49/50\n",
            "47/47 [==============================] - 2s 43ms/step - loss: 5.6505e-04\n",
            "Epoch 50/50\n",
            "47/47 [==============================] - 2s 43ms/step - loss: 5.5757e-04\n"
          ]
        },
        {
          "output_type": "execute_result",
          "data": {
            "text/plain": [
              "<keras.callbacks.History at 0x7fdfa2ba3d10>"
            ]
          },
          "metadata": {},
          "execution_count": 47
        }
      ]
    },
    {
      "cell_type": "markdown",
      "source": [
        "## Loss values"
      ],
      "metadata": {
        "id": "z6hKLFTtDaPw"
      }
    },
    {
      "cell_type": "code",
      "source": [
        "#Predict the data for test data and checked the mse for scalled data\n",
        "predictions = model.predict(x_test)\n",
        "mse = np.mean(predictions-y_test)**2\n",
        "predictions = scaler.inverse_transform(predictions)\n",
        "mse"
      ],
      "metadata": {
        "colab": {
          "base_uri": "https://localhost:8080/"
        },
        "id": "bR0uROZRDV9h",
        "outputId": "7d739107-6841-4980-a6ea-61288bb3ea29"
      },
      "execution_count": 48,
      "outputs": [
        {
          "output_type": "execute_result",
          "data": {
            "text/plain": [
              "2.1893518418788985e-05"
            ]
          },
          "metadata": {},
          "execution_count": 48
        }
      ]
    },
    {
      "cell_type": "code",
      "source": [
        "#MSE for actual data\n",
        "np.mean(actual_data-predictions)**2"
      ],
      "metadata": {
        "colab": {
          "base_uri": "https://localhost:8080/"
        },
        "id": "dNxQA23_D5UI",
        "outputId": "c982576f-6033-434e-e97f-466c1a1c9f01"
      },
      "execution_count": 49,
      "outputs": [
        {
          "output_type": "execute_result",
          "data": {
            "text/plain": [
              "2.113467441268281"
            ]
          },
          "metadata": {},
          "execution_count": 49
        }
      ]
    },
    {
      "cell_type": "code",
      "source": [
        "#Just printing and showing the predicted and actual data - this is a size of past_days\n",
        "for i in range(len(predictions)):\n",
        "  print(predictions[i],actual_data[i])"
      ],
      "metadata": {
        "colab": {
          "base_uri": "https://localhost:8080/"
        },
        "id": "hmHW8eC0ESVA",
        "outputId": "3c9ce7ab-1f29-413d-cc70-6a38d8dd8e6a"
      },
      "execution_count": 50,
      "outputs": [
        {
          "output_type": "stream",
          "name": "stdout",
          "text": [
            "[320.70255] [317.2]\n",
            "[317.4977] [311.2]\n",
            "[311.86066] [314.]\n",
            "[313.95636] [325.2]\n",
            "[324.60104] [335.95]\n",
            "[335.6399] [333.25]\n",
            "[333.81137] [335.]\n",
            "[335.14334] [327.35]\n",
            "[328.13217] [330.35]\n",
            "[330.52124] [335.7]\n",
            "[336.03378] [333.2]\n",
            "[334.23633] [333.]\n",
            "[333.8789] [333.4]\n",
            "[334.22156] [337.75]\n",
            "[338.37308] [334.4]\n",
            "[335.4849] [462.]\n",
            "[466.2689] [472.5]\n",
            "[477.6799] [481.9]\n",
            "[487.6714] [487.7]\n",
            "[494.33203] [493.45]\n",
            "[501.64493] [493.35]\n",
            "[501.94156] [503.]\n",
            "[513.4272] [509.9]\n",
            "[520.0121] [510.]\n",
            "[518.9245] [509.]\n",
            "[517.25305] [508.]\n",
            "[515.54663] [514.]\n",
            "[521.8283] [505.]\n",
            "[510.0669] [516.]\n",
            "[523.23456] [505.3]\n",
            "[508.9295] [502.4]\n",
            "[506.67426] [490.]\n",
            "[492.3659] [503.55]\n",
            "[508.4957] [534.]\n",
            "[541.3748] [529.]\n",
            "[531.6432] [543.95]\n",
            "[550.4434] [536.65]\n",
            "[540.12286] [537.15]\n",
            "[542.76953] [542.15]\n",
            "[548.65924] [531.9]\n",
            "[536.29443] [535.5]\n",
            "[542.1198] [534.95]\n",
            "[540.55457] [537.1]\n",
            "[543.0359] [536.25]\n",
            "[541.498] [515.]\n",
            "[517.1512] [502.]\n",
            "[504.89053] [526.5]\n",
            "[533.63434] [520.]\n",
            "[522.43097] [510.1]\n",
            "[512.15466] [511.55]\n",
            "[514.65] [500.9]\n",
            "[502.19656] [503.]\n",
            "[505.66248] [480.]\n",
            "[479.37402] [480.]\n",
            "[481.27383] [476.9]\n",
            "[477.32584] [478.]\n",
            "[478.52194] [480.]\n",
            "[480.38702] [460.3]\n",
            "[458.467] [447.5]\n",
            "[445.80173] [438.]\n",
            "[436.0474] [442.]\n",
            "[440.6075] [469.9]\n",
            "[470.78354] [466.4]\n",
            "[465.332] [471.]\n",
            "[470.89868] [489.]\n",
            "[490.95084] [493.]\n",
            "[494.59256] [499.]\n",
            "[501.80283] [502.]\n",
            "[505.25702] [490.6]\n",
            "[492.72202] [498.5]\n",
            "[503.1867] [485.]\n",
            "[487.1434] [491.75]\n",
            "[496.07596] [490.95]\n",
            "[494.1025] [500.]\n",
            "[504.21783] [499.3]\n",
            "[502.23428] [494.3]\n",
            "[496.68912] [491.]\n",
            "[493.41653] [509.3]\n",
            "[514.3652] [514.4]\n",
            "[518.09564] [507.]\n",
            "[509.43454] [510.05]\n",
            "[513.98584] [519.5]\n",
            "[524.4726] [513.5]\n",
            "[516.6373] [512.75]\n",
            "[516.784] [514.3]\n",
            "[518.55286] [512.]\n",
            "[515.7113] [513.25]\n",
            "[517.35333] [512.]\n",
            "[515.61945] [513.4]\n",
            "[517.27924] [512.9]\n",
            "[516.414] [495.]\n",
            "[496.16687] [499.]\n",
            "[502.45328] [500.]\n",
            "[502.71304] [499.15]\n",
            "[501.47778] [508.1]\n",
            "[511.50757] [492.65]\n",
            "[493.0343] [492.]\n",
            "[494.0088] [485.]\n",
            "[486.01242] [471.]\n",
            "[471.02963] [477.1]\n",
            "[478.62555] [477.]\n",
            "[477.73227] [475.25]\n",
            "[475.65482] [473.]\n",
            "[473.1726] [469.45]\n",
            "[469.39716] [445.]\n",
            "[443.0374] [458.3]\n",
            "[458.73337] [467.9]\n",
            "[468.49173] [449.05]\n",
            "[447.36383] [454.85]\n",
            "[454.66968] [463.1]\n",
            "[463.40228] [462.4]\n",
            "[462.32773] [461.]\n",
            "[461.018] [456.85]\n",
            "[456.74615] [471.4]\n",
            "[473.1795] [473.]\n",
            "[474.14877] [474.]\n",
            "[475.4118] [468.]\n",
            "[468.8954] [466.9]\n",
            "[468.29453] [473.25]\n",
            "[475.4509] [464.2]\n"
          ]
        }
      ]
    },
    {
      "cell_type": "markdown",
      "source": [
        "##Predict next 7 days"
      ],
      "metadata": {
        "id": "meYFS3ogEYD3"
      }
    },
    {
      "cell_type": "code",
      "source": [
        "#Predict for the next x days gice. Here x is the predict_next_days. Input the parameter in parameters section\n",
        "count = predict_next_days\n",
        "next_days = []\n",
        "Open_data_list = list(Open_data)\n",
        "while(count!=0):\n",
        "  last = Open_data_list[-past_days:]\n",
        "  last_data = np.asarray(last, dtype=object)\n",
        "  last_data = last_data.reshape(-1,1)\n",
        "  last_scalled = scaler.transform(last_data)\n",
        "  x_test = []\n",
        "  x_test.append(last_scalled)\n",
        "  x_test = np.array(x_test)\n",
        "  x_test = np.reshape(x_test,(x_test.shape[0],x_test.shape[1], 1))\n",
        "  prediction = model.predict(x_test)\n",
        "  prediction = scaler.inverse_transform(prediction)\n",
        "  next_days.append(prediction[0][0])\n",
        "  Open_data_list.append(prediction[0][0])\n",
        "  count-=1\n",
        "\n",
        "print(next_days)"
      ],
      "metadata": {
        "colab": {
          "base_uri": "https://localhost:8080/"
        },
        "id": "TWpwp98DEUzI",
        "outputId": "0aafa3a9-c821-4197-9dc8-9dab9724100e"
      },
      "execution_count": 52,
      "outputs": [
        {
          "output_type": "stream",
          "name": "stdout",
          "text": [
            "[465.0056, 466.50162, 467.93585, 469.32608, 470.6669, 472.0002, 473.38007]\n"
          ]
        }
      ]
    },
    {
      "cell_type": "code",
      "source": [
        "train = list(SBIN_Req['Open Price'])[:training_data_len]\n",
        "print(train)\n",
        "test = list(SBIN_Req['Open Price'])[training_data_len:]\n",
        "print(test)\n",
        "\n",
        "date_train = list(SBIN_Req['Date'])[:training_data_len]\n",
        "date_test = list(SBIN_Req['Date'])[training_data_len:]\n",
        "date_next = ['1st Day','2nd Day','3rd Day','4th Day','5th Day','6th Day','7th Day']"
      ],
      "metadata": {
        "colab": {
          "base_uri": "https://localhost:8080/"
        },
        "id": "-Fz0NijAEk6Q",
        "outputId": "8dbd4df7-0e57-4195-937e-9a6084a93149"
      },
      "execution_count": 53,
      "outputs": [
        {
          "output_type": "stream",
          "name": "stdout",
          "text": [
            "[310.6, 309.0, 305.3, 304.5, 311.4, 307.2, 307.5, 304.65, 300.9, 304.65, 303.95, 302.4, 296.0, 315.0, 303.95, 308.35, 306.4, 317.7, 332.75, 313.15, 312.05, 313.0, 316.9, 302.9, 292.65, 285.0, 296.6, 292.9, 297.0, 288.25, 288.7, 274.8, 280.5, 271.5, 269.0, 272.2, 270.4, 273.45, 280.0, 273.0, 264.25, 266.3, 260.45, 265.85, 255.05, 247.0, 257.0, 254.1, 251.3, 252.5, 257.0, 250.65, 252.9, 246.85, 251.75, 247.0, 237.8, 234.75, 250.0, 252.0, 251.8, 249.55, 251.7, 252.6, 259.65, 260.65, 261.1, 263.0, 257.5, 254.0, 249.35, 251.4, 249.5, 247.1, 245.85, 241.9, 242.0, 239.7, 238.4, 233.25, 244.8, 245.9, 240.95, 243.5, 242.45, 248.0, 249.8, 248.25, 247.6, 249.95, 253.0, 245.5, 244.2, 243.0, 243.55, 243.65, 254.65, 263.85, 267.8, 267.4, 270.5, 260.5, 266.85, 269.25, 268.0, 260.9, 263.0, 271.05, 268.95, 273.3, 274.0, 284.0, 286.55, 282.75, 278.0, 276.0, 273.2, 274.75, 269.0, 271.85, 267.25, 267.35, 260.4, 258.25, 258.95, 259.6, 255.75, 257.9, 256.1, 258.2, 263.85, 262.65, 261.4, 262.1, 257.0, 250.7, 260.1, 259.4, 259.9, 262.0, 267.2, 268.0, 275.1, 289.5, 289.2, 297.0, 294.5, 293.0, 294.6, 300.6, 309.85, 304.05, 312.95, 317.65, 296.0, 296.7, 293.5, 295.0, 304.1, 308.3, 306.95, 300.6, 304.0, 308.05, 306.8, 309.3, 307.9, 312.5, 306.8, 296.5, 298.0, 295.9, 290.65, 287.35, 284.0, 290.1, 288.5, 285.0, 275.4, 274.2, 272.7, 264.0, 274.0, 264.5, 266.4, 265.5, 273.35, 267.95, 271.0, 259.75, 268.0, 261.6, 268.0, 266.0, 264.4, 264.6, 273.75, 259.7, 266.0, 258.0, 260.25, 254.5, 252.0, 250.0, 267.5, 275.0, 283.0, 287.9, 286.45, 296.1, 288.9, 287.0, 283.7, 276.3, 280.4, 283.85, 285.9, 293.5, 285.9, 283.45, 285.95, 284.1, 284.6, 289.4, 289.3, 288.8, 286.7, 287.95, 282.45, 278.0, 277.0, 271.0, 268.35, 283.75, 290.0, 288.5, 289.3, 287.85, 294.7, 298.35, 293.65, 293.5, 292.85, 296.7, 293.6, 297.2, 297.5, 299.1, 295.0, 292.1, 301.05, 295.8, 306.0, 305.1, 305.4, 301.0, 302.0, 303.0, 303.9, 298.75, 295.9, 293.0, 290.45, 286.65, 289.6, 285.65, 281.0, 281.2, 290.0, 296.9, 282.4, 284.2, 285.85, 289.4, 285.6, 285.95, 280.65, 276.5, 268.0, 268.85, 264.4, 260.9, 264.5, 270.3, 267.9, 271.3, 266.8, 268.0, 267.7, 270.55, 271.7, 277.3, 279.45, 281.85, 285.3, 289.2, 288.1, 294.5, 292.6, 298.9, 300.15, 302.8, 304.3, 294.0, 294.75, 305.25, 310.1, 321.1, 321.8, 323.65, 331.0, 321.5, 323.7, 318.25, 313.95, 314.85, 311.0, 314.6, 315.5, 316.6, 315.8, 308.8, 310.05, 305.85, 311.0, 306.9, 312.0, 308.05, 309.0, 306.8, 310.7, 303.95, 297.6, 301.8, 310.0, 307.85, 316.2, 312.5, 315.65, 332.0, 345.9, 338.9, 353.0, 344.95, 355.05, 360.95, 358.0, 349.75, 354.35, 352.35, 354.0, 349.0, 337.0, 346.0, 345.05, 346.95, 343.0, 345.5, 343.75, 335.5, 343.1, 341.0, 344.8, 350.0, 352.7, 355.75, 358.1, 362.2, 362.8, 362.15, 365.25, 367.25, 369.45, 368.0, 353.5, 360.55, 358.5, 363.0, 364.1, 358.5, 364.05, 371.95, 365.1, 356.0, 351.2, 341.85, 341.7, 340.8, 343.95, 344.4, 325.1, 330.8, 315.55, 298.45, 298.8, 302.4, 290.0, 296.3, 290.9, 285.05, 287.95, 292.0, 287.3, 285.5, 278.3, 267.1, 288.0, 284.0, 286.65, 283.2, 275.95, 272.0, 269.7, 275.0, 275.05, 273.95, 278.5, 286.75, 285.0, 288.2, 285.0, 277.2, 279.95, 274.5, 307.55, 313.15, 297.0, 281.5, 282.7, 281.4, 272.75, 254.0, 258.5, 251.5, 250.1, 258.0, 256.2, 256.95, 256.45, 259.3, 256.4, 264.4, 270.4, 270.75, 276.0, 265.8, 284.95, 283.15, 283.0, 293.35, 312.4, 316.0, 313.9, 318.95, 318.25, 316.2, 314.7, 316.05, 306.95, 312.0, 324.0, 325.8, 332.0, 329.25, 331.45, 329.0, 338.0, 335.95, 346.85, 348.85, 343.9, 341.0, 334.1, 343.0, 336.7, 318.95]\n",
            "[317.2, 311.2, 314.0, 325.2, 335.95, 333.25, 335.0, 327.35, 330.35, 335.7, 333.2, 333.0, 333.4, 337.75, 334.4, 462.0, 472.5, 481.9, 487.7, 493.45, 493.35, 503.0, 509.9, 510.0, 509.0, 508.0, 514.0, 505.0, 516.0, 505.3, 502.4, 490.0, 503.55, 534.0, 529.0, 543.95, 536.65, 537.15, 542.15, 531.9, 535.5, 534.95, 537.1, 536.25, 515.0, 502.0, 526.5, 520.0, 510.1, 511.55, 500.9, 503.0, 480.0, 480.0, 476.9, 478.0, 480.0, 460.3, 447.5, 438.0, 442.0, 469.9, 466.4, 471.0, 489.0, 493.0, 499.0, 502.0, 490.6, 498.5, 485.0, 491.75, 490.95, 500.0, 499.3, 494.3, 491.0, 509.3, 514.4, 507.0, 510.05, 519.5, 513.5, 512.75, 514.3, 512.0, 513.25, 512.0, 513.4, 512.9, 495.0, 499.0, 500.0, 499.15, 508.1, 492.65, 492.0, 485.0, 471.0, 477.1, 477.0, 475.25, 473.0, 469.45, 445.0, 458.3, 467.9, 449.05, 454.85, 463.1, 462.4, 461.0, 456.85, 471.4, 473.0, 474.0, 468.0, 466.9, 473.25, 464.2]\n"
          ]
        }
      ]
    },
    {
      "cell_type": "markdown",
      "source": [
        "## Graph"
      ],
      "metadata": {
        "id": "8ZeWQZQbFb3X"
      }
    },
    {
      "cell_type": "code",
      "source": [
        "fig = go.Figure()\n",
        "fig.add_trace(go.Scatter(x=date_train, y=train,mode='lines',name='Train Data'))\n",
        "fig.add_trace(go.Scatter(x=date_test, y=test,mode='lines',name='Test Data'))\n",
        "fig.add_trace(go.Scatter(x=date_next, y=next_days,mode='lines+markers',name='Predicted Data'))\n",
        "fig.update_xaxes(\n",
        "  rangeslider_visible=True,\n",
        "  rangeselector=dict(\n",
        "      buttons=list([\n",
        "                    dict(count=1,\n",
        "                          label='1y',\n",
        "                          step='year',\n",
        "                          stepmode='todate'),\n",
        "                    dict(count=2,\n",
        "                          label='2y',\n",
        "                          step='year',\n",
        "                          stepmode='todate'),\n",
        "                    dict(count=3,\n",
        "                          label='3y',\n",
        "                          step='year',\n",
        "                          stepmode='todate'),\n",
        "                    dict(step='all')\n",
        "      ])\n",
        "  )\n",
        ")\n",
        "fig.update_layout(\n",
        "  title={'text': 'Stock Data',\n",
        "          'x':0.5,\n",
        "          'xanchor': 'center',\n",
        "          'yanchor': 'top'},\n",
        "  xaxis_title=\"Date\",\n",
        "  yaxis_title=\"Open Values\",\n",
        ")\n",
        "fig.show()"
      ],
      "metadata": {
        "colab": {
          "base_uri": "https://localhost:8080/",
          "height": 542
        },
        "id": "ZvEeMsxnFckg",
        "outputId": "c24a967c-abb8-48f2-ea92-b9e0842bad92"
      },
      "execution_count": 54,
      "outputs": [
        {
          "output_type": "display_data",
          "data": {
            "text/html": [
              "<html>\n",
              "<head><meta charset=\"utf-8\" /></head>\n",
              "<body>\n",
              "    <div>            <script src=\"https://cdnjs.cloudflare.com/ajax/libs/mathjax/2.7.5/MathJax.js?config=TeX-AMS-MML_SVG\"></script><script type=\"text/javascript\">if (window.MathJax) {MathJax.Hub.Config({SVG: {font: \"STIX-Web\"}});}</script>                <script type=\"text/javascript\">window.PlotlyConfig = {MathJaxConfig: 'local'};</script>\n",
              "        <script src=\"https://cdn.plot.ly/plotly-2.8.3.min.js\"></script>                <div id=\"b5d2c20b-42fe-4761-9c86-c56bdfc5b7f7\" class=\"plotly-graph-div\" style=\"height:525px; width:100%;\"></div>            <script type=\"text/javascript\">                                    window.PLOTLYENV=window.PLOTLYENV || {};                                    if (document.getElementById(\"b5d2c20b-42fe-4761-9c86-c56bdfc5b7f7\")) {                    Plotly.newPlot(                        \"b5d2c20b-42fe-4761-9c86-c56bdfc5b7f7\",                        [{\"mode\":\"lines\",\"name\":\"Train Data\",\"x\":[\"01-Jan-18\",\"02-Jan-18\",\"03-Jan-18\",\"04-Jan-18\",\"05-Jan-18\",\"08-Jan-18\",\"09-Jan-18\",\"10-Jan-18\",\"11-Jan-18\",\"12-Jan-18\",\"15-Jan-18\",\"16-Jan-18\",\"17-Jan-18\",\"18-Jan-18\",\"19-Jan-18\",\"22-Jan-18\",\"23-Jan-18\",\"24-Jan-18\",\"25-Jan-18\",\"29-Jan-18\",\"30-Jan-18\",\"31-Jan-18\",\"01-Feb-18\",\"02-Feb-18\",\"05-Feb-18\",\"06-Feb-18\",\"07-Feb-18\",\"08-Feb-18\",\"09-Feb-18\",\"12-Feb-18\",\"14-Feb-18\",\"15-Feb-18\",\"16-Feb-18\",\"19-Feb-18\",\"20-Feb-18\",\"21-Feb-18\",\"22-Feb-18\",\"23-Feb-18\",\"26-Feb-18\",\"27-Feb-18\",\"28-Feb-18\",\"01-Mar-18\",\"05-Mar-18\",\"06-Mar-18\",\"07-Mar-18\",\"08-Mar-18\",\"09-Mar-18\",\"12-Mar-18\",\"13-Mar-18\",\"14-Mar-18\",\"15-Mar-18\",\"16-Mar-18\",\"19-Mar-18\",\"20-Mar-18\",\"21-Mar-18\",\"22-Mar-18\",\"23-Mar-18\",\"26-Mar-18\",\"27-Mar-18\",\"28-Mar-18\",\"02-Apr-18\",\"03-Apr-18\",\"04-Apr-18\",\"05-Apr-18\",\"06-Apr-18\",\"09-Apr-18\",\"10-Apr-18\",\"11-Apr-18\",\"12-Apr-18\",\"13-Apr-18\",\"16-Apr-18\",\"17-Apr-18\",\"18-Apr-18\",\"19-Apr-18\",\"20-Apr-18\",\"23-Apr-18\",\"24-Apr-18\",\"25-Apr-18\",\"26-Apr-18\",\"27-Apr-18\",\"30-Apr-18\",\"02-May-18\",\"03-May-18\",\"04-May-18\",\"07-May-18\",\"08-May-18\",\"09-May-18\",\"10-May-18\",\"11-May-18\",\"14-May-18\",\"15-May-18\",\"16-May-18\",\"17-May-18\",\"18-May-18\",\"21-May-18\",\"22-May-18\",\"23-May-18\",\"24-May-18\",\"25-May-18\",\"28-May-18\",\"29-May-18\",\"30-May-18\",\"31-May-18\",\"01-Jun-18\",\"04-Jun-18\",\"05-Jun-18\",\"06-Jun-18\",\"07-Jun-18\",\"08-Jun-18\",\"11-Jun-18\",\"12-Jun-18\",\"13-Jun-18\",\"14-Jun-18\",\"15-Jun-18\",\"18-Jun-18\",\"19-Jun-18\",\"20-Jun-18\",\"21-Jun-18\",\"22-Jun-18\",\"25-Jun-18\",\"26-Jun-18\",\"27-Jun-18\",\"28-Jun-18\",\"29-Jun-18\",\"02-Jul-18\",\"03-Jul-18\",\"04-Jul-18\",\"05-Jul-18\",\"06-Jul-18\",\"09-Jul-18\",\"10-Jul-18\",\"11-Jul-18\",\"12-Jul-18\",\"13-Jul-18\",\"16-Jul-18\",\"17-Jul-18\",\"18-Jul-18\",\"19-Jul-18\",\"20-Jul-18\",\"23-Jul-18\",\"24-Jul-18\",\"25-Jul-18\",\"26-Jul-18\",\"27-Jul-18\",\"30-Jul-18\",\"31-Jul-18\",\"01-Aug-18\",\"02-Aug-18\",\"03-Aug-18\",\"06-Aug-18\",\"07-Aug-18\",\"08-Aug-18\",\"09-Aug-18\",\"10-Aug-18\",\"13-Aug-18\",\"14-Aug-18\",\"16-Aug-18\",\"17-Aug-18\",\"20-Aug-18\",\"21-Aug-18\",\"23-Aug-18\",\"24-Aug-18\",\"27-Aug-18\",\"28-Aug-18\",\"29-Aug-18\",\"30-Aug-18\",\"31-Aug-18\",\"03-Sep-18\",\"04-Sep-18\",\"05-Sep-18\",\"06-Sep-18\",\"07-Sep-18\",\"10-Sep-18\",\"11-Sep-18\",\"12-Sep-18\",\"14-Sep-18\",\"17-Sep-18\",\"18-Sep-18\",\"19-Sep-18\",\"21-Sep-18\",\"24-Sep-18\",\"25-Sep-18\",\"26-Sep-18\",\"27-Sep-18\",\"28-Sep-18\",\"01-Oct-18\",\"03-Oct-18\",\"04-Oct-18\",\"05-Oct-18\",\"08-Oct-18\",\"09-Oct-18\",\"10-Oct-18\",\"11-Oct-18\",\"12-Oct-18\",\"15-Oct-18\",\"16-Oct-18\",\"17-Oct-18\",\"19-Oct-18\",\"22-Oct-18\",\"23-Oct-18\",\"24-Oct-18\",\"25-Oct-18\",\"26-Oct-18\",\"29-Oct-18\",\"30-Oct-18\",\"31-Oct-18\",\"01-Nov-18\",\"02-Nov-18\",\"05-Nov-18\",\"06-Nov-18\",\"07-Nov-18\",\"09-Nov-18\",\"12-Nov-18\",\"13-Nov-18\",\"14-Nov-18\",\"15-Nov-18\",\"16-Nov-18\",\"19-Nov-18\",\"20-Nov-18\",\"21-Nov-18\",\"22-Nov-18\",\"26-Nov-18\",\"27-Nov-18\",\"28-Nov-18\",\"29-Nov-18\",\"30-Nov-18\",\"03-Dec-18\",\"04-Dec-18\",\"05-Dec-18\",\"06-Dec-18\",\"07-Dec-18\",\"10-Dec-18\",\"11-Dec-18\",\"12-Dec-18\",\"13-Dec-18\",\"14-Dec-18\",\"17-Dec-18\",\"18-Dec-18\",\"19-Dec-18\",\"20-Dec-18\",\"21-Dec-18\",\"24-Dec-18\",\"26-Dec-18\",\"27-Dec-18\",\"28-Dec-18\",\"31-Dec-18\",\"01-Jan-19\",\"02-Jan-19\",\"03-Jan-19\",\"04-Jan-19\",\"07-Jan-19\",\"08-Jan-19\",\"09-Jan-19\",\"10-Jan-19\",\"11-Jan-19\",\"14-Jan-19\",\"15-Jan-19\",\"16-Jan-19\",\"17-Jan-19\",\"18-Jan-19\",\"21-Jan-19\",\"22-Jan-19\",\"23-Jan-19\",\"24-Jan-19\",\"25-Jan-19\",\"28-Jan-19\",\"29-Jan-19\",\"30-Jan-19\",\"31-Jan-19\",\"01-Feb-19\",\"04-Feb-19\",\"05-Feb-19\",\"06-Feb-19\",\"07-Feb-19\",\"08-Feb-19\",\"11-Feb-19\",\"12-Feb-19\",\"13-Feb-19\",\"14-Feb-19\",\"15-Feb-19\",\"18-Feb-19\",\"19-Feb-19\",\"20-Feb-19\",\"21-Feb-19\",\"22-Feb-19\",\"25-Feb-19\",\"26-Feb-19\",\"27-Feb-19\",\"28-Feb-19\",\"01-Mar-19\",\"05-Mar-19\",\"06-Mar-19\",\"07-Mar-19\",\"08-Mar-19\",\"11-Mar-19\",\"12-Mar-19\",\"13-Mar-19\",\"14-Mar-19\",\"15-Mar-19\",\"18-Mar-19\",\"19-Mar-19\",\"20-Mar-19\",\"22-Mar-19\",\"25-Mar-19\",\"26-Mar-19\",\"27-Mar-19\",\"28-Mar-19\",\"29-Mar-19\",\"01-Apr-19\",\"02-Apr-19\",\"03-Apr-19\",\"04-Apr-19\",\"05-Apr-19\",\"08-Apr-19\",\"09-Apr-19\",\"10-Apr-19\",\"11-Apr-19\",\"12-Apr-19\",\"15-Apr-19\",\"16-Apr-19\",\"18-Apr-19\",\"22-Apr-19\",\"23-Apr-19\",\"24-Apr-19\",\"25-Apr-19\",\"26-Apr-19\",\"30-Apr-19\",\"02-May-19\",\"03-May-19\",\"06-May-19\",\"07-May-19\",\"08-May-19\",\"09-May-19\",\"10-May-19\",\"13-May-19\",\"14-May-19\",\"15-May-19\",\"16-May-19\",\"17-May-19\",\"20-May-19\",\"21-May-19\",\"22-May-19\",\"23-May-19\",\"24-May-19\",\"27-May-19\",\"28-May-19\",\"29-May-19\",\"30-May-19\",\"31-May-19\",\"03-Jun-19\",\"04-Jun-19\",\"06-Jun-19\",\"07-Jun-19\",\"10-Jun-19\",\"11-Jun-19\",\"12-Jun-19\",\"13-Jun-19\",\"14-Jun-19\",\"17-Jun-19\",\"18-Jun-19\",\"19-Jun-19\",\"20-Jun-19\",\"21-Jun-19\",\"24-Jun-19\",\"25-Jun-19\",\"26-Jun-19\",\"27-Jun-19\",\"28-Jun-19\",\"01-Jul-19\",\"02-Jul-19\",\"03-Jul-19\",\"04-Jul-19\",\"05-Jul-19\",\"08-Jul-19\",\"09-Jul-19\",\"10-Jul-19\",\"11-Jul-19\",\"12-Jul-19\",\"15-Jul-19\",\"16-Jul-19\",\"17-Jul-19\",\"18-Jul-19\",\"19-Jul-19\",\"22-Jul-19\",\"23-Jul-19\",\"24-Jul-19\",\"25-Jul-19\",\"26-Jul-19\",\"29-Jul-19\",\"30-Jul-19\",\"31-Jul-19\",\"01-Aug-19\",\"02-Aug-19\",\"05-Aug-19\",\"06-Aug-19\",\"07-Aug-19\",\"08-Aug-19\",\"09-Aug-19\",\"13-Aug-19\",\"14-Aug-19\",\"16-Aug-19\",\"19-Aug-19\",\"20-Aug-19\",\"21-Aug-19\",\"22-Aug-19\",\"23-Aug-19\",\"26-Aug-19\",\"27-Aug-19\",\"28-Aug-19\",\"29-Aug-19\",\"30-Aug-19\",\"03-Sep-19\",\"04-Sep-19\",\"05-Sep-19\",\"06-Sep-19\",\"09-Sep-19\",\"11-Sep-19\",\"12-Sep-19\",\"13-Sep-19\",\"16-Sep-19\",\"17-Sep-19\",\"18-Sep-19\",\"19-Sep-19\",\"20-Sep-19\",\"23-Sep-19\",\"24-Sep-19\",\"25-Sep-19\",\"26-Sep-19\",\"27-Sep-19\",\"30-Sep-19\",\"01-Oct-19\",\"03-Oct-19\",\"04-Oct-19\",\"07-Oct-19\",\"09-Oct-19\",\"10-Oct-19\",\"11-Oct-19\",\"14-Oct-19\",\"15-Oct-19\",\"16-Oct-19\",\"17-Oct-19\",\"18-Oct-19\",\"22-Oct-19\",\"23-Oct-19\",\"24-Oct-19\",\"25-Oct-19\",\"27-Oct-19\",\"29-Oct-19\",\"30-Oct-19\",\"31-Oct-19\",\"01-Nov-19\",\"04-Nov-19\",\"05-Nov-19\",\"06-Nov-19\",\"07-Nov-19\",\"08-Nov-19\",\"11-Nov-19\",\"13-Nov-19\",\"14-Nov-19\",\"15-Nov-19\",\"18-Nov-19\",\"19-Nov-19\",\"20-Nov-19\",\"21-Nov-19\",\"22-Nov-19\",\"25-Nov-19\",\"26-Nov-19\",\"27-Nov-19\",\"28-Nov-19\",\"29-Nov-19\",\"02-Dec-19\",\"03-Dec-19\",\"04-Dec-19\",\"05-Dec-19\",\"06-Dec-19\",\"09-Dec-19\"],\"y\":[310.6,309.0,305.3,304.5,311.4,307.2,307.5,304.65,300.9,304.65,303.95,302.4,296.0,315.0,303.95,308.35,306.4,317.7,332.75,313.15,312.05,313.0,316.9,302.9,292.65,285.0,296.6,292.9,297.0,288.25,288.7,274.8,280.5,271.5,269.0,272.2,270.4,273.45,280.0,273.0,264.25,266.3,260.45,265.85,255.05,247.0,257.0,254.1,251.3,252.5,257.0,250.65,252.9,246.85,251.75,247.0,237.8,234.75,250.0,252.0,251.8,249.55,251.7,252.6,259.65,260.65,261.1,263.0,257.5,254.0,249.35,251.4,249.5,247.1,245.85,241.9,242.0,239.7,238.4,233.25,244.8,245.9,240.95,243.5,242.45,248.0,249.8,248.25,247.6,249.95,253.0,245.5,244.2,243.0,243.55,243.65,254.65,263.85,267.8,267.4,270.5,260.5,266.85,269.25,268.0,260.9,263.0,271.05,268.95,273.3,274.0,284.0,286.55,282.75,278.0,276.0,273.2,274.75,269.0,271.85,267.25,267.35,260.4,258.25,258.95,259.6,255.75,257.9,256.1,258.2,263.85,262.65,261.4,262.1,257.0,250.7,260.1,259.4,259.9,262.0,267.2,268.0,275.1,289.5,289.2,297.0,294.5,293.0,294.6,300.6,309.85,304.05,312.95,317.65,296.0,296.7,293.5,295.0,304.1,308.3,306.95,300.6,304.0,308.05,306.8,309.3,307.9,312.5,306.8,296.5,298.0,295.9,290.65,287.35,284.0,290.1,288.5,285.0,275.4,274.2,272.7,264.0,274.0,264.5,266.4,265.5,273.35,267.95,271.0,259.75,268.0,261.6,268.0,266.0,264.4,264.6,273.75,259.7,266.0,258.0,260.25,254.5,252.0,250.0,267.5,275.0,283.0,287.9,286.45,296.1,288.9,287.0,283.7,276.3,280.4,283.85,285.9,293.5,285.9,283.45,285.95,284.1,284.6,289.4,289.3,288.8,286.7,287.95,282.45,278.0,277.0,271.0,268.35,283.75,290.0,288.5,289.3,287.85,294.7,298.35,293.65,293.5,292.85,296.7,293.6,297.2,297.5,299.1,295.0,292.1,301.05,295.8,306.0,305.1,305.4,301.0,302.0,303.0,303.9,298.75,295.9,293.0,290.45,286.65,289.6,285.65,281.0,281.2,290.0,296.9,282.4,284.2,285.85,289.4,285.6,285.95,280.65,276.5,268.0,268.85,264.4,260.9,264.5,270.3,267.9,271.3,266.8,268.0,267.7,270.55,271.7,277.3,279.45,281.85,285.3,289.2,288.1,294.5,292.6,298.9,300.15,302.8,304.3,294.0,294.75,305.25,310.1,321.1,321.8,323.65,331.0,321.5,323.7,318.25,313.95,314.85,311.0,314.6,315.5,316.6,315.8,308.8,310.05,305.85,311.0,306.9,312.0,308.05,309.0,306.8,310.7,303.95,297.6,301.8,310.0,307.85,316.2,312.5,315.65,332.0,345.9,338.9,353.0,344.95,355.05,360.95,358.0,349.75,354.35,352.35,354.0,349.0,337.0,346.0,345.05,346.95,343.0,345.5,343.75,335.5,343.1,341.0,344.8,350.0,352.7,355.75,358.1,362.2,362.8,362.15,365.25,367.25,369.45,368.0,353.5,360.55,358.5,363.0,364.1,358.5,364.05,371.95,365.1,356.0,351.2,341.85,341.7,340.8,343.95,344.4,325.1,330.8,315.55,298.45,298.8,302.4,290.0,296.3,290.9,285.05,287.95,292.0,287.3,285.5,278.3,267.1,288.0,284.0,286.65,283.2,275.95,272.0,269.7,275.0,275.05,273.95,278.5,286.75,285.0,288.2,285.0,277.2,279.95,274.5,307.55,313.15,297.0,281.5,282.7,281.4,272.75,254.0,258.5,251.5,250.1,258.0,256.2,256.95,256.45,259.3,256.4,264.4,270.4,270.75,276.0,265.8,284.95,283.15,283.0,293.35,312.4,316.0,313.9,318.95,318.25,316.2,314.7,316.05,306.95,312.0,324.0,325.8,332.0,329.25,331.45,329.0,338.0,335.95,346.85,348.85,343.9,341.0,334.1,343.0,336.7,318.95],\"type\":\"scatter\"},{\"mode\":\"lines\",\"name\":\"Test Data\",\"x\":[\"10-Dec-19\",\"11-Dec-19\",\"12-Dec-19\",\"13-Dec-19\",\"16-Dec-19\",\"17-Dec-19\",\"18-Dec-19\",\"19-Dec-19\",\"20-Dec-19\",\"23-Dec-19\",\"24-Dec-19\",\"26-Dec-19\",\"27-Dec-19\",\"30-Dec-19\",\"31-Dec-19\",\"03-Jan-22\",\"04-Jan-22\",\"05-Jan-22\",\"06-Jan-22\",\"07-Jan-22\",\"10-Jan-22\",\"11-Jan-22\",\"12-Jan-22\",\"13-Jan-22\",\"14-Jan-22\",\"17-Jan-22\",\"18-Jan-22\",\"19-Jan-22\",\"20-Jan-22\",\"21-Jan-22\",\"24-Jan-22\",\"25-Jan-22\",\"27-Jan-22\",\"28-Jan-22\",\"31-Jan-22\",\"01-Feb-22\",\"02-Feb-22\",\"03-Feb-22\",\"04-Feb-22\",\"07-Feb-22\",\"08-Feb-22\",\"09-Feb-22\",\"10-Feb-22\",\"11-Feb-22\",\"14-Feb-22\",\"15-Feb-22\",\"16-Feb-22\",\"17-Feb-22\",\"18-Feb-22\",\"21-Feb-22\",\"22-Feb-22\",\"23-Feb-22\",\"24-Feb-22\",\"25-Feb-22\",\"28-Feb-22\",\"02-Mar-22\",\"03-Mar-22\",\"04-Mar-22\",\"07-Mar-22\",\"08-Mar-22\",\"09-Mar-22\",\"10-Mar-22\",\"11-Mar-22\",\"14-Mar-22\",\"15-Mar-22\",\"16-Mar-22\",\"17-Mar-22\",\"21-Mar-22\",\"22-Mar-22\",\"23-Mar-22\",\"24-Mar-22\",\"25-Mar-22\",\"28-Mar-22\",\"29-Mar-22\",\"30-Mar-22\",\"31-Mar-22\",\"01-Apr-22\",\"04-Apr-22\",\"05-Apr-22\",\"06-Apr-22\",\"07-Apr-22\",\"08-Apr-22\",\"11-Apr-22\",\"12-Apr-22\",\"13-Apr-22\",\"18-Apr-22\",\"19-Apr-22\",\"20-Apr-22\",\"21-Apr-22\",\"22-Apr-22\",\"25-Apr-22\",\"26-Apr-22\",\"27-Apr-22\",\"28-Apr-22\",\"29-Apr-22\",\"02-May-22\",\"04-May-22\",\"05-May-22\",\"06-May-22\",\"09-May-22\",\"10-May-22\",\"11-May-22\",\"12-May-22\",\"13-May-22\",\"16-May-22\",\"17-May-22\",\"18-May-22\",\"19-May-22\",\"20-May-22\",\"23-May-22\",\"24-May-22\",\"25-May-22\",\"26-May-22\",\"27-May-22\",\"30-May-22\",\"31-May-22\",\"01-Jun-22\",\"02-Jun-22\",\"03-Jun-22\",\"06-Jun-22\"],\"y\":[317.2,311.2,314.0,325.2,335.95,333.25,335.0,327.35,330.35,335.7,333.2,333.0,333.4,337.75,334.4,462.0,472.5,481.9,487.7,493.45,493.35,503.0,509.9,510.0,509.0,508.0,514.0,505.0,516.0,505.3,502.4,490.0,503.55,534.0,529.0,543.95,536.65,537.15,542.15,531.9,535.5,534.95,537.1,536.25,515.0,502.0,526.5,520.0,510.1,511.55,500.9,503.0,480.0,480.0,476.9,478.0,480.0,460.3,447.5,438.0,442.0,469.9,466.4,471.0,489.0,493.0,499.0,502.0,490.6,498.5,485.0,491.75,490.95,500.0,499.3,494.3,491.0,509.3,514.4,507.0,510.05,519.5,513.5,512.75,514.3,512.0,513.25,512.0,513.4,512.9,495.0,499.0,500.0,499.15,508.1,492.65,492.0,485.0,471.0,477.1,477.0,475.25,473.0,469.45,445.0,458.3,467.9,449.05,454.85,463.1,462.4,461.0,456.85,471.4,473.0,474.0,468.0,466.9,473.25,464.2],\"type\":\"scatter\"},{\"mode\":\"lines+markers\",\"name\":\"Predicted Data\",\"x\":[\"1st Day\",\"2nd Day\",\"3rd Day\",\"4th Day\",\"5th Day\",\"6th Day\",\"7th Day\"],\"y\":[465.005615234375,466.5016174316406,467.93585205078125,469.3260803222656,470.6669006347656,472.0002136230469,473.38006591796875],\"type\":\"scatter\"}],                        {\"template\":{\"data\":{\"bar\":[{\"error_x\":{\"color\":\"#2a3f5f\"},\"error_y\":{\"color\":\"#2a3f5f\"},\"marker\":{\"line\":{\"color\":\"#E5ECF6\",\"width\":0.5},\"pattern\":{\"fillmode\":\"overlay\",\"size\":10,\"solidity\":0.2}},\"type\":\"bar\"}],\"barpolar\":[{\"marker\":{\"line\":{\"color\":\"#E5ECF6\",\"width\":0.5},\"pattern\":{\"fillmode\":\"overlay\",\"size\":10,\"solidity\":0.2}},\"type\":\"barpolar\"}],\"carpet\":[{\"aaxis\":{\"endlinecolor\":\"#2a3f5f\",\"gridcolor\":\"white\",\"linecolor\":\"white\",\"minorgridcolor\":\"white\",\"startlinecolor\":\"#2a3f5f\"},\"baxis\":{\"endlinecolor\":\"#2a3f5f\",\"gridcolor\":\"white\",\"linecolor\":\"white\",\"minorgridcolor\":\"white\",\"startlinecolor\":\"#2a3f5f\"},\"type\":\"carpet\"}],\"choropleth\":[{\"colorbar\":{\"outlinewidth\":0,\"ticks\":\"\"},\"type\":\"choropleth\"}],\"contour\":[{\"colorbar\":{\"outlinewidth\":0,\"ticks\":\"\"},\"colorscale\":[[0.0,\"#0d0887\"],[0.1111111111111111,\"#46039f\"],[0.2222222222222222,\"#7201a8\"],[0.3333333333333333,\"#9c179e\"],[0.4444444444444444,\"#bd3786\"],[0.5555555555555556,\"#d8576b\"],[0.6666666666666666,\"#ed7953\"],[0.7777777777777778,\"#fb9f3a\"],[0.8888888888888888,\"#fdca26\"],[1.0,\"#f0f921\"]],\"type\":\"contour\"}],\"contourcarpet\":[{\"colorbar\":{\"outlinewidth\":0,\"ticks\":\"\"},\"type\":\"contourcarpet\"}],\"heatmap\":[{\"colorbar\":{\"outlinewidth\":0,\"ticks\":\"\"},\"colorscale\":[[0.0,\"#0d0887\"],[0.1111111111111111,\"#46039f\"],[0.2222222222222222,\"#7201a8\"],[0.3333333333333333,\"#9c179e\"],[0.4444444444444444,\"#bd3786\"],[0.5555555555555556,\"#d8576b\"],[0.6666666666666666,\"#ed7953\"],[0.7777777777777778,\"#fb9f3a\"],[0.8888888888888888,\"#fdca26\"],[1.0,\"#f0f921\"]],\"type\":\"heatmap\"}],\"heatmapgl\":[{\"colorbar\":{\"outlinewidth\":0,\"ticks\":\"\"},\"colorscale\":[[0.0,\"#0d0887\"],[0.1111111111111111,\"#46039f\"],[0.2222222222222222,\"#7201a8\"],[0.3333333333333333,\"#9c179e\"],[0.4444444444444444,\"#bd3786\"],[0.5555555555555556,\"#d8576b\"],[0.6666666666666666,\"#ed7953\"],[0.7777777777777778,\"#fb9f3a\"],[0.8888888888888888,\"#fdca26\"],[1.0,\"#f0f921\"]],\"type\":\"heatmapgl\"}],\"histogram\":[{\"marker\":{\"pattern\":{\"fillmode\":\"overlay\",\"size\":10,\"solidity\":0.2}},\"type\":\"histogram\"}],\"histogram2d\":[{\"colorbar\":{\"outlinewidth\":0,\"ticks\":\"\"},\"colorscale\":[[0.0,\"#0d0887\"],[0.1111111111111111,\"#46039f\"],[0.2222222222222222,\"#7201a8\"],[0.3333333333333333,\"#9c179e\"],[0.4444444444444444,\"#bd3786\"],[0.5555555555555556,\"#d8576b\"],[0.6666666666666666,\"#ed7953\"],[0.7777777777777778,\"#fb9f3a\"],[0.8888888888888888,\"#fdca26\"],[1.0,\"#f0f921\"]],\"type\":\"histogram2d\"}],\"histogram2dcontour\":[{\"colorbar\":{\"outlinewidth\":0,\"ticks\":\"\"},\"colorscale\":[[0.0,\"#0d0887\"],[0.1111111111111111,\"#46039f\"],[0.2222222222222222,\"#7201a8\"],[0.3333333333333333,\"#9c179e\"],[0.4444444444444444,\"#bd3786\"],[0.5555555555555556,\"#d8576b\"],[0.6666666666666666,\"#ed7953\"],[0.7777777777777778,\"#fb9f3a\"],[0.8888888888888888,\"#fdca26\"],[1.0,\"#f0f921\"]],\"type\":\"histogram2dcontour\"}],\"mesh3d\":[{\"colorbar\":{\"outlinewidth\":0,\"ticks\":\"\"},\"type\":\"mesh3d\"}],\"parcoords\":[{\"line\":{\"colorbar\":{\"outlinewidth\":0,\"ticks\":\"\"}},\"type\":\"parcoords\"}],\"pie\":[{\"automargin\":true,\"type\":\"pie\"}],\"scatter\":[{\"marker\":{\"colorbar\":{\"outlinewidth\":0,\"ticks\":\"\"}},\"type\":\"scatter\"}],\"scatter3d\":[{\"line\":{\"colorbar\":{\"outlinewidth\":0,\"ticks\":\"\"}},\"marker\":{\"colorbar\":{\"outlinewidth\":0,\"ticks\":\"\"}},\"type\":\"scatter3d\"}],\"scattercarpet\":[{\"marker\":{\"colorbar\":{\"outlinewidth\":0,\"ticks\":\"\"}},\"type\":\"scattercarpet\"}],\"scattergeo\":[{\"marker\":{\"colorbar\":{\"outlinewidth\":0,\"ticks\":\"\"}},\"type\":\"scattergeo\"}],\"scattergl\":[{\"marker\":{\"colorbar\":{\"outlinewidth\":0,\"ticks\":\"\"}},\"type\":\"scattergl\"}],\"scattermapbox\":[{\"marker\":{\"colorbar\":{\"outlinewidth\":0,\"ticks\":\"\"}},\"type\":\"scattermapbox\"}],\"scatterpolar\":[{\"marker\":{\"colorbar\":{\"outlinewidth\":0,\"ticks\":\"\"}},\"type\":\"scatterpolar\"}],\"scatterpolargl\":[{\"marker\":{\"colorbar\":{\"outlinewidth\":0,\"ticks\":\"\"}},\"type\":\"scatterpolargl\"}],\"scatterternary\":[{\"marker\":{\"colorbar\":{\"outlinewidth\":0,\"ticks\":\"\"}},\"type\":\"scatterternary\"}],\"surface\":[{\"colorbar\":{\"outlinewidth\":0,\"ticks\":\"\"},\"colorscale\":[[0.0,\"#0d0887\"],[0.1111111111111111,\"#46039f\"],[0.2222222222222222,\"#7201a8\"],[0.3333333333333333,\"#9c179e\"],[0.4444444444444444,\"#bd3786\"],[0.5555555555555556,\"#d8576b\"],[0.6666666666666666,\"#ed7953\"],[0.7777777777777778,\"#fb9f3a\"],[0.8888888888888888,\"#fdca26\"],[1.0,\"#f0f921\"]],\"type\":\"surface\"}],\"table\":[{\"cells\":{\"fill\":{\"color\":\"#EBF0F8\"},\"line\":{\"color\":\"white\"}},\"header\":{\"fill\":{\"color\":\"#C8D4E3\"},\"line\":{\"color\":\"white\"}},\"type\":\"table\"}]},\"layout\":{\"annotationdefaults\":{\"arrowcolor\":\"#2a3f5f\",\"arrowhead\":0,\"arrowwidth\":1},\"autotypenumbers\":\"strict\",\"coloraxis\":{\"colorbar\":{\"outlinewidth\":0,\"ticks\":\"\"}},\"colorscale\":{\"diverging\":[[0,\"#8e0152\"],[0.1,\"#c51b7d\"],[0.2,\"#de77ae\"],[0.3,\"#f1b6da\"],[0.4,\"#fde0ef\"],[0.5,\"#f7f7f7\"],[0.6,\"#e6f5d0\"],[0.7,\"#b8e186\"],[0.8,\"#7fbc41\"],[0.9,\"#4d9221\"],[1,\"#276419\"]],\"sequential\":[[0.0,\"#0d0887\"],[0.1111111111111111,\"#46039f\"],[0.2222222222222222,\"#7201a8\"],[0.3333333333333333,\"#9c179e\"],[0.4444444444444444,\"#bd3786\"],[0.5555555555555556,\"#d8576b\"],[0.6666666666666666,\"#ed7953\"],[0.7777777777777778,\"#fb9f3a\"],[0.8888888888888888,\"#fdca26\"],[1.0,\"#f0f921\"]],\"sequentialminus\":[[0.0,\"#0d0887\"],[0.1111111111111111,\"#46039f\"],[0.2222222222222222,\"#7201a8\"],[0.3333333333333333,\"#9c179e\"],[0.4444444444444444,\"#bd3786\"],[0.5555555555555556,\"#d8576b\"],[0.6666666666666666,\"#ed7953\"],[0.7777777777777778,\"#fb9f3a\"],[0.8888888888888888,\"#fdca26\"],[1.0,\"#f0f921\"]]},\"colorway\":[\"#636efa\",\"#EF553B\",\"#00cc96\",\"#ab63fa\",\"#FFA15A\",\"#19d3f3\",\"#FF6692\",\"#B6E880\",\"#FF97FF\",\"#FECB52\"],\"font\":{\"color\":\"#2a3f5f\"},\"geo\":{\"bgcolor\":\"white\",\"lakecolor\":\"white\",\"landcolor\":\"#E5ECF6\",\"showlakes\":true,\"showland\":true,\"subunitcolor\":\"white\"},\"hoverlabel\":{\"align\":\"left\"},\"hovermode\":\"closest\",\"mapbox\":{\"style\":\"light\"},\"paper_bgcolor\":\"white\",\"plot_bgcolor\":\"#E5ECF6\",\"polar\":{\"angularaxis\":{\"gridcolor\":\"white\",\"linecolor\":\"white\",\"ticks\":\"\"},\"bgcolor\":\"#E5ECF6\",\"radialaxis\":{\"gridcolor\":\"white\",\"linecolor\":\"white\",\"ticks\":\"\"}},\"scene\":{\"xaxis\":{\"backgroundcolor\":\"#E5ECF6\",\"gridcolor\":\"white\",\"gridwidth\":2,\"linecolor\":\"white\",\"showbackground\":true,\"ticks\":\"\",\"zerolinecolor\":\"white\"},\"yaxis\":{\"backgroundcolor\":\"#E5ECF6\",\"gridcolor\":\"white\",\"gridwidth\":2,\"linecolor\":\"white\",\"showbackground\":true,\"ticks\":\"\",\"zerolinecolor\":\"white\"},\"zaxis\":{\"backgroundcolor\":\"#E5ECF6\",\"gridcolor\":\"white\",\"gridwidth\":2,\"linecolor\":\"white\",\"showbackground\":true,\"ticks\":\"\",\"zerolinecolor\":\"white\"}},\"shapedefaults\":{\"line\":{\"color\":\"#2a3f5f\"}},\"ternary\":{\"aaxis\":{\"gridcolor\":\"white\",\"linecolor\":\"white\",\"ticks\":\"\"},\"baxis\":{\"gridcolor\":\"white\",\"linecolor\":\"white\",\"ticks\":\"\"},\"bgcolor\":\"#E5ECF6\",\"caxis\":{\"gridcolor\":\"white\",\"linecolor\":\"white\",\"ticks\":\"\"}},\"title\":{\"x\":0.05},\"xaxis\":{\"automargin\":true,\"gridcolor\":\"white\",\"linecolor\":\"white\",\"ticks\":\"\",\"title\":{\"standoff\":15},\"zerolinecolor\":\"white\",\"zerolinewidth\":2},\"yaxis\":{\"automargin\":true,\"gridcolor\":\"white\",\"linecolor\":\"white\",\"ticks\":\"\",\"title\":{\"standoff\":15},\"zerolinecolor\":\"white\",\"zerolinewidth\":2}}},\"xaxis\":{\"rangeslider\":{\"visible\":true},\"rangeselector\":{\"buttons\":[{\"count\":1,\"label\":\"1y\",\"step\":\"year\",\"stepmode\":\"todate\"},{\"count\":2,\"label\":\"2y\",\"step\":\"year\",\"stepmode\":\"todate\"},{\"count\":3,\"label\":\"3y\",\"step\":\"year\",\"stepmode\":\"todate\"},{\"step\":\"all\"}]},\"title\":{\"text\":\"Date\"}},\"title\":{\"text\":\"Stock Data\",\"x\":0.5,\"xanchor\":\"center\",\"yanchor\":\"top\"},\"yaxis\":{\"title\":{\"text\":\"Open Values\"}}},                        {\"responsive\": true}                    ).then(function(){\n",
              "                            \n",
              "var gd = document.getElementById('b5d2c20b-42fe-4761-9c86-c56bdfc5b7f7');\n",
              "var x = new MutationObserver(function (mutations, observer) {{\n",
              "        var display = window.getComputedStyle(gd).display;\n",
              "        if (!display || display === 'none') {{\n",
              "            console.log([gd, 'removed!']);\n",
              "            Plotly.purge(gd);\n",
              "            observer.disconnect();\n",
              "        }}\n",
              "}});\n",
              "\n",
              "// Listen for the removal of the full notebook cells\n",
              "var notebookContainer = gd.closest('#notebook-container');\n",
              "if (notebookContainer) {{\n",
              "    x.observe(notebookContainer, {childList: true});\n",
              "}}\n",
              "\n",
              "// Listen for the clearing of the current output cell\n",
              "var outputEl = gd.closest('.output');\n",
              "if (outputEl) {{\n",
              "    x.observe(outputEl, {childList: true});\n",
              "}}\n",
              "\n",
              "                        })                };                            </script>        </div>\n",
              "</body>\n",
              "</html>"
            ]
          },
          "metadata": {}
        }
      ]
    }
  ]
}