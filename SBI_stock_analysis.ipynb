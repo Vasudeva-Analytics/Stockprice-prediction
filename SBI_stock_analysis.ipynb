{
  "nbformat": 4,
  "nbformat_minor": 0,
  "metadata": {
    "colab": {
      "name": "SBI stock analysis.ipynb",
      "provenance": []
    },
    "kernelspec": {
      "name": "python3",
      "display_name": "Python 3"
    },
    "language_info": {
      "name": "python"
    }
  },
  "cells": [
    {
      "cell_type": "markdown",
      "source": [
        "##Importing libraries and data"
      ],
      "metadata": {
        "id": "gpfZHIKnntp9"
      }
    },
    {
      "cell_type": "code",
      "execution_count": 30,
      "metadata": {
        "id": "x9q59JNn7CzN"
      },
      "outputs": [],
      "source": [
        "import pandas as pd\n",
        "from sklearn.preprocessing import MinMaxScaler                   \n",
        "from tensorflow.keras import Sequential                             \n",
        "from tensorflow.keras.layers import LSTM,Dense,Dropout,Activation\n",
        "import numpy as np\n",
        "import plotly.graph_objects as go"
      ]
    },
    {
      "cell_type": "code",
      "source": [
        "df = pd.read_csv(\"data.csv\")\n",
        "print(len(df))\n",
        "df.head() "
      ],
      "metadata": {
        "colab": {
          "base_uri": "https://localhost:8080/",
          "height": 459
        },
        "id": "_W8M1eEn85zv",
        "outputId": "048db817-a6a8-479a-e1b0-729f24aecbbd"
      },
      "execution_count": 31,
      "outputs": [
        {
          "output_type": "stream",
          "name": "stdout",
          "text": [
            "554\n"
          ]
        },
        {
          "output_type": "execute_result",
          "data": {
            "text/plain": [
              "  Symbol Series         Date  Prev Close  Open Price  High Price  Low Price  \\\n",
              "0   SBIN     EQ  01-Mar-2018      268.00      266.30      270.00     261.25   \n",
              "1   SBIN     EQ  05-Mar-2018      262.15      260.45      265.00     258.75   \n",
              "2   SBIN     EQ  06-Mar-2018      263.50      265.85      266.00     255.00   \n",
              "3   SBIN     EQ  07-Mar-2018      256.55      255.05      255.35     246.05   \n",
              "4   SBIN     EQ  08-Mar-2018      246.65      247.00      257.95     244.30   \n",
              "\n",
              "   Last Price  Close Price  Average Price  Total Traded Quantity  \\\n",
              "0      262.20       262.15         264.62               22859175   \n",
              "1      263.15       263.50         262.51               18484565   \n",
              "2      255.35       256.55         261.43               20778164   \n",
              "3      246.70       246.65         248.97               31262500   \n",
              "4      256.65       256.80         251.48               33133336   \n",
              "\n",
              "       Turnover  No. of Trades  Deliverable Qty  % Dly Qt to Traded Qty  \n",
              "0  6.049017e+09         173004          7121896                   31.16  \n",
              "1  4.852294e+09         146913          4941066                   26.73  \n",
              "2  5.431996e+09         147230          6144299                   29.57  \n",
              "3  7.783271e+09         180424         11540402                   36.91  \n",
              "4  8.332437e+09         171219          7379164                   22.27  "
            ],
            "text/html": [
              "\n",
              "  <div id=\"df-68be2a86-081c-47f9-91fd-bf27b09f6db5\">\n",
              "    <div class=\"colab-df-container\">\n",
              "      <div>\n",
              "<style scoped>\n",
              "    .dataframe tbody tr th:only-of-type {\n",
              "        vertical-align: middle;\n",
              "    }\n",
              "\n",
              "    .dataframe tbody tr th {\n",
              "        vertical-align: top;\n",
              "    }\n",
              "\n",
              "    .dataframe thead th {\n",
              "        text-align: right;\n",
              "    }\n",
              "</style>\n",
              "<table border=\"1\" class=\"dataframe\">\n",
              "  <thead>\n",
              "    <tr style=\"text-align: right;\">\n",
              "      <th></th>\n",
              "      <th>Symbol</th>\n",
              "      <th>Series</th>\n",
              "      <th>Date</th>\n",
              "      <th>Prev Close</th>\n",
              "      <th>Open Price</th>\n",
              "      <th>High Price</th>\n",
              "      <th>Low Price</th>\n",
              "      <th>Last Price</th>\n",
              "      <th>Close Price</th>\n",
              "      <th>Average Price</th>\n",
              "      <th>Total Traded Quantity</th>\n",
              "      <th>Turnover</th>\n",
              "      <th>No. of Trades</th>\n",
              "      <th>Deliverable Qty</th>\n",
              "      <th>% Dly Qt to Traded Qty</th>\n",
              "    </tr>\n",
              "  </thead>\n",
              "  <tbody>\n",
              "    <tr>\n",
              "      <th>0</th>\n",
              "      <td>SBIN</td>\n",
              "      <td>EQ</td>\n",
              "      <td>01-Mar-2018</td>\n",
              "      <td>268.00</td>\n",
              "      <td>266.30</td>\n",
              "      <td>270.00</td>\n",
              "      <td>261.25</td>\n",
              "      <td>262.20</td>\n",
              "      <td>262.15</td>\n",
              "      <td>264.62</td>\n",
              "      <td>22859175</td>\n",
              "      <td>6.049017e+09</td>\n",
              "      <td>173004</td>\n",
              "      <td>7121896</td>\n",
              "      <td>31.16</td>\n",
              "    </tr>\n",
              "    <tr>\n",
              "      <th>1</th>\n",
              "      <td>SBIN</td>\n",
              "      <td>EQ</td>\n",
              "      <td>05-Mar-2018</td>\n",
              "      <td>262.15</td>\n",
              "      <td>260.45</td>\n",
              "      <td>265.00</td>\n",
              "      <td>258.75</td>\n",
              "      <td>263.15</td>\n",
              "      <td>263.50</td>\n",
              "      <td>262.51</td>\n",
              "      <td>18484565</td>\n",
              "      <td>4.852294e+09</td>\n",
              "      <td>146913</td>\n",
              "      <td>4941066</td>\n",
              "      <td>26.73</td>\n",
              "    </tr>\n",
              "    <tr>\n",
              "      <th>2</th>\n",
              "      <td>SBIN</td>\n",
              "      <td>EQ</td>\n",
              "      <td>06-Mar-2018</td>\n",
              "      <td>263.50</td>\n",
              "      <td>265.85</td>\n",
              "      <td>266.00</td>\n",
              "      <td>255.00</td>\n",
              "      <td>255.35</td>\n",
              "      <td>256.55</td>\n",
              "      <td>261.43</td>\n",
              "      <td>20778164</td>\n",
              "      <td>5.431996e+09</td>\n",
              "      <td>147230</td>\n",
              "      <td>6144299</td>\n",
              "      <td>29.57</td>\n",
              "    </tr>\n",
              "    <tr>\n",
              "      <th>3</th>\n",
              "      <td>SBIN</td>\n",
              "      <td>EQ</td>\n",
              "      <td>07-Mar-2018</td>\n",
              "      <td>256.55</td>\n",
              "      <td>255.05</td>\n",
              "      <td>255.35</td>\n",
              "      <td>246.05</td>\n",
              "      <td>246.70</td>\n",
              "      <td>246.65</td>\n",
              "      <td>248.97</td>\n",
              "      <td>31262500</td>\n",
              "      <td>7.783271e+09</td>\n",
              "      <td>180424</td>\n",
              "      <td>11540402</td>\n",
              "      <td>36.91</td>\n",
              "    </tr>\n",
              "    <tr>\n",
              "      <th>4</th>\n",
              "      <td>SBIN</td>\n",
              "      <td>EQ</td>\n",
              "      <td>08-Mar-2018</td>\n",
              "      <td>246.65</td>\n",
              "      <td>247.00</td>\n",
              "      <td>257.95</td>\n",
              "      <td>244.30</td>\n",
              "      <td>256.65</td>\n",
              "      <td>256.80</td>\n",
              "      <td>251.48</td>\n",
              "      <td>33133336</td>\n",
              "      <td>8.332437e+09</td>\n",
              "      <td>171219</td>\n",
              "      <td>7379164</td>\n",
              "      <td>22.27</td>\n",
              "    </tr>\n",
              "  </tbody>\n",
              "</table>\n",
              "</div>\n",
              "      <button class=\"colab-df-convert\" onclick=\"convertToInteractive('df-68be2a86-081c-47f9-91fd-bf27b09f6db5')\"\n",
              "              title=\"Convert this dataframe to an interactive table.\"\n",
              "              style=\"display:none;\">\n",
              "        \n",
              "  <svg xmlns=\"http://www.w3.org/2000/svg\" height=\"24px\"viewBox=\"0 0 24 24\"\n",
              "       width=\"24px\">\n",
              "    <path d=\"M0 0h24v24H0V0z\" fill=\"none\"/>\n",
              "    <path d=\"M18.56 5.44l.94 2.06.94-2.06 2.06-.94-2.06-.94-.94-2.06-.94 2.06-2.06.94zm-11 1L8.5 8.5l.94-2.06 2.06-.94-2.06-.94L8.5 2.5l-.94 2.06-2.06.94zm10 10l.94 2.06.94-2.06 2.06-.94-2.06-.94-.94-2.06-.94 2.06-2.06.94z\"/><path d=\"M17.41 7.96l-1.37-1.37c-.4-.4-.92-.59-1.43-.59-.52 0-1.04.2-1.43.59L10.3 9.45l-7.72 7.72c-.78.78-.78 2.05 0 2.83L4 21.41c.39.39.9.59 1.41.59.51 0 1.02-.2 1.41-.59l7.78-7.78 2.81-2.81c.8-.78.8-2.07 0-2.86zM5.41 20L4 18.59l7.72-7.72 1.47 1.35L5.41 20z\"/>\n",
              "  </svg>\n",
              "      </button>\n",
              "      \n",
              "  <style>\n",
              "    .colab-df-container {\n",
              "      display:flex;\n",
              "      flex-wrap:wrap;\n",
              "      gap: 12px;\n",
              "    }\n",
              "\n",
              "    .colab-df-convert {\n",
              "      background-color: #E8F0FE;\n",
              "      border: none;\n",
              "      border-radius: 50%;\n",
              "      cursor: pointer;\n",
              "      display: none;\n",
              "      fill: #1967D2;\n",
              "      height: 32px;\n",
              "      padding: 0 0 0 0;\n",
              "      width: 32px;\n",
              "    }\n",
              "\n",
              "    .colab-df-convert:hover {\n",
              "      background-color: #E2EBFA;\n",
              "      box-shadow: 0px 1px 2px rgba(60, 64, 67, 0.3), 0px 1px 3px 1px rgba(60, 64, 67, 0.15);\n",
              "      fill: #174EA6;\n",
              "    }\n",
              "\n",
              "    [theme=dark] .colab-df-convert {\n",
              "      background-color: #3B4455;\n",
              "      fill: #D2E3FC;\n",
              "    }\n",
              "\n",
              "    [theme=dark] .colab-df-convert:hover {\n",
              "      background-color: #434B5C;\n",
              "      box-shadow: 0px 1px 3px 1px rgba(0, 0, 0, 0.15);\n",
              "      filter: drop-shadow(0px 1px 2px rgba(0, 0, 0, 0.3));\n",
              "      fill: #FFFFFF;\n",
              "    }\n",
              "  </style>\n",
              "\n",
              "      <script>\n",
              "        const buttonEl =\n",
              "          document.querySelector('#df-68be2a86-081c-47f9-91fd-bf27b09f6db5 button.colab-df-convert');\n",
              "        buttonEl.style.display =\n",
              "          google.colab.kernel.accessAllowed ? 'block' : 'none';\n",
              "\n",
              "        async function convertToInteractive(key) {\n",
              "          const element = document.querySelector('#df-68be2a86-081c-47f9-91fd-bf27b09f6db5');\n",
              "          const dataTable =\n",
              "            await google.colab.kernel.invokeFunction('convertToInteractive',\n",
              "                                                     [key], {});\n",
              "          if (!dataTable) return;\n",
              "\n",
              "          const docLinkHtml = 'Like what you see? Visit the ' +\n",
              "            '<a target=\"_blank\" href=https://colab.research.google.com/notebooks/data_table.ipynb>data table notebook</a>'\n",
              "            + ' to learn more about interactive tables.';\n",
              "          element.innerHTML = '';\n",
              "          dataTable['output_type'] = 'display_data';\n",
              "          await google.colab.output.renderOutput(dataTable, element);\n",
              "          const docLink = document.createElement('div');\n",
              "          docLink.innerHTML = docLinkHtml;\n",
              "          element.appendChild(docLink);\n",
              "        }\n",
              "      </script>\n",
              "    </div>\n",
              "  </div>\n",
              "  "
            ]
          },
          "metadata": {},
          "execution_count": 31
        }
      ]
    },
    {
      "cell_type": "markdown",
      "source": [
        "##Parameters of the model"
      ],
      "metadata": {
        "id": "FAWAVHRioT_2"
      }
    },
    {
      "cell_type": "code",
      "source": [
        "time_step = 30\n",
        "train_test = 0.82\n",
        "predict_next_days = 7\n",
        "no_of_epochs = 50\n",
        "batch_size = 8"
      ],
      "metadata": {
        "id": "n2Zqlaha_Mz4"
      },
      "execution_count": 32,
      "outputs": []
    },
    {
      "cell_type": "markdown",
      "source": [
        "##Model data preprocessing\n"
      ],
      "metadata": {
        "id": "d3mkDYD1oZ7j"
      }
    },
    {
      "cell_type": "code",
      "source": [
        "df.columns"
      ],
      "metadata": {
        "colab": {
          "base_uri": "https://localhost:8080/"
        },
        "id": "kU5X5ErNosmD",
        "outputId": "84caa02a-de83-4598-b4dd-10bd53247b99"
      },
      "execution_count": 33,
      "outputs": [
        {
          "output_type": "execute_result",
          "data": {
            "text/plain": [
              "Index(['Symbol', 'Series', 'Date', 'Prev Close', 'Open Price', 'High Price',\n",
              "       'Low Price', 'Last Price', 'Close Price', 'Average Price',\n",
              "       'Total Traded Quantity', 'Turnover', 'No. of Trades', 'Deliverable Qty',\n",
              "       '% Dly Qt to Traded Qty'],\n",
              "      dtype='object')"
            ]
          },
          "metadata": {},
          "execution_count": 33
        }
      ]
    },
    {
      "cell_type": "code",
      "source": [
        "len(df)"
      ],
      "metadata": {
        "colab": {
          "base_uri": "https://localhost:8080/"
        },
        "id": "JNt4qk7SgixD",
        "outputId": "f20cba29-ce1e-44c2-9e22-7c7733e84754"
      },
      "execution_count": 34,
      "outputs": [
        {
          "output_type": "execute_result",
          "data": {
            "text/plain": [
              "554"
            ]
          },
          "metadata": {},
          "execution_count": 34
        }
      ]
    },
    {
      "cell_type": "code",
      "source": [
        "#Initalising empty list for testing and training data\n",
        "X_train = []\n",
        "y_train = []\n",
        "X_test = []\n",
        "y_test = []"
      ],
      "metadata": {
        "id": "_-VMM-lknToK"
      },
      "execution_count": 35,
      "outputs": []
    },
    {
      "cell_type": "code",
      "source": [
        "#We are going to predict the closing price of the stock, so in the columns of stock we have the 'Close Price'. We can use this.\n",
        "closed_data = np.asarray(df['Close Price'])\n",
        "#Reshaping to automatically make it a 2d-array which is the input for sequential model\n",
        "closed_data = closed_data.reshape(-1,1)"
      ],
      "metadata": {
        "id": "GVCKN-XsBjJO"
      },
      "execution_count": 36,
      "outputs": []
    },
    {
      "cell_type": "code",
      "source": [
        "#We scale the data to make the data modelling easier\n",
        "scaler = MinMaxScaler(feature_range=(0,1))\n",
        "scaled_data = scaler.fit_transform(closed_data)"
      ],
      "metadata": {
        "id": "pRIIoOFZLDwS"
      },
      "execution_count": 37,
      "outputs": []
    },
    {
      "cell_type": "code",
      "source": [
        "#We find the index for train_test_split as spefied ratio by the user above in the parameters\n",
        "training_data_len = int(len(df)*train_test)\n",
        "train_data = scaled_data[0:training_data_len,:]\n",
        "test_data = scaled_data[training_data_len-time_step:]\n",
        "\n",
        "print(len(train_data))\n",
        "print(len(test_data))"
      ],
      "metadata": {
        "id": "Wbi-HnoRnfl8",
        "colab": {
          "base_uri": "https://localhost:8080/"
        },
        "outputId": "a98130de-083c-4d66-826b-a55b4b20aa59"
      },
      "execution_count": 38,
      "outputs": [
        {
          "output_type": "stream",
          "name": "stdout",
          "text": [
            "454\n",
            "130\n"
          ]
        }
      ]
    },
    {
      "cell_type": "code",
      "source": [
        "def create_dataset(dataset, time_step=1):\n",
        "  dataX, dataY = [], []\n",
        "  for i in range(len(dataset)-time_step) :\n",
        "    a = dataset[i: (i+time_step), 0]\n",
        "    dataX.append(a)\n",
        "    dataY. append (dataset[i + time_step, 0])\n",
        "  return np.array(dataX), np.array(dataY)"
      ],
      "metadata": {
        "id": "jzBVvUatiWRX"
      },
      "execution_count": 59,
      "outputs": []
    },
    {
      "cell_type": "code",
      "source": [
        "X_train, y_train = create_dataset(train_data, time_step)\n",
        "X_test, y_test = create_dataset(test_data, time_step)\n",
        "\n",
        "print(X_train.shape, y_train.shape)\n",
        "print(X_test.shape, y_test.shape)"
      ],
      "metadata": {
        "colab": {
          "base_uri": "https://localhost:8080/"
        },
        "id": "fbteY3N0jT6G",
        "outputId": "9863c300-42f7-46fe-dc9e-1c9781ac31f2"
      },
      "execution_count": 60,
      "outputs": [
        {
          "output_type": "stream",
          "name": "stdout",
          "text": [
            "(424, 30) (424,)\n",
            "(100, 30) (100,)\n"
          ]
        }
      ]
    },
    {
      "cell_type": "code",
      "source": [
        "X_train = np.reshape(X_train, (X_train.shape[0], X_train.shape[1], 1))\n",
        "X_test = np.reshape(X_test, (X_test.shape[0], X_test.shape[1], 1))"
      ],
      "metadata": {
        "id": "aIfypXW7A4_q"
      },
      "execution_count": 61,
      "outputs": []
    },
    {
      "cell_type": "code",
      "source": [
        "print(X_train.shape, y_train.shape)\n",
        "print(X_test.shape, y_test.shape)"
      ],
      "metadata": {
        "colab": {
          "base_uri": "https://localhost:8080/"
        },
        "id": "5Fm1cYx8vibx",
        "outputId": "ed79cd8f-a39e-4420-e76a-409536a2d27f"
      },
      "execution_count": 62,
      "outputs": [
        {
          "output_type": "stream",
          "name": "stdout",
          "text": [
            "(424, 30, 1) (424,)\n",
            "(100, 30, 1) (100,)\n"
          ]
        }
      ]
    },
    {
      "cell_type": "markdown",
      "source": [
        "## Model processing\n"
      ],
      "metadata": {
        "id": "uzxV1aJOm8IJ"
      }
    },
    {
      "cell_type": "code",
      "source": [
        "#Building the LSTM model\n",
        "model = Sequential()\n",
        "model.add(LSTM(units=32, return_sequences=True, input_shape=(X_train.shape[1], 1)))\n",
        "model.add(LSTM(units=15, return_sequences=False))\n",
        "# model.add(LSTM(units=16, return_sequences=True))\n",
        "# model.add(LSTM(units=8, return_sequences=False))\n",
        "# model.add(Dense(64))\n",
        "# model.add(Dense(32))\n",
        "# model.add(Dense(16))\n",
        "model.add(Dense(1))\n",
        "model.compile(optimizer='rmsprop', loss='mean_squared_error')\n",
        "model.summary()"
      ],
      "metadata": {
        "id": "ZZ5M-gkwBfCR",
        "colab": {
          "base_uri": "https://localhost:8080/"
        },
        "outputId": "1014a226-b056-4c18-f802-6971c035b4a4"
      },
      "execution_count": 63,
      "outputs": [
        {
          "output_type": "stream",
          "name": "stdout",
          "text": [
            "Model: \"sequential_2\"\n",
            "_________________________________________________________________\n",
            " Layer (type)                Output Shape              Param #   \n",
            "=================================================================\n",
            " lstm_4 (LSTM)               (None, 30, 32)            4352      \n",
            "                                                                 \n",
            " lstm_5 (LSTM)               (None, 15)                2880      \n",
            "                                                                 \n",
            " dense_2 (Dense)             (None, 1)                 16        \n",
            "                                                                 \n",
            "=================================================================\n",
            "Total params: 7,248\n",
            "Trainable params: 7,248\n",
            "Non-trainable params: 0\n",
            "_________________________________________________________________\n"
          ]
        }
      ]
    },
    {
      "cell_type": "code",
      "source": [
        "# Fitting the training data and fitting the data to LSTM.\n",
        "# It uses a mse loss, we usually use MSE for regression. We can use Adam or Rmsprop optimizer\n",
        "model.fit(X_train, y_train, batch_size=batch_size, epochs=no_of_epochs)"
      ],
      "metadata": {
        "colab": {
          "base_uri": "https://localhost:8080/"
        },
        "id": "UUXYyAdMB1o-",
        "outputId": "f0fbab52-8c41-4c7b-aaf1-20f03a733ea0"
      },
      "execution_count": 64,
      "outputs": [
        {
          "output_type": "stream",
          "name": "stdout",
          "text": [
            "Epoch 1/50\n",
            "53/53 [==============================] - 4s 16ms/step - loss: 0.0108\n",
            "Epoch 2/50\n",
            "53/53 [==============================] - 1s 16ms/step - loss: 0.0058\n",
            "Epoch 3/50\n",
            "53/53 [==============================] - 1s 16ms/step - loss: 0.0048\n",
            "Epoch 4/50\n",
            "53/53 [==============================] - 1s 16ms/step - loss: 0.0041\n",
            "Epoch 5/50\n",
            "53/53 [==============================] - 1s 15ms/step - loss: 0.0039\n",
            "Epoch 6/50\n",
            "53/53 [==============================] - 1s 16ms/step - loss: 0.0035\n",
            "Epoch 7/50\n",
            "53/53 [==============================] - 1s 16ms/step - loss: 0.0033\n",
            "Epoch 8/50\n",
            "53/53 [==============================] - 1s 16ms/step - loss: 0.0028\n",
            "Epoch 9/50\n",
            "53/53 [==============================] - 1s 15ms/step - loss: 0.0027\n",
            "Epoch 10/50\n",
            "53/53 [==============================] - 1s 15ms/step - loss: 0.0025\n",
            "Epoch 11/50\n",
            "53/53 [==============================] - 1s 16ms/step - loss: 0.0024\n",
            "Epoch 12/50\n",
            "53/53 [==============================] - 1s 16ms/step - loss: 0.0022\n",
            "Epoch 13/50\n",
            "53/53 [==============================] - 1s 16ms/step - loss: 0.0022\n",
            "Epoch 14/50\n",
            "53/53 [==============================] - 1s 16ms/step - loss: 0.0021\n",
            "Epoch 15/50\n",
            "53/53 [==============================] - 1s 16ms/step - loss: 0.0019\n",
            "Epoch 16/50\n",
            "53/53 [==============================] - 1s 15ms/step - loss: 0.0017\n",
            "Epoch 17/50\n",
            "53/53 [==============================] - 1s 15ms/step - loss: 0.0018\n",
            "Epoch 18/50\n",
            "53/53 [==============================] - 1s 23ms/step - loss: 0.0017\n",
            "Epoch 19/50\n",
            "53/53 [==============================] - 2s 28ms/step - loss: 0.0017\n",
            "Epoch 20/50\n",
            "53/53 [==============================] - 2s 31ms/step - loss: 0.0016\n",
            "Epoch 21/50\n",
            "53/53 [==============================] - 1s 24ms/step - loss: 0.0016\n",
            "Epoch 22/50\n",
            "53/53 [==============================] - 1s 16ms/step - loss: 0.0015\n",
            "Epoch 23/50\n",
            "53/53 [==============================] - 1s 15ms/step - loss: 0.0015\n",
            "Epoch 24/50\n",
            "53/53 [==============================] - 1s 16ms/step - loss: 0.0014\n",
            "Epoch 25/50\n",
            "53/53 [==============================] - 1s 16ms/step - loss: 0.0013\n",
            "Epoch 26/50\n",
            "53/53 [==============================] - 1s 16ms/step - loss: 0.0013\n",
            "Epoch 27/50\n",
            "53/53 [==============================] - 1s 16ms/step - loss: 0.0013\n",
            "Epoch 28/50\n",
            "53/53 [==============================] - 1s 16ms/step - loss: 0.0012\n",
            "Epoch 29/50\n",
            "53/53 [==============================] - 1s 15ms/step - loss: 0.0012\n",
            "Epoch 30/50\n",
            "53/53 [==============================] - 1s 15ms/step - loss: 0.0012\n",
            "Epoch 31/50\n",
            "53/53 [==============================] - 1s 16ms/step - loss: 0.0011\n",
            "Epoch 32/50\n",
            "53/53 [==============================] - 1s 15ms/step - loss: 0.0011\n",
            "Epoch 33/50\n",
            "53/53 [==============================] - 1s 16ms/step - loss: 0.0010\n",
            "Epoch 34/50\n",
            "53/53 [==============================] - 1s 16ms/step - loss: 0.0011\n",
            "Epoch 35/50\n",
            "53/53 [==============================] - 1s 15ms/step - loss: 0.0011\n",
            "Epoch 36/50\n",
            "53/53 [==============================] - 1s 16ms/step - loss: 0.0010\n",
            "Epoch 37/50\n",
            "53/53 [==============================] - 1s 15ms/step - loss: 9.9621e-04\n",
            "Epoch 38/50\n",
            "53/53 [==============================] - 1s 16ms/step - loss: 0.0011\n",
            "Epoch 39/50\n",
            "53/53 [==============================] - 1s 15ms/step - loss: 0.0010\n",
            "Epoch 40/50\n",
            "53/53 [==============================] - 1s 15ms/step - loss: 9.7468e-04\n",
            "Epoch 41/50\n",
            "53/53 [==============================] - 1s 16ms/step - loss: 9.5303e-04\n",
            "Epoch 42/50\n",
            "53/53 [==============================] - 1s 15ms/step - loss: 9.9967e-04\n",
            "Epoch 43/50\n",
            "53/53 [==============================] - 1s 15ms/step - loss: 9.6549e-04\n",
            "Epoch 44/50\n",
            "53/53 [==============================] - 1s 15ms/step - loss: 0.0010\n",
            "Epoch 45/50\n",
            "53/53 [==============================] - 1s 16ms/step - loss: 9.7831e-04\n",
            "Epoch 46/50\n",
            "53/53 [==============================] - 1s 16ms/step - loss: 9.7014e-04\n",
            "Epoch 47/50\n",
            "53/53 [==============================] - 1s 16ms/step - loss: 9.9004e-04\n",
            "Epoch 48/50\n",
            "53/53 [==============================] - 1s 15ms/step - loss: 9.9561e-04\n",
            "Epoch 49/50\n",
            "53/53 [==============================] - 1s 15ms/step - loss: 9.5551e-04\n",
            "Epoch 50/50\n",
            "53/53 [==============================] - 1s 15ms/step - loss: 9.8809e-04\n"
          ]
        },
        {
          "output_type": "execute_result",
          "data": {
            "text/plain": [
              "<keras.callbacks.History at 0x7f57f0883710>"
            ]
          },
          "metadata": {},
          "execution_count": 64
        }
      ]
    },
    {
      "cell_type": "markdown",
      "source": [
        "## Loss values"
      ],
      "metadata": {
        "id": "IA9P-Md7rPsS"
      }
    },
    {
      "cell_type": "code",
      "source": [
        "#Predict the data for test data and checked the mse for scalled data\n",
        "predictions = model.predict(X_test)\n",
        "mse = np.mean(predictions-y_test)**2\n",
        "predictions = scaler.inverse_transform(predictions)\n",
        "actual_data = scaler.inverse_transform(y_test.reshape(-1,1))\n",
        "mse"
      ],
      "metadata": {
        "colab": {
          "base_uri": "https://localhost:8080/"
        },
        "id": "GOZOEdNLGH5d",
        "outputId": "990b56b8-f87f-417a-f35f-c130181ecafb"
      },
      "execution_count": 65,
      "outputs": [
        {
          "output_type": "execute_result",
          "data": {
            "text/plain": [
              "6.650140948793848e-05"
            ]
          },
          "metadata": {},
          "execution_count": 65
        }
      ]
    },
    {
      "cell_type": "code",
      "source": [
        "#MSE for actual data\n",
        "np.mean(actual_data-predictions)**2"
      ],
      "metadata": {
        "colab": {
          "base_uri": "https://localhost:8080/"
        },
        "id": "CPDKIdhHRaYZ",
        "outputId": "4fc3b6ec-cd84-42f4-8177-aeff7e837f45"
      },
      "execution_count": 66,
      "outputs": [
        {
          "output_type": "execute_result",
          "data": {
            "text/plain": [
              "6.281977749436374"
            ]
          },
          "metadata": {},
          "execution_count": 66
        }
      ]
    },
    {
      "cell_type": "markdown",
      "source": [
        "## Printing Predictions"
      ],
      "metadata": {
        "id": "nDFEmuqtnmWs"
      }
    },
    {
      "cell_type": "code",
      "source": [
        "#Just printing and showing the predicted and actual data - this is a size of time_step\n",
        "for i in range(len(predictions)):\n",
        "  print(predictions[i],actual_data[i])"
      ],
      "metadata": {
        "colab": {
          "base_uri": "https://localhost:8080/"
        },
        "id": "pjGuXTd9hz3F",
        "outputId": "59f09f93-a3d3-45b7-c45b-aac8e2f817ca"
      },
      "execution_count": 67,
      "outputs": [
        {
          "output_type": "stream",
          "name": "stdout",
          "text": [
            "[496.66794] [491.25]\n",
            "[499.23645] [503.65]\n",
            "[516.9477] [505.95]\n",
            "[515.831] [510.25]\n",
            "[520.07587] [511.35]\n",
            "[519.388] [508.35]\n",
            "[514.1335] [514.]\n",
            "[521.75854] [506.8]\n",
            "[508.789] [515.8]\n",
            "[522.59265] [511.4]\n",
            "[512.08636] [502.7]\n",
            "[501.80698] [494.15]\n",
            "[493.65768] [514.65]\n",
            "[523.1648] [528.95]\n",
            "[533.188] [523.45]\n",
            "[519.74695] [538.3]\n",
            "[544.31006] [532.3]\n",
            "[529.80414] [539.8]\n",
            "[544.4025] [540.1]\n",
            "[541.7382] [530.3]\n",
            "[528.7641] [533.25]\n",
            "[538.03894] [531.35]\n",
            "[533.21027] [535.25]\n",
            "[539.06934] [540.55]\n",
            "[544.1044] [529.6]\n",
            "[526.39496] [501.4]\n",
            "[494.1726] [524.8]\n",
            "[537.14526] [516.7]\n",
            "[513.6895] [512.95]\n",
            "[512.40027] [515.3]\n",
            "[517.3561] [511.85]\n",
            "[511.10657] [498.4]\n",
            "[494.66647] [498.7]\n",
            "[500.6038] [472.65]\n",
            "[465.6453] [482.95]\n",
            "[487.81125] [483.2]\n",
            "[484.02066] [474.25]\n",
            "[471.44568] [467.4]\n",
            "[465.8326] [461.95]\n",
            "[461.07095] [440.3]\n",
            "[435.23737] [440.3]\n",
            "[440.67535] [451.7]\n",
            "[455.08237] [468.7]\n",
            "[473.40765] [470.35]\n",
            "[470.67065] [485.15]\n",
            "[490.048] [485.85]\n",
            "[487.5035] [492.75]\n",
            "[497.37408] [501.9]\n",
            "[508.2505] [490.6]\n",
            "[490.6752] [493.7]\n",
            "[499.6948] [490.65]\n",
            "[494.78616] [487.1]\n",
            "[490.71857] [490.7]\n",
            "[496.2299] [497.5]\n",
            "[503.146] [495.]\n",
            "[496.76077] [494.3]\n",
            "[496.6821] [493.55]\n",
            "[495.9174] [508.2]\n",
            "[515.30206] [512.4]\n",
            "[515.0195] [509.4]\n",
            "[509.7503] [513.95]\n",
            "[517.9358] [514.95]\n",
            "[517.63] [516.1]\n",
            "[518.9734] [514.9]\n",
            "[517.1221] [512.85]\n",
            "[514.9555] [517.7]\n",
            "[522.2361] [509.5]\n",
            "[508.81693] [511.8]\n",
            "[515.3954] [509.3]\n",
            "[510.6874] [516.3]\n",
            "[520.7342] [500.6]\n",
            "[496.49893] [494.75]\n",
            "[495.3947] [505.5]\n",
            "[511.4865] [497.25]\n",
            "[495.29724] [507.5]\n",
            "[512.23047] [496.3]\n",
            "[493.25912] [491.]\n",
            "[490.93427] [479.65]\n",
            "[478.1943] [480.]\n",
            "[482.19595] [483.95]\n",
            "[486.73447] [475.9]\n",
            "[474.3399] [475.2]\n",
            "[476.11322] [476.55]\n",
            "[478.1828] [462.65]\n",
            "[459.71765] [444.65]\n",
            "[441.30426] [455.]\n",
            "[459.12646] [467.3]\n",
            "[471.92624] [458.]\n",
            "[455.85556] [447.5]\n",
            "[445.50287] [462.4]\n",
            "[467.73532] [460.9]\n",
            "[462.1748] [462.05]\n",
            "[463.90137] [454.1]\n",
            "[454.14893] [468.9]\n",
            "[475.365] [468.95]\n",
            "[471.62726] [474.6]\n",
            "[478.71844] [468.1]\n",
            "[469.21017] [468.3]\n",
            "[471.6593] [469.85]\n",
            "[473.85895] [464.5]\n"
          ]
        }
      ]
    },
    {
      "cell_type": "code",
      "source": [
        "predict = []\n",
        "for i in predictions:\n",
        "  predict.append(i[0])\n",
        "print(predict)"
      ],
      "metadata": {
        "colab": {
          "base_uri": "https://localhost:8080/"
        },
        "id": "C36fKsyvQzWE",
        "outputId": "5cb6213e-6f2f-46a8-8ad8-3c0b2f935564"
      },
      "execution_count": 68,
      "outputs": [
        {
          "output_type": "stream",
          "name": "stdout",
          "text": [
            "[496.66794, 499.23645, 516.9477, 515.831, 520.07587, 519.388, 514.1335, 521.75854, 508.789, 522.59265, 512.08636, 501.80698, 493.65768, 523.1648, 533.188, 519.74695, 544.31006, 529.80414, 544.4025, 541.7382, 528.7641, 538.03894, 533.21027, 539.06934, 544.1044, 526.39496, 494.1726, 537.14526, 513.6895, 512.40027, 517.3561, 511.10657, 494.66647, 500.6038, 465.6453, 487.81125, 484.02066, 471.44568, 465.8326, 461.07095, 435.23737, 440.67535, 455.08237, 473.40765, 470.67065, 490.048, 487.5035, 497.37408, 508.2505, 490.6752, 499.6948, 494.78616, 490.71857, 496.2299, 503.146, 496.76077, 496.6821, 495.9174, 515.30206, 515.0195, 509.7503, 517.9358, 517.63, 518.9734, 517.1221, 514.9555, 522.2361, 508.81693, 515.3954, 510.6874, 520.7342, 496.49893, 495.3947, 511.4865, 495.29724, 512.23047, 493.25912, 490.93427, 478.1943, 482.19595, 486.73447, 474.3399, 476.11322, 478.1828, 459.71765, 441.30426, 459.12646, 471.92624, 455.85556, 445.50287, 467.73532, 462.1748, 463.90137, 454.14893, 475.365, 471.62726, 478.71844, 469.21017, 471.6593, 473.85895]\n"
          ]
        }
      ]
    },
    {
      "cell_type": "code",
      "source": [
        "#Predict for the next x days gice. Here x is the predict_next_days. Input the parameter in parameters section\n",
        "count = predict_next_days\n",
        "next_days = []\n",
        "closed_data_list = list(closed_data)\n",
        "while(count!=0):\n",
        "  last = closed_data_list[-time_step:]\n",
        "  print(len(last), last)\n",
        "  last_data = np.asarray(last, dtype='float32')\n",
        "  last_data = last_data.reshape(-1,1)\n",
        "  last_scalled = scaler.transform(last_data)\n",
        "  x_test = []\n",
        "  x_test.append(last_scalled)\n",
        "  x_test = np.array(x_test)\n",
        "  x_test = np.reshape(x_test,(x_test.shape[0],x_test.shape[1], 1))\n",
        "  prediction = model.predict(x_test)\n",
        "  prediction = scaler.inverse_transform(prediction)\n",
        "  next_days.append(prediction[0][0])\n",
        "  closed_data_list.append(prediction[0])\n",
        "  count-=1\n",
        "\n",
        "print(next_days)\n"
      ],
      "metadata": {
        "colab": {
          "base_uri": "https://localhost:8080/"
        },
        "id": "UGs8NHBESNFJ",
        "outputId": "ceee9d98-5d9e-45c1-8d30-39cb82fdc26d"
      },
      "execution_count": 69,
      "outputs": [
        {
          "output_type": "stream",
          "name": "stdout",
          "text": [
            "30 [array([500.6]), array([494.75]), array([505.5]), array([497.25]), array([507.5]), array([496.3]), array([491.]), array([479.65]), array([480.]), array([483.95]), array([475.9]), array([475.2]), array([476.55]), array([462.65]), array([444.65]), array([455.]), array([467.3]), array([458.]), array([447.5]), array([462.4]), array([460.9]), array([462.05]), array([454.1]), array([468.9]), array([468.95]), array([474.6]), array([468.1]), array([468.3]), array([469.85]), array([464.5])]\n",
            "30 [array([494.75]), array([505.5]), array([497.25]), array([507.5]), array([496.3]), array([491.]), array([479.65]), array([480.]), array([483.95]), array([475.9]), array([475.2]), array([476.55]), array([462.65]), array([444.65]), array([455.]), array([467.3]), array([458.]), array([447.5]), array([462.4]), array([460.9]), array([462.05]), array([454.1]), array([468.9]), array([468.95]), array([474.6]), array([468.1]), array([468.3]), array([469.85]), array([464.5]), array([466.34515], dtype=float32)]\n",
            "30 [array([505.5]), array([497.25]), array([507.5]), array([496.3]), array([491.]), array([479.65]), array([480.]), array([483.95]), array([475.9]), array([475.2]), array([476.55]), array([462.65]), array([444.65]), array([455.]), array([467.3]), array([458.]), array([447.5]), array([462.4]), array([460.9]), array([462.05]), array([454.1]), array([468.9]), array([468.95]), array([474.6]), array([468.1]), array([468.3]), array([469.85]), array([464.5]), array([466.34515], dtype=float32), array([470.06393], dtype=float32)]\n",
            "30 [array([497.25]), array([507.5]), array([496.3]), array([491.]), array([479.65]), array([480.]), array([483.95]), array([475.9]), array([475.2]), array([476.55]), array([462.65]), array([444.65]), array([455.]), array([467.3]), array([458.]), array([447.5]), array([462.4]), array([460.9]), array([462.05]), array([454.1]), array([468.9]), array([468.95]), array([474.6]), array([468.1]), array([468.3]), array([469.85]), array([464.5]), array([466.34515], dtype=float32), array([470.06393], dtype=float32), array([474.1174], dtype=float32)]\n",
            "30 [array([507.5]), array([496.3]), array([491.]), array([479.65]), array([480.]), array([483.95]), array([475.9]), array([475.2]), array([476.55]), array([462.65]), array([444.65]), array([455.]), array([467.3]), array([458.]), array([447.5]), array([462.4]), array([460.9]), array([462.05]), array([454.1]), array([468.9]), array([468.95]), array([474.6]), array([468.1]), array([468.3]), array([469.85]), array([464.5]), array([466.34515], dtype=float32), array([470.06393], dtype=float32), array([474.1174], dtype=float32), array([477.82327], dtype=float32)]\n",
            "30 [array([496.3]), array([491.]), array([479.65]), array([480.]), array([483.95]), array([475.9]), array([475.2]), array([476.55]), array([462.65]), array([444.65]), array([455.]), array([467.3]), array([458.]), array([447.5]), array([462.4]), array([460.9]), array([462.05]), array([454.1]), array([468.9]), array([468.95]), array([474.6]), array([468.1]), array([468.3]), array([469.85]), array([464.5]), array([466.34515], dtype=float32), array([470.06393], dtype=float32), array([474.1174], dtype=float32), array([477.82327], dtype=float32), array([481.20447], dtype=float32)]\n",
            "30 [array([491.]), array([479.65]), array([480.]), array([483.95]), array([475.9]), array([475.2]), array([476.55]), array([462.65]), array([444.65]), array([455.]), array([467.3]), array([458.]), array([447.5]), array([462.4]), array([460.9]), array([462.05]), array([454.1]), array([468.9]), array([468.95]), array([474.6]), array([468.1]), array([468.3]), array([469.85]), array([464.5]), array([466.34515], dtype=float32), array([470.06393], dtype=float32), array([474.1174], dtype=float32), array([477.82327], dtype=float32), array([481.20447], dtype=float32), array([484.46353], dtype=float32)]\n",
            "[466.34515, 470.06393, 474.1174, 477.82327, 481.20447, 484.46353, 487.79697]\n"
          ]
        }
      ]
    },
    {
      "cell_type": "code",
      "source": [
        "train = list(df['Close Price'])[:training_data_len]\n",
        "print(train)\n",
        "test = list(df['Close Price'])[training_data_len:]\n",
        "print(test)\n",
        "\n",
        "date_train = list(df['Date'])[:training_data_len]\n",
        "date_test = list(df['Date'])[training_data_len:]\n",
        "\n",
        "date_next = ['1st Day','2nd Day','3rd Day','4th Day','5th Day','6th Day','7th Day']"
      ],
      "metadata": {
        "colab": {
          "base_uri": "https://localhost:8080/"
        },
        "id": "3cepaPWtlkDv",
        "outputId": "f8e43217-a4d5-43ac-922e-022fcd67fb3d"
      },
      "execution_count": 70,
      "outputs": [
        {
          "output_type": "stream",
          "name": "stdout",
          "text": [
            "[262.15, 263.5, 256.55, 246.65, 256.8, 253.25, 252.85, 254.7, 257.05, 253.7, 252.3, 247.95, 249.1, 248.0, 241.55, 234.8, 246.5, 254.35, 249.9, 246.15, 250.5, 247.3, 259.3, 259.7, 260.65, 263.3, 257.05, 253.8, 250.95, 249.0, 248.15, 246.45, 246.15, 241.2, 242.45, 240.6, 237.2, 233.2, 242.6, 246.4, 241.0, 241.9, 241.95, 246.5, 250.05, 248.0, 247.95, 250.35, 253.6, 248.0, 243.1, 242.7, 238.85, 244.45, 253.9, 263.2, 268.5, 266.95, 272.05, 264.3, 267.15, 269.55, 266.7, 263.0, 263.55, 270.15, 269.65, 273.0, 274.0, 282.85, 287.7, 282.6, 277.45, 276.85, 272.6, 273.3, 268.65, 273.05, 268.45, 267.4, 261.7, 257.0, 259.35, 258.85, 257.5, 257.45, 256.45, 257.2, 261.55, 263.75, 259.1, 262.75, 257.75, 251.6, 259.05, 259.55, 260.2, 261.5, 266.35, 266.85, 271.85, 287.7, 286.75, 297.4, 293.5, 295.1, 293.9, 299.25, 308.5, 304.05, 308.7, 317.4, 304.45, 294.15, 294.9, 292.7, 302.1, 307.65, 307.0, 302.45, 300.45, 308.0, 305.35, 309.7, 308.6, 309.6, 306.35, 296.4, 296.55, 296.45, 291.65, 284.85, 282.6, 285.3, 290.65, 285.3, 273.8, 271.5, 270.6, 264.35, 270.9, 263.85, 265.35, 265.5, 273.85, 271.7, 271.35, 258.35, 265.75, 262.95, 278.65, 262.15, 263.75, 263.2, 270.3, 261.15, 261.1, 260.35, 255.65, 255.7, 249.55, 248.1, 267.9, 273.15, 281.4, 285.9, 285.35, 294.95, 286.45, 286.55, 283.25, 277.95, 278.05, 283.6, 285.4, 290.9, 288.15, 283.45, 287.05, 282.7, 286.4, 289.4, 284.55, 286.4, 284.65, 286.8, 282.55, 280.15, 275.65, 275.4, 274.2, 281.25, 285.25, 289.0, 289.2, 289.5, 292.75, 300.7, 294.05, 291.9, 293.05, 294.15, 292.15, 294.8, 295.9, 299.6, 293.9, 291.1, 297.65, 296.3, 305.3, 305.3, 305.55, 302.75, 300.4, 301.65, 303.15, 297.4, 294.95, 292.45, 290.25, 286.65, 288.05, 285.4, 281.6, 280.6, 287.45, 293.65, 284.4, 283.95, 284.65, 289.05, 287.4, 286.0, 280.5, 275.4, 268.2, 267.1, 262.95, 259.95, 262.9, 267.7, 268.0, 270.95, 270.15, 266.35, 267.65, 269.05, 272.95, 276.45, 278.1, 281.75, 281.2, 287.35, 286.9, 293.15, 291.9, 298.4, 298.95, 303.05, 303.8, 298.05, 294.0, 303.5, 308.8, 319.0, 320.75, 322.75, 329.0, 320.5, 321.8, 317.05, 312.8, 314.75, 310.9, 314.9, 315.25, 315.6, 315.75, 310.8, 310.05, 305.25, 310.75, 306.2, 312.5, 309.95, 308.15, 310.0, 308.75, 305.45, 298.25, 299.3, 308.05, 306.9, 314.65, 312.1, 315.75, 319.25, 344.7, 337.55, 341.1, 342.2, 355.35, 361.7, 360.05, 348.65, 353.55, 352.5, 355.45, 352.4, 336.9, 342.05, 344.3, 347.1, 344.0, 346.5, 343.8, 337.85, 340.05, 338.85, 345.15, 349.4, 353.2, 356.55, 358.15, 362.15, 361.25, 361.55, 364.5, 366.15, 367.4, 370.65, 355.3, 359.5, 354.2, 363.2, 363.6, 360.05, 364.35, 372.4, 363.65, 356.0, 350.85, 342.2, 339.6, 341.3, 342.6, 343.8, 327.55, 332.2, 317.15, 308.45, 300.25, 301.4, 289.9, 294.35, 291.35, 283.35, 289.75, 290.9, 286.85, 283.7, 277.4, 268.55, 271.1, 280.2, 285.7, 284.9, 274.5, 273.85, 268.4, 275.1, 273.3, 273.95, 278.0, 285.25, 287.05, 291.7, 284.7, 273.95, 280.4, 274.05, 301.7, 313.75, 302.6, 280.25, 281.85, 281.2, 270.8, 255.95, 254.15, 249.95, 249.1, 260.95, 254.15, 254.55, 255.45, 258.45, 256.05, 265.45, 269.65, 270.5, 275.45, 262.5, 281.55, 281.8, 280.65, 289.9, 312.4, 313.55, 314.3, 319.2, 317.55, 318.15, 316.0, 318.25, 306.8, 306.0, 321.9, 325.1, 330.4, 328.8, 331.35, 329.3, 336.1, 335.5, 343.55, 349.3, 341.85, 338.5, 336.25, 341.85, 336.2, 320.0, 316.7, 313.4, 312.8, 321.85, 332.55, 331.85, 332.9, 326.95, 328.15, 337.85, 332.4, 331.45, 329.85, 337.25, 334.4, 333.75, 470.8, 483.5, 492.4, 491.7]\n",
            "[491.25, 503.65, 505.95, 510.25, 511.35, 508.35, 514.0, 506.8, 515.8, 511.4, 502.7, 494.15, 514.65, 528.95, 523.45, 538.3, 532.3, 539.8, 540.1, 530.3, 533.25, 531.35, 535.25, 540.55, 529.6, 501.4, 524.8, 516.7, 512.95, 515.3, 511.85, 498.4, 498.7, 472.65, 482.95, 483.2, 474.25, 467.4, 461.95, 440.3, 440.3, 451.7, 468.7, 470.35, 485.15, 485.85, 492.75, 501.9, 490.6, 493.7, 490.65, 487.1, 490.7, 497.5, 495.0, 494.3, 493.55, 508.2, 512.4, 509.4, 513.95, 514.95, 516.1, 514.9, 512.85, 517.7, 509.5, 511.8, 509.3, 516.3, 500.6, 494.75, 505.5, 497.25, 507.5, 496.3, 491.0, 479.65, 480.0, 483.95, 475.9, 475.2, 476.55, 462.65, 444.65, 455.0, 467.3, 458.0, 447.5, 462.4, 460.9, 462.05, 454.1, 468.9, 468.95, 474.6, 468.1, 468.3, 469.85, 464.5]\n"
          ]
        }
      ]
    },
    {
      "cell_type": "markdown",
      "source": [
        "## Graph"
      ],
      "metadata": {
        "id": "H3z0-QDRq5ai"
      }
    },
    {
      "cell_type": "code",
      "source": [
        "fig = go.Figure()\n",
        "fig.add_trace(go.Scatter(x=date_train, y=train,mode='lines',name='Train Data'))\n",
        "fig.add_trace(go.Scatter(x=date_test, y=test,mode='lines',name='Test Data'))\n",
        "fig.add_trace(go.Scatter(x=date_test, y=predict,mode='lines',name='Test Predicted Data'))\n",
        "fig.add_trace(go.Scatter(x=date_next, y=next_days,mode='lines+markers',name='Predicted Data'))\n",
        "fig.update_xaxes(\n",
        "  rangeslider_visible=True,\n",
        "  rangeselector=dict(\n",
        "      buttons=list([\n",
        "                    dict(count=1,\n",
        "                          label='1y',\n",
        "                          step='year',\n",
        "                          stepmode='todate'),\n",
        "                    dict(count=2,\n",
        "                          label='2y',\n",
        "                          step='year',\n",
        "                          stepmode='todate'),\n",
        "                    dict(count=3,\n",
        "                          label='3y',\n",
        "                          step='year',\n",
        "                          stepmode='todate'),\n",
        "                    dict(step='all')\n",
        "      ])\n",
        "  )\n",
        ")\n",
        "fig.update_layout(\n",
        "  title={'text': 'Stock Data',\n",
        "          'x':0.5,\n",
        "          'xanchor': 'center',\n",
        "          'yanchor': 'top'},\n",
        "  xaxis_title=\"Date\",\n",
        "  yaxis_title=\"Close Values\",\n",
        ")\n",
        "fig.show()"
      ],
      "metadata": {
        "colab": {
          "base_uri": "https://localhost:8080/",
          "height": 542
        },
        "id": "r8JqFpg1iUJt",
        "outputId": "b6fde64a-cdaa-4d6a-d1f9-7f6f3778ced8"
      },
      "execution_count": 71,
      "outputs": [
        {
          "output_type": "display_data",
          "data": {
            "text/html": [
              "<html>\n",
              "<head><meta charset=\"utf-8\" /></head>\n",
              "<body>\n",
              "    <div>            <script src=\"https://cdnjs.cloudflare.com/ajax/libs/mathjax/2.7.5/MathJax.js?config=TeX-AMS-MML_SVG\"></script><script type=\"text/javascript\">if (window.MathJax) {MathJax.Hub.Config({SVG: {font: \"STIX-Web\"}});}</script>                <script type=\"text/javascript\">window.PlotlyConfig = {MathJaxConfig: 'local'};</script>\n",
              "        <script src=\"https://cdn.plot.ly/plotly-2.8.3.min.js\"></script>                <div id=\"e6c86bc9-bdba-4951-920a-ad41b0e109cc\" class=\"plotly-graph-div\" style=\"height:525px; width:100%;\"></div>            <script type=\"text/javascript\">                                    window.PLOTLYENV=window.PLOTLYENV || {};                                    if (document.getElementById(\"e6c86bc9-bdba-4951-920a-ad41b0e109cc\")) {                    Plotly.newPlot(                        \"e6c86bc9-bdba-4951-920a-ad41b0e109cc\",                        [{\"mode\":\"lines\",\"name\":\"Train Data\",\"x\":[\"01-Mar-2018\",\"05-Mar-2018\",\"06-Mar-2018\",\"07-Mar-2018\",\"08-Mar-2018\",\"09-Mar-2018\",\"12-Mar-2018\",\"13-Mar-2018\",\"14-Mar-2018\",\"15-Mar-2018\",\"16-Mar-2018\",\"19-Mar-2018\",\"20-Mar-2018\",\"21-Mar-2018\",\"22-Mar-2018\",\"23-Mar-2018\",\"26-Mar-2018\",\"27-Mar-2018\",\"28-Mar-2018\",\"02-Apr-2018\",\"03-Apr-2018\",\"04-Apr-2018\",\"05-Apr-2018\",\"06-Apr-2018\",\"09-Apr-2018\",\"10-Apr-2018\",\"11-Apr-2018\",\"12-Apr-2018\",\"13-Apr-2018\",\"16-Apr-2018\",\"17-Apr-2018\",\"18-Apr-2018\",\"19-Apr-2018\",\"20-Apr-2018\",\"23-Apr-2018\",\"24-Apr-2018\",\"25-Apr-2018\",\"26-Apr-2018\",\"27-Apr-2018\",\"30-Apr-2018\",\"02-May-2018\",\"03-May-2018\",\"04-May-2018\",\"07-May-2018\",\"08-May-2018\",\"09-May-2018\",\"10-May-2018\",\"11-May-2018\",\"14-May-2018\",\"15-May-2018\",\"16-May-2018\",\"17-May-2018\",\"18-May-2018\",\"21-May-2018\",\"22-May-2018\",\"23-May-2018\",\"24-May-2018\",\"25-May-2018\",\"28-May-2018\",\"29-May-2018\",\"30-May-2018\",\"31-May-2018\",\"01-Jun-2018\",\"04-Jun-2018\",\"05-Jun-2018\",\"06-Jun-2018\",\"07-Jun-2018\",\"08-Jun-2018\",\"11-Jun-2018\",\"12-Jun-2018\",\"13-Jun-2018\",\"14-Jun-2018\",\"15-Jun-2018\",\"18-Jun-2018\",\"19-Jun-2018\",\"20-Jun-2018\",\"21-Jun-2018\",\"22-Jun-2018\",\"25-Jun-2018\",\"26-Jun-2018\",\"27-Jun-2018\",\"28-Jun-2018\",\"29-Jun-2018\",\"02-Jul-2018\",\"03-Jul-2018\",\"04-Jul-2018\",\"05-Jul-2018\",\"06-Jul-2018\",\"09-Jul-2018\",\"10-Jul-2018\",\"11-Jul-2018\",\"12-Jul-2018\",\"13-Jul-2018\",\"16-Jul-2018\",\"17-Jul-2018\",\"18-Jul-2018\",\"19-Jul-2018\",\"20-Jul-2018\",\"23-Jul-2018\",\"24-Jul-2018\",\"25-Jul-2018\",\"26-Jul-2018\",\"27-Jul-2018\",\"30-Jul-2018\",\"31-Jul-2018\",\"01-Aug-2018\",\"02-Aug-2018\",\"03-Aug-2018\",\"06-Aug-2018\",\"07-Aug-2018\",\"08-Aug-2018\",\"09-Aug-2018\",\"10-Aug-2018\",\"13-Aug-2018\",\"14-Aug-2018\",\"16-Aug-2018\",\"17-Aug-2018\",\"20-Aug-2018\",\"21-Aug-2018\",\"23-Aug-2018\",\"24-Aug-2018\",\"27-Aug-2018\",\"28-Aug-2018\",\"29-Aug-2018\",\"30-Aug-2018\",\"31-Aug-2018\",\"03-Sep-2018\",\"04-Sep-2018\",\"05-Sep-2018\",\"06-Sep-2018\",\"07-Sep-2018\",\"10-Sep-2018\",\"11-Sep-2018\",\"12-Sep-2018\",\"14-Sep-2018\",\"17-Sep-2018\",\"18-Sep-2018\",\"19-Sep-2018\",\"21-Sep-2018\",\"24-Sep-2018\",\"25-Sep-2018\",\"26-Sep-2018\",\"27-Sep-2018\",\"28-Sep-2018\",\"01-Oct-2018\",\"03-Oct-2018\",\"04-Oct-2018\",\"05-Oct-2018\",\"08-Oct-2018\",\"09-Oct-2018\",\"10-Oct-2018\",\"11-Oct-2018\",\"12-Oct-2018\",\"15-Oct-2018\",\"16-Oct-2018\",\"17-Oct-2018\",\"19-Oct-2018\",\"22-Oct-2018\",\"23-Oct-2018\",\"24-Oct-2018\",\"25-Oct-2018\",\"26-Oct-2018\",\"29-Oct-2018\",\"30-Oct-2018\",\"31-Oct-2018\",\"01-Nov-2018\",\"02-Nov-2018\",\"05-Nov-2018\",\"06-Nov-2018\",\"07-Nov-2018\",\"09-Nov-2018\",\"12-Nov-2018\",\"13-Nov-2018\",\"14-Nov-2018\",\"15-Nov-2018\",\"16-Nov-2018\",\"19-Nov-2018\",\"20-Nov-2018\",\"21-Nov-2018\",\"22-Nov-2018\",\"26-Nov-2018\",\"27-Nov-2018\",\"28-Nov-2018\",\"29-Nov-2018\",\"30-Nov-2018\",\"03-Dec-2018\",\"04-Dec-2018\",\"05-Dec-2018\",\"06-Dec-2018\",\"07-Dec-2018\",\"10-Dec-2018\",\"11-Dec-2018\",\"12-Dec-2018\",\"13-Dec-2018\",\"14-Dec-2018\",\"17-Dec-2018\",\"18-Dec-2018\",\"19-Dec-2018\",\"20-Dec-2018\",\"21-Dec-2018\",\"24-Dec-2018\",\"26-Dec-2018\",\"27-Dec-2018\",\"28-Dec-2018\",\"31-Dec-2018\",\"01-Jan-2019\",\"02-Jan-2019\",\"03-Jan-2019\",\"04-Jan-2019\",\"07-Jan-2019\",\"08-Jan-2019\",\"09-Jan-2019\",\"10-Jan-2019\",\"11-Jan-2019\",\"14-Jan-2019\",\"15-Jan-2019\",\"16-Jan-2019\",\"17-Jan-2019\",\"18-Jan-2019\",\"21-Jan-2019\",\"22-Jan-2019\",\"23-Jan-2019\",\"24-Jan-2019\",\"25-Jan-2019\",\"28-Jan-2019\",\"29-Jan-2019\",\"30-Jan-2019\",\"31-Jan-2019\",\"01-Feb-2019\",\"04-Feb-2019\",\"05-Feb-2019\",\"06-Feb-2019\",\"07-Feb-2019\",\"08-Feb-2019\",\"11-Feb-2019\",\"12-Feb-2019\",\"13-Feb-2019\",\"14-Feb-2019\",\"15-Feb-2019\",\"18-Feb-2019\",\"19-Feb-2019\",\"20-Feb-2019\",\"21-Feb-2019\",\"22-Feb-2019\",\"25-Feb-2019\",\"26-Feb-2019\",\"27-Feb-2019\",\"28-Feb-2019\",\"01-Mar-2019\",\"05-Mar-2019\",\"06-Mar-2019\",\"07-Mar-2019\",\"08-Mar-2019\",\"11-Mar-2019\",\"12-Mar-2019\",\"13-Mar-2019\",\"14-Mar-2019\",\"15-Mar-2019\",\"18-Mar-2019\",\"19-Mar-2019\",\"20-Mar-2019\",\"22-Mar-2019\",\"25-Mar-2019\",\"26-Mar-2019\",\"27-Mar-2019\",\"28-Mar-2019\",\"29-Mar-2019\",\"01-Apr-2019\",\"02-Apr-2019\",\"03-Apr-2019\",\"04-Apr-2019\",\"05-Apr-2019\",\"08-Apr-2019\",\"09-Apr-2019\",\"10-Apr-2019\",\"11-Apr-2019\",\"12-Apr-2019\",\"15-Apr-2019\",\"16-Apr-2019\",\"18-Apr-2019\",\"22-Apr-2019\",\"23-Apr-2019\",\"24-Apr-2019\",\"25-Apr-2019\",\"26-Apr-2019\",\"30-Apr-2019\",\"02-May-2019\",\"03-May-2019\",\"06-May-2019\",\"07-May-2019\",\"08-May-2019\",\"09-May-2019\",\"10-May-2019\",\"13-May-2019\",\"14-May-2019\",\"15-May-2019\",\"16-May-2019\",\"17-May-2019\",\"20-May-2019\",\"21-May-2019\",\"22-May-2019\",\"23-May-2019\",\"24-May-2019\",\"27-May-2019\",\"28-May-2019\",\"29-May-2019\",\"30-May-2019\",\"31-May-2019\",\"03-Jun-2019\",\"04-Jun-2019\",\"06-Jun-2019\",\"07-Jun-2019\",\"10-Jun-2019\",\"11-Jun-2019\",\"12-Jun-2019\",\"13-Jun-2019\",\"14-Jun-2019\",\"17-Jun-2019\",\"18-Jun-2019\",\"19-Jun-2019\",\"20-Jun-2019\",\"21-Jun-2019\",\"24-Jun-2019\",\"25-Jun-2019\",\"26-Jun-2019\",\"27-Jun-2019\",\"28-Jun-2019\",\"01-Jul-2019\",\"02-Jul-2019\",\"03-Jul-2019\",\"04-Jul-2019\",\"05-Jul-2019\",\"08-Jul-2019\",\"09-Jul-2019\",\"10-Jul-2019\",\"11-Jul-2019\",\"12-Jul-2019\",\"15-Jul-2019\",\"16-Jul-2019\",\"17-Jul-2019\",\"18-Jul-2019\",\"19-Jul-2019\",\"22-Jul-2019\",\"23-Jul-2019\",\"24-Jul-2019\",\"25-Jul-2019\",\"26-Jul-2019\",\"29-Jul-2019\",\"30-Jul-2019\",\"31-Jul-2019\",\"01-Aug-2019\",\"02-Aug-2019\",\"05-Aug-2019\",\"06-Aug-2019\",\"07-Aug-2019\",\"08-Aug-2019\",\"09-Aug-2019\",\"13-Aug-2019\",\"14-Aug-2019\",\"16-Aug-2019\",\"19-Aug-2019\",\"20-Aug-2019\",\"21-Aug-2019\",\"22-Aug-2019\",\"23-Aug-2019\",\"26-Aug-2019\",\"27-Aug-2019\",\"28-Aug-2019\",\"29-Aug-2019\",\"30-Aug-2019\",\"03-Sep-2019\",\"04-Sep-2019\",\"05-Sep-2019\",\"06-Sep-2019\",\"09-Sep-2019\",\"11-Sep-2019\",\"12-Sep-2019\",\"13-Sep-2019\",\"16-Sep-2019\",\"17-Sep-2019\",\"18-Sep-2019\",\"19-Sep-2019\",\"20-Sep-2019\",\"23-Sep-2019\",\"24-Sep-2019\",\"25-Sep-2019\",\"26-Sep-2019\",\"27-Sep-2019\",\"30-Sep-2019\",\"01-Oct-2019\",\"03-Oct-2019\",\"04-Oct-2019\",\"07-Oct-2019\",\"09-Oct-2019\",\"10-Oct-2019\",\"11-Oct-2019\",\"14-Oct-2019\",\"15-Oct-2019\",\"16-Oct-2019\",\"17-Oct-2019\",\"18-Oct-2019\",\"22-Oct-2019\",\"23-Oct-2019\",\"24-Oct-2019\",\"25-Oct-2019\",\"27-Oct-2019\",\"29-Oct-2019\",\"30-Oct-2019\",\"31-Oct-2019\",\"01-Nov-2019\",\"04-Nov-2019\",\"05-Nov-2019\",\"06-Nov-2019\",\"07-Nov-2019\",\"08-Nov-2019\",\"11-Nov-2019\",\"13-Nov-2019\",\"14-Nov-2019\",\"15-Nov-2019\",\"18-Nov-2019\",\"19-Nov-2019\",\"20-Nov-2019\",\"21-Nov-2019\",\"22-Nov-2019\",\"25-Nov-2019\",\"26-Nov-2019\",\"27-Nov-2019\",\"28-Nov-2019\",\"29-Nov-2019\",\"02-Dec-2019\",\"03-Dec-2019\",\"04-Dec-2019\",\"05-Dec-2019\",\"06-Dec-2019\",\"09-Dec-2019\",\"10-Dec-2019\",\"11-Dec-2019\",\"12-Dec-2019\",\"13-Dec-2019\",\"16-Dec-2019\",\"17-Dec-2019\",\"18-Dec-2019\",\"19-Dec-2019\",\"20-Dec-2019\",\"23-Dec-2019\",\"24-Dec-2019\",\"26-Dec-2019\",\"27-Dec-2019\",\"30-Dec-2019\",\"31-Dec-2019\",\"03-Jan-2022\",\"04-Jan-2022\",\"05-Jan-2022\",\"06-Jan-2022\"],\"y\":[262.15,263.5,256.55,246.65,256.8,253.25,252.85,254.7,257.05,253.7,252.3,247.95,249.1,248.0,241.55,234.8,246.5,254.35,249.9,246.15,250.5,247.3,259.3,259.7,260.65,263.3,257.05,253.8,250.95,249.0,248.15,246.45,246.15,241.2,242.45,240.6,237.2,233.2,242.6,246.4,241.0,241.9,241.95,246.5,250.05,248.0,247.95,250.35,253.6,248.0,243.1,242.7,238.85,244.45,253.9,263.2,268.5,266.95,272.05,264.3,267.15,269.55,266.7,263.0,263.55,270.15,269.65,273.0,274.0,282.85,287.7,282.6,277.45,276.85,272.6,273.3,268.65,273.05,268.45,267.4,261.7,257.0,259.35,258.85,257.5,257.45,256.45,257.2,261.55,263.75,259.1,262.75,257.75,251.6,259.05,259.55,260.2,261.5,266.35,266.85,271.85,287.7,286.75,297.4,293.5,295.1,293.9,299.25,308.5,304.05,308.7,317.4,304.45,294.15,294.9,292.7,302.1,307.65,307.0,302.45,300.45,308.0,305.35,309.7,308.6,309.6,306.35,296.4,296.55,296.45,291.65,284.85,282.6,285.3,290.65,285.3,273.8,271.5,270.6,264.35,270.9,263.85,265.35,265.5,273.85,271.7,271.35,258.35,265.75,262.95,278.65,262.15,263.75,263.2,270.3,261.15,261.1,260.35,255.65,255.7,249.55,248.1,267.9,273.15,281.4,285.9,285.35,294.95,286.45,286.55,283.25,277.95,278.05,283.6,285.4,290.9,288.15,283.45,287.05,282.7,286.4,289.4,284.55,286.4,284.65,286.8,282.55,280.15,275.65,275.4,274.2,281.25,285.25,289.0,289.2,289.5,292.75,300.7,294.05,291.9,293.05,294.15,292.15,294.8,295.9,299.6,293.9,291.1,297.65,296.3,305.3,305.3,305.55,302.75,300.4,301.65,303.15,297.4,294.95,292.45,290.25,286.65,288.05,285.4,281.6,280.6,287.45,293.65,284.4,283.95,284.65,289.05,287.4,286.0,280.5,275.4,268.2,267.1,262.95,259.95,262.9,267.7,268.0,270.95,270.15,266.35,267.65,269.05,272.95,276.45,278.1,281.75,281.2,287.35,286.9,293.15,291.9,298.4,298.95,303.05,303.8,298.05,294.0,303.5,308.8,319.0,320.75,322.75,329.0,320.5,321.8,317.05,312.8,314.75,310.9,314.9,315.25,315.6,315.75,310.8,310.05,305.25,310.75,306.2,312.5,309.95,308.15,310.0,308.75,305.45,298.25,299.3,308.05,306.9,314.65,312.1,315.75,319.25,344.7,337.55,341.1,342.2,355.35,361.7,360.05,348.65,353.55,352.5,355.45,352.4,336.9,342.05,344.3,347.1,344.0,346.5,343.8,337.85,340.05,338.85,345.15,349.4,353.2,356.55,358.15,362.15,361.25,361.55,364.5,366.15,367.4,370.65,355.3,359.5,354.2,363.2,363.6,360.05,364.35,372.4,363.65,356.0,350.85,342.2,339.6,341.3,342.6,343.8,327.55,332.2,317.15,308.45,300.25,301.4,289.9,294.35,291.35,283.35,289.75,290.9,286.85,283.7,277.4,268.55,271.1,280.2,285.7,284.9,274.5,273.85,268.4,275.1,273.3,273.95,278.0,285.25,287.05,291.7,284.7,273.95,280.4,274.05,301.7,313.75,302.6,280.25,281.85,281.2,270.8,255.95,254.15,249.95,249.1,260.95,254.15,254.55,255.45,258.45,256.05,265.45,269.65,270.5,275.45,262.5,281.55,281.8,280.65,289.9,312.4,313.55,314.3,319.2,317.55,318.15,316.0,318.25,306.8,306.0,321.9,325.1,330.4,328.8,331.35,329.3,336.1,335.5,343.55,349.3,341.85,338.5,336.25,341.85,336.2,320.0,316.7,313.4,312.8,321.85,332.55,331.85,332.9,326.95,328.15,337.85,332.4,331.45,329.85,337.25,334.4,333.75,470.8,483.5,492.4,491.7],\"type\":\"scatter\"},{\"mode\":\"lines\",\"name\":\"Test Data\",\"x\":[\"07-Jan-2022\",\"10-Jan-2022\",\"11-Jan-2022\",\"12-Jan-2022\",\"13-Jan-2022\",\"14-Jan-2022\",\"17-Jan-2022\",\"18-Jan-2022\",\"19-Jan-2022\",\"20-Jan-2022\",\"21-Jan-2022\",\"24-Jan-2022\",\"25-Jan-2022\",\"27-Jan-2022\",\"28-Jan-2022\",\"31-Jan-2022\",\"01-Feb-2022\",\"02-Feb-2022\",\"03-Feb-2022\",\"04-Feb-2022\",\"07-Feb-2022\",\"08-Feb-2022\",\"09-Feb-2022\",\"10-Feb-2022\",\"11-Feb-2022\",\"14-Feb-2022\",\"15-Feb-2022\",\"16-Feb-2022\",\"17-Feb-2022\",\"18-Feb-2022\",\"21-Feb-2022\",\"22-Feb-2022\",\"23-Feb-2022\",\"24-Feb-2022\",\"25-Feb-2022\",\"28-Feb-2022\",\"02-Mar-2022\",\"03-Mar-2022\",\"04-Mar-2022\",\"07-Mar-2022\",\"08-Mar-2022\",\"09-Mar-2022\",\"10-Mar-2022\",\"11-Mar-2022\",\"14-Mar-2022\",\"15-Mar-2022\",\"16-Mar-2022\",\"17-Mar-2022\",\"21-Mar-2022\",\"22-Mar-2022\",\"23-Mar-2022\",\"24-Mar-2022\",\"25-Mar-2022\",\"28-Mar-2022\",\"29-Mar-2022\",\"30-Mar-2022\",\"31-Mar-2022\",\"01-Apr-2022\",\"04-Apr-2022\",\"05-Apr-2022\",\"06-Apr-2022\",\"07-Apr-2022\",\"08-Apr-2022\",\"11-Apr-2022\",\"12-Apr-2022\",\"13-Apr-2022\",\"18-Apr-2022\",\"19-Apr-2022\",\"20-Apr-2022\",\"21-Apr-2022\",\"22-Apr-2022\",\"25-Apr-2022\",\"26-Apr-2022\",\"27-Apr-2022\",\"28-Apr-2022\",\"29-Apr-2022\",\"02-May-2022\",\"04-May-2022\",\"05-May-2022\",\"06-May-2022\",\"09-May-2022\",\"10-May-2022\",\"11-May-2022\",\"12-May-2022\",\"13-May-2022\",\"16-May-2022\",\"17-May-2022\",\"18-May-2022\",\"19-May-2022\",\"20-May-2022\",\"23-May-2022\",\"24-May-2022\",\"25-May-2022\",\"26-May-2022\",\"27-May-2022\",\"30-May-2022\",\"31-May-2022\",\"01-Jun-2022\",\"02-Jun-2022\",\"03-Jun-2022\"],\"y\":[491.25,503.65,505.95,510.25,511.35,508.35,514.0,506.8,515.8,511.4,502.7,494.15,514.65,528.95,523.45,538.3,532.3,539.8,540.1,530.3,533.25,531.35,535.25,540.55,529.6,501.4,524.8,516.7,512.95,515.3,511.85,498.4,498.7,472.65,482.95,483.2,474.25,467.4,461.95,440.3,440.3,451.7,468.7,470.35,485.15,485.85,492.75,501.9,490.6,493.7,490.65,487.1,490.7,497.5,495.0,494.3,493.55,508.2,512.4,509.4,513.95,514.95,516.1,514.9,512.85,517.7,509.5,511.8,509.3,516.3,500.6,494.75,505.5,497.25,507.5,496.3,491.0,479.65,480.0,483.95,475.9,475.2,476.55,462.65,444.65,455.0,467.3,458.0,447.5,462.4,460.9,462.05,454.1,468.9,468.95,474.6,468.1,468.3,469.85,464.5],\"type\":\"scatter\"},{\"mode\":\"lines\",\"name\":\"Test Predicted Data\",\"x\":[\"07-Jan-2022\",\"10-Jan-2022\",\"11-Jan-2022\",\"12-Jan-2022\",\"13-Jan-2022\",\"14-Jan-2022\",\"17-Jan-2022\",\"18-Jan-2022\",\"19-Jan-2022\",\"20-Jan-2022\",\"21-Jan-2022\",\"24-Jan-2022\",\"25-Jan-2022\",\"27-Jan-2022\",\"28-Jan-2022\",\"31-Jan-2022\",\"01-Feb-2022\",\"02-Feb-2022\",\"03-Feb-2022\",\"04-Feb-2022\",\"07-Feb-2022\",\"08-Feb-2022\",\"09-Feb-2022\",\"10-Feb-2022\",\"11-Feb-2022\",\"14-Feb-2022\",\"15-Feb-2022\",\"16-Feb-2022\",\"17-Feb-2022\",\"18-Feb-2022\",\"21-Feb-2022\",\"22-Feb-2022\",\"23-Feb-2022\",\"24-Feb-2022\",\"25-Feb-2022\",\"28-Feb-2022\",\"02-Mar-2022\",\"03-Mar-2022\",\"04-Mar-2022\",\"07-Mar-2022\",\"08-Mar-2022\",\"09-Mar-2022\",\"10-Mar-2022\",\"11-Mar-2022\",\"14-Mar-2022\",\"15-Mar-2022\",\"16-Mar-2022\",\"17-Mar-2022\",\"21-Mar-2022\",\"22-Mar-2022\",\"23-Mar-2022\",\"24-Mar-2022\",\"25-Mar-2022\",\"28-Mar-2022\",\"29-Mar-2022\",\"30-Mar-2022\",\"31-Mar-2022\",\"01-Apr-2022\",\"04-Apr-2022\",\"05-Apr-2022\",\"06-Apr-2022\",\"07-Apr-2022\",\"08-Apr-2022\",\"11-Apr-2022\",\"12-Apr-2022\",\"13-Apr-2022\",\"18-Apr-2022\",\"19-Apr-2022\",\"20-Apr-2022\",\"21-Apr-2022\",\"22-Apr-2022\",\"25-Apr-2022\",\"26-Apr-2022\",\"27-Apr-2022\",\"28-Apr-2022\",\"29-Apr-2022\",\"02-May-2022\",\"04-May-2022\",\"05-May-2022\",\"06-May-2022\",\"09-May-2022\",\"10-May-2022\",\"11-May-2022\",\"12-May-2022\",\"13-May-2022\",\"16-May-2022\",\"17-May-2022\",\"18-May-2022\",\"19-May-2022\",\"20-May-2022\",\"23-May-2022\",\"24-May-2022\",\"25-May-2022\",\"26-May-2022\",\"27-May-2022\",\"30-May-2022\",\"31-May-2022\",\"01-Jun-2022\",\"02-Jun-2022\",\"03-Jun-2022\"],\"y\":[496.6679382324219,499.2364501953125,516.9476928710938,515.8309936523438,520.0758666992188,519.3880004882812,514.1334838867188,521.758544921875,508.78900146484375,522.5926513671875,512.0863647460938,501.8069763183594,493.6576843261719,523.164794921875,533.18798828125,519.7469482421875,544.31005859375,529.8041381835938,544.4025268554688,541.7382202148438,528.7640991210938,538.0389404296875,533.2102661132812,539.0693359375,544.1043701171875,526.3949584960938,494.172607421875,537.145263671875,513.6895141601562,512.4002685546875,517.3560791015625,511.1065673828125,494.6664733886719,500.6037902832031,465.6452941894531,487.8112487792969,484.0206604003906,471.4456787109375,465.8326110839844,461.0709533691406,435.23736572265625,440.67535400390625,455.0823669433594,473.40765380859375,470.670654296875,490.0480041503906,487.5035095214844,497.37408447265625,508.25048828125,490.6752014160156,499.6947937011719,494.7861633300781,490.71856689453125,496.2298889160156,503.14599609375,496.7607727050781,496.6820983886719,495.9173889160156,515.3020629882812,515.0194702148438,509.75030517578125,517.935791015625,517.6300048828125,518.973388671875,517.1220703125,514.9555053710938,522.236083984375,508.8169250488281,515.3953857421875,510.6874084472656,520.7341918945312,496.4989318847656,495.39471435546875,511.48651123046875,495.2972412109375,512.23046875,493.2591247558594,490.93426513671875,478.1943054199219,482.1959533691406,486.7344665527344,474.33990478515625,476.11322021484375,478.18280029296875,459.7176513671875,441.30426025390625,459.12646484375,471.9262390136719,455.8555603027344,445.50286865234375,467.7353210449219,462.1748046875,463.9013671875,454.14892578125,475.364990234375,471.62725830078125,478.71844482421875,469.2101745605469,471.6593017578125,473.85894775390625],\"type\":\"scatter\"},{\"mode\":\"lines+markers\",\"name\":\"Predicted Data\",\"x\":[\"1st Day\",\"2nd Day\",\"3rd Day\",\"4th Day\",\"5th Day\",\"6th Day\",\"7th Day\"],\"y\":[466.34515380859375,470.0639343261719,474.1174011230469,477.8232727050781,481.2044677734375,484.4635314941406,487.7969665527344],\"type\":\"scatter\"}],                        {\"template\":{\"data\":{\"bar\":[{\"error_x\":{\"color\":\"#2a3f5f\"},\"error_y\":{\"color\":\"#2a3f5f\"},\"marker\":{\"line\":{\"color\":\"#E5ECF6\",\"width\":0.5},\"pattern\":{\"fillmode\":\"overlay\",\"size\":10,\"solidity\":0.2}},\"type\":\"bar\"}],\"barpolar\":[{\"marker\":{\"line\":{\"color\":\"#E5ECF6\",\"width\":0.5},\"pattern\":{\"fillmode\":\"overlay\",\"size\":10,\"solidity\":0.2}},\"type\":\"barpolar\"}],\"carpet\":[{\"aaxis\":{\"endlinecolor\":\"#2a3f5f\",\"gridcolor\":\"white\",\"linecolor\":\"white\",\"minorgridcolor\":\"white\",\"startlinecolor\":\"#2a3f5f\"},\"baxis\":{\"endlinecolor\":\"#2a3f5f\",\"gridcolor\":\"white\",\"linecolor\":\"white\",\"minorgridcolor\":\"white\",\"startlinecolor\":\"#2a3f5f\"},\"type\":\"carpet\"}],\"choropleth\":[{\"colorbar\":{\"outlinewidth\":0,\"ticks\":\"\"},\"type\":\"choropleth\"}],\"contour\":[{\"colorbar\":{\"outlinewidth\":0,\"ticks\":\"\"},\"colorscale\":[[0.0,\"#0d0887\"],[0.1111111111111111,\"#46039f\"],[0.2222222222222222,\"#7201a8\"],[0.3333333333333333,\"#9c179e\"],[0.4444444444444444,\"#bd3786\"],[0.5555555555555556,\"#d8576b\"],[0.6666666666666666,\"#ed7953\"],[0.7777777777777778,\"#fb9f3a\"],[0.8888888888888888,\"#fdca26\"],[1.0,\"#f0f921\"]],\"type\":\"contour\"}],\"contourcarpet\":[{\"colorbar\":{\"outlinewidth\":0,\"ticks\":\"\"},\"type\":\"contourcarpet\"}],\"heatmap\":[{\"colorbar\":{\"outlinewidth\":0,\"ticks\":\"\"},\"colorscale\":[[0.0,\"#0d0887\"],[0.1111111111111111,\"#46039f\"],[0.2222222222222222,\"#7201a8\"],[0.3333333333333333,\"#9c179e\"],[0.4444444444444444,\"#bd3786\"],[0.5555555555555556,\"#d8576b\"],[0.6666666666666666,\"#ed7953\"],[0.7777777777777778,\"#fb9f3a\"],[0.8888888888888888,\"#fdca26\"],[1.0,\"#f0f921\"]],\"type\":\"heatmap\"}],\"heatmapgl\":[{\"colorbar\":{\"outlinewidth\":0,\"ticks\":\"\"},\"colorscale\":[[0.0,\"#0d0887\"],[0.1111111111111111,\"#46039f\"],[0.2222222222222222,\"#7201a8\"],[0.3333333333333333,\"#9c179e\"],[0.4444444444444444,\"#bd3786\"],[0.5555555555555556,\"#d8576b\"],[0.6666666666666666,\"#ed7953\"],[0.7777777777777778,\"#fb9f3a\"],[0.8888888888888888,\"#fdca26\"],[1.0,\"#f0f921\"]],\"type\":\"heatmapgl\"}],\"histogram\":[{\"marker\":{\"pattern\":{\"fillmode\":\"overlay\",\"size\":10,\"solidity\":0.2}},\"type\":\"histogram\"}],\"histogram2d\":[{\"colorbar\":{\"outlinewidth\":0,\"ticks\":\"\"},\"colorscale\":[[0.0,\"#0d0887\"],[0.1111111111111111,\"#46039f\"],[0.2222222222222222,\"#7201a8\"],[0.3333333333333333,\"#9c179e\"],[0.4444444444444444,\"#bd3786\"],[0.5555555555555556,\"#d8576b\"],[0.6666666666666666,\"#ed7953\"],[0.7777777777777778,\"#fb9f3a\"],[0.8888888888888888,\"#fdca26\"],[1.0,\"#f0f921\"]],\"type\":\"histogram2d\"}],\"histogram2dcontour\":[{\"colorbar\":{\"outlinewidth\":0,\"ticks\":\"\"},\"colorscale\":[[0.0,\"#0d0887\"],[0.1111111111111111,\"#46039f\"],[0.2222222222222222,\"#7201a8\"],[0.3333333333333333,\"#9c179e\"],[0.4444444444444444,\"#bd3786\"],[0.5555555555555556,\"#d8576b\"],[0.6666666666666666,\"#ed7953\"],[0.7777777777777778,\"#fb9f3a\"],[0.8888888888888888,\"#fdca26\"],[1.0,\"#f0f921\"]],\"type\":\"histogram2dcontour\"}],\"mesh3d\":[{\"colorbar\":{\"outlinewidth\":0,\"ticks\":\"\"},\"type\":\"mesh3d\"}],\"parcoords\":[{\"line\":{\"colorbar\":{\"outlinewidth\":0,\"ticks\":\"\"}},\"type\":\"parcoords\"}],\"pie\":[{\"automargin\":true,\"type\":\"pie\"}],\"scatter\":[{\"marker\":{\"colorbar\":{\"outlinewidth\":0,\"ticks\":\"\"}},\"type\":\"scatter\"}],\"scatter3d\":[{\"line\":{\"colorbar\":{\"outlinewidth\":0,\"ticks\":\"\"}},\"marker\":{\"colorbar\":{\"outlinewidth\":0,\"ticks\":\"\"}},\"type\":\"scatter3d\"}],\"scattercarpet\":[{\"marker\":{\"colorbar\":{\"outlinewidth\":0,\"ticks\":\"\"}},\"type\":\"scattercarpet\"}],\"scattergeo\":[{\"marker\":{\"colorbar\":{\"outlinewidth\":0,\"ticks\":\"\"}},\"type\":\"scattergeo\"}],\"scattergl\":[{\"marker\":{\"colorbar\":{\"outlinewidth\":0,\"ticks\":\"\"}},\"type\":\"scattergl\"}],\"scattermapbox\":[{\"marker\":{\"colorbar\":{\"outlinewidth\":0,\"ticks\":\"\"}},\"type\":\"scattermapbox\"}],\"scatterpolar\":[{\"marker\":{\"colorbar\":{\"outlinewidth\":0,\"ticks\":\"\"}},\"type\":\"scatterpolar\"}],\"scatterpolargl\":[{\"marker\":{\"colorbar\":{\"outlinewidth\":0,\"ticks\":\"\"}},\"type\":\"scatterpolargl\"}],\"scatterternary\":[{\"marker\":{\"colorbar\":{\"outlinewidth\":0,\"ticks\":\"\"}},\"type\":\"scatterternary\"}],\"surface\":[{\"colorbar\":{\"outlinewidth\":0,\"ticks\":\"\"},\"colorscale\":[[0.0,\"#0d0887\"],[0.1111111111111111,\"#46039f\"],[0.2222222222222222,\"#7201a8\"],[0.3333333333333333,\"#9c179e\"],[0.4444444444444444,\"#bd3786\"],[0.5555555555555556,\"#d8576b\"],[0.6666666666666666,\"#ed7953\"],[0.7777777777777778,\"#fb9f3a\"],[0.8888888888888888,\"#fdca26\"],[1.0,\"#f0f921\"]],\"type\":\"surface\"}],\"table\":[{\"cells\":{\"fill\":{\"color\":\"#EBF0F8\"},\"line\":{\"color\":\"white\"}},\"header\":{\"fill\":{\"color\":\"#C8D4E3\"},\"line\":{\"color\":\"white\"}},\"type\":\"table\"}]},\"layout\":{\"annotationdefaults\":{\"arrowcolor\":\"#2a3f5f\",\"arrowhead\":0,\"arrowwidth\":1},\"autotypenumbers\":\"strict\",\"coloraxis\":{\"colorbar\":{\"outlinewidth\":0,\"ticks\":\"\"}},\"colorscale\":{\"diverging\":[[0,\"#8e0152\"],[0.1,\"#c51b7d\"],[0.2,\"#de77ae\"],[0.3,\"#f1b6da\"],[0.4,\"#fde0ef\"],[0.5,\"#f7f7f7\"],[0.6,\"#e6f5d0\"],[0.7,\"#b8e186\"],[0.8,\"#7fbc41\"],[0.9,\"#4d9221\"],[1,\"#276419\"]],\"sequential\":[[0.0,\"#0d0887\"],[0.1111111111111111,\"#46039f\"],[0.2222222222222222,\"#7201a8\"],[0.3333333333333333,\"#9c179e\"],[0.4444444444444444,\"#bd3786\"],[0.5555555555555556,\"#d8576b\"],[0.6666666666666666,\"#ed7953\"],[0.7777777777777778,\"#fb9f3a\"],[0.8888888888888888,\"#fdca26\"],[1.0,\"#f0f921\"]],\"sequentialminus\":[[0.0,\"#0d0887\"],[0.1111111111111111,\"#46039f\"],[0.2222222222222222,\"#7201a8\"],[0.3333333333333333,\"#9c179e\"],[0.4444444444444444,\"#bd3786\"],[0.5555555555555556,\"#d8576b\"],[0.6666666666666666,\"#ed7953\"],[0.7777777777777778,\"#fb9f3a\"],[0.8888888888888888,\"#fdca26\"],[1.0,\"#f0f921\"]]},\"colorway\":[\"#636efa\",\"#EF553B\",\"#00cc96\",\"#ab63fa\",\"#FFA15A\",\"#19d3f3\",\"#FF6692\",\"#B6E880\",\"#FF97FF\",\"#FECB52\"],\"font\":{\"color\":\"#2a3f5f\"},\"geo\":{\"bgcolor\":\"white\",\"lakecolor\":\"white\",\"landcolor\":\"#E5ECF6\",\"showlakes\":true,\"showland\":true,\"subunitcolor\":\"white\"},\"hoverlabel\":{\"align\":\"left\"},\"hovermode\":\"closest\",\"mapbox\":{\"style\":\"light\"},\"paper_bgcolor\":\"white\",\"plot_bgcolor\":\"#E5ECF6\",\"polar\":{\"angularaxis\":{\"gridcolor\":\"white\",\"linecolor\":\"white\",\"ticks\":\"\"},\"bgcolor\":\"#E5ECF6\",\"radialaxis\":{\"gridcolor\":\"white\",\"linecolor\":\"white\",\"ticks\":\"\"}},\"scene\":{\"xaxis\":{\"backgroundcolor\":\"#E5ECF6\",\"gridcolor\":\"white\",\"gridwidth\":2,\"linecolor\":\"white\",\"showbackground\":true,\"ticks\":\"\",\"zerolinecolor\":\"white\"},\"yaxis\":{\"backgroundcolor\":\"#E5ECF6\",\"gridcolor\":\"white\",\"gridwidth\":2,\"linecolor\":\"white\",\"showbackground\":true,\"ticks\":\"\",\"zerolinecolor\":\"white\"},\"zaxis\":{\"backgroundcolor\":\"#E5ECF6\",\"gridcolor\":\"white\",\"gridwidth\":2,\"linecolor\":\"white\",\"showbackground\":true,\"ticks\":\"\",\"zerolinecolor\":\"white\"}},\"shapedefaults\":{\"line\":{\"color\":\"#2a3f5f\"}},\"ternary\":{\"aaxis\":{\"gridcolor\":\"white\",\"linecolor\":\"white\",\"ticks\":\"\"},\"baxis\":{\"gridcolor\":\"white\",\"linecolor\":\"white\",\"ticks\":\"\"},\"bgcolor\":\"#E5ECF6\",\"caxis\":{\"gridcolor\":\"white\",\"linecolor\":\"white\",\"ticks\":\"\"}},\"title\":{\"x\":0.05},\"xaxis\":{\"automargin\":true,\"gridcolor\":\"white\",\"linecolor\":\"white\",\"ticks\":\"\",\"title\":{\"standoff\":15},\"zerolinecolor\":\"white\",\"zerolinewidth\":2},\"yaxis\":{\"automargin\":true,\"gridcolor\":\"white\",\"linecolor\":\"white\",\"ticks\":\"\",\"title\":{\"standoff\":15},\"zerolinecolor\":\"white\",\"zerolinewidth\":2}}},\"xaxis\":{\"rangeslider\":{\"visible\":true},\"rangeselector\":{\"buttons\":[{\"count\":1,\"label\":\"1y\",\"step\":\"year\",\"stepmode\":\"todate\"},{\"count\":2,\"label\":\"2y\",\"step\":\"year\",\"stepmode\":\"todate\"},{\"count\":3,\"label\":\"3y\",\"step\":\"year\",\"stepmode\":\"todate\"},{\"step\":\"all\"}]},\"title\":{\"text\":\"Date\"}},\"title\":{\"text\":\"Stock Data\",\"x\":0.5,\"xanchor\":\"center\",\"yanchor\":\"top\"},\"yaxis\":{\"title\":{\"text\":\"Close Values\"}}},                        {\"responsive\": true}                    ).then(function(){\n",
              "                            \n",
              "var gd = document.getElementById('e6c86bc9-bdba-4951-920a-ad41b0e109cc');\n",
              "var x = new MutationObserver(function (mutations, observer) {{\n",
              "        var display = window.getComputedStyle(gd).display;\n",
              "        if (!display || display === 'none') {{\n",
              "            console.log([gd, 'removed!']);\n",
              "            Plotly.purge(gd);\n",
              "            observer.disconnect();\n",
              "        }}\n",
              "}});\n",
              "\n",
              "// Listen for the removal of the full notebook cells\n",
              "var notebookContainer = gd.closest('#notebook-container');\n",
              "if (notebookContainer) {{\n",
              "    x.observe(notebookContainer, {childList: true});\n",
              "}}\n",
              "\n",
              "// Listen for the clearing of the current output cell\n",
              "var outputEl = gd.closest('.output');\n",
              "if (outputEl) {{\n",
              "    x.observe(outputEl, {childList: true});\n",
              "}}\n",
              "\n",
              "                        })                };                            </script>        </div>\n",
              "</body>\n",
              "</html>"
            ]
          },
          "metadata": {}
        }
      ]
    }
  ]
}